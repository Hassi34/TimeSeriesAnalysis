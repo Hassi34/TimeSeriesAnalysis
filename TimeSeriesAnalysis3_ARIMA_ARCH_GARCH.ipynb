{
 "cells": [
  {
   "cell_type": "code",
   "execution_count": 1,
   "id": "d4aa30e1",
   "metadata": {},
   "outputs": [
    {
     "data": {
      "text/html": [
       "<style>.container {width: 100% !important; }</style>"
      ],
      "text/plain": [
       "<IPython.core.display.HTML object>"
      ]
     },
     "metadata": {},
     "output_type": "display_data"
    }
   ],
   "source": [
    "from IPython.core.display import display, HTML\n",
    "display(HTML(\"<style>.container {width: 100% !important; }</style>\"))"
   ]
  },
  {
   "cell_type": "code",
   "execution_count": 4,
   "id": "21d4072d",
   "metadata": {},
   "outputs": [],
   "source": [
    "import warnings\n",
    "warnings.filterwarnings('ignore')\n",
    "import pandas as pd \n",
    "import numpy as np\n",
    "import matplotlib.pyplot as plt\n",
    "import seaborn as sns\n",
    "import scipy\n",
    "import pylab\n",
    "from arch import arch_model\n",
    "from statsmodels.tsa.stattools import adfuller\n",
    "from statsmodels.tsa.seasonal import seasonal_decompose\n",
    "import statsmodels.graphics.tsaplots as sgt\n",
    "from statsmodels.tsa.arima_model import ARIMA \n",
    "from statsmodels.tsa.statespace.sarimax import SARIMAX\n",
    "from scipy.stats.distributions import chi2\n",
    "sns.set()"
   ]
  },
  {
   "cell_type": "code",
   "execution_count": 5,
   "id": "6d882286",
   "metadata": {},
   "outputs": [],
   "source": [
    "def LLR_Test(mod_1, mod_2, DF=1):\n",
    "    L1 = mod_1.llf\n",
    "    L2 = mod_2.llf\n",
    "    LR = (2*(L2-L1))\n",
    "    p = chi2.sf(LR, DF).round(3)\n",
    "    return p\n",
    "raw_csv_data = pd.read_csv(\"Index2018.csv\")\n",
    "\n",
    "df_comp = raw_csv_data.copy()\n",
    "df_comp.date = pd.to_datetime(df_comp.date, dayfirst= True )\n",
    "df_comp.set_index('date', inplace=True)\n",
    "df_comp = df_comp.asfreq('b')\n",
    "df_comp = df_comp.fillna(method='ffill')\n",
    "df_comp['market_value'] = df_comp.ftse\n",
    "del  df_comp['dax'], df_comp['nikkei'], df_comp['ftse']\n",
    "\n",
    "size = int(len(df_comp)*0.8)\n",
    "df, df_test = df_comp.iloc[:size], df_comp.iloc[size:]\n",
    "df['returns'] = df.market_value.pct_change(1).mul(100)"
   ]
  },
  {
   "cell_type": "markdown",
   "id": "66a4daad",
   "metadata": {},
   "source": [
    "## ARIMA(1,1,1)"
   ]
  },
  {
   "cell_type": "code",
   "execution_count": 6,
   "id": "4c6bbcb3",
   "metadata": {},
   "outputs": [
    {
     "data": {
      "text/html": [
       "<table class=\"simpletable\">\n",
       "<caption>ARIMA Model Results</caption>\n",
       "<tr>\n",
       "  <th>Dep. Variable:</th>  <td>D.market_value</td>  <th>  No. Observations:  </th>    <td>5020</td>   \n",
       "</tr>\n",
       "<tr>\n",
       "  <th>Model:</th>          <td>ARIMA(1, 1, 1)</td>  <th>  Log Likelihood     </th> <td>-27603.666</td>\n",
       "</tr>\n",
       "<tr>\n",
       "  <th>Method:</th>             <td>css-mle</td>     <th>  S.D. of innovations</th>   <td>59.134</td>  \n",
       "</tr>\n",
       "<tr>\n",
       "  <th>Date:</th>          <td>Sun, 22 Aug 2021</td> <th>  AIC                </th>  <td>55215.333</td>\n",
       "</tr>\n",
       "<tr>\n",
       "  <th>Time:</th>              <td>21:52:42</td>     <th>  BIC                </th>  <td>55241.418</td>\n",
       "</tr>\n",
       "<tr>\n",
       "  <th>Sample:</th>           <td>01-10-1994</td>    <th>  HQIC               </th>  <td>55224.473</td>\n",
       "</tr>\n",
       "<tr>\n",
       "  <th></th>                 <td>- 04-05-2013</td>   <th>                     </th>      <td> </td>    \n",
       "</tr>\n",
       "</table>\n",
       "<table class=\"simpletable\">\n",
       "<tr>\n",
       "            <td></td>              <th>coef</th>     <th>std err</th>      <th>z</th>      <th>P>|z|</th>  <th>[0.025</th>    <th>0.975]</th>  \n",
       "</tr>\n",
       "<tr>\n",
       "  <th>const</th>                <td>    0.5656</td> <td>    0.682</td> <td>    0.829</td> <td> 0.407</td> <td>   -0.772</td> <td>    1.903</td>\n",
       "</tr>\n",
       "<tr>\n",
       "  <th>ar.L1.D.market_value</th> <td>    0.7475</td> <td>    0.070</td> <td>   10.652</td> <td> 0.000</td> <td>    0.610</td> <td>    0.885</td>\n",
       "</tr>\n",
       "<tr>\n",
       "  <th>ma.L1.D.market_value</th> <td>   -0.7936</td> <td>    0.064</td> <td>  -12.378</td> <td> 0.000</td> <td>   -0.919</td> <td>   -0.668</td>\n",
       "</tr>\n",
       "</table>\n",
       "<table class=\"simpletable\">\n",
       "<caption>Roots</caption>\n",
       "<tr>\n",
       "    <td></td>   <th>            Real</th>  <th>         Imaginary</th> <th>         Modulus</th>  <th>        Frequency</th>\n",
       "</tr>\n",
       "<tr>\n",
       "  <th>AR.1</th> <td>           1.3378</td> <td>          +0.0000j</td> <td>           1.3378</td> <td>           0.0000</td>\n",
       "</tr>\n",
       "<tr>\n",
       "  <th>MA.1</th> <td>           1.2601</td> <td>          +0.0000j</td> <td>           1.2601</td> <td>           0.0000</td>\n",
       "</tr>\n",
       "</table>"
      ],
      "text/plain": [
       "<class 'statsmodels.iolib.summary.Summary'>\n",
       "\"\"\"\n",
       "                             ARIMA Model Results                              \n",
       "==============================================================================\n",
       "Dep. Variable:         D.market_value   No. Observations:                 5020\n",
       "Model:                 ARIMA(1, 1, 1)   Log Likelihood              -27603.666\n",
       "Method:                       css-mle   S.D. of innovations             59.134\n",
       "Date:                Sun, 22 Aug 2021   AIC                          55215.333\n",
       "Time:                        21:52:42   BIC                          55241.418\n",
       "Sample:                    01-10-1994   HQIC                         55224.473\n",
       "                         - 04-05-2013                                         \n",
       "========================================================================================\n",
       "                           coef    std err          z      P>|z|      [0.025      0.975]\n",
       "----------------------------------------------------------------------------------------\n",
       "const                    0.5656      0.682      0.829      0.407      -0.772       1.903\n",
       "ar.L1.D.market_value     0.7475      0.070     10.652      0.000       0.610       0.885\n",
       "ma.L1.D.market_value    -0.7936      0.064    -12.378      0.000      -0.919      -0.668\n",
       "                                    Roots                                    \n",
       "=============================================================================\n",
       "                  Real          Imaginary           Modulus         Frequency\n",
       "-----------------------------------------------------------------------------\n",
       "AR.1            1.3378           +0.0000j            1.3378            0.0000\n",
       "MA.1            1.2601           +0.0000j            1.2601            0.0000\n",
       "-----------------------------------------------------------------------------\n",
       "\"\"\""
      ]
     },
     "execution_count": 6,
     "metadata": {},
     "output_type": "execute_result"
    }
   ],
   "source": [
    "model_ar1_i1_ma1 = ARIMA(df.market_value, order = (1,1,1))\n",
    "results_ar1_i1_ma1 = model_ar1_i1_ma1.fit()\n",
    "results_ar1_i1_ma1.summary()"
   ]
  },
  {
   "cell_type": "markdown",
   "id": "8639e9e0",
   "metadata": {},
   "source": [
    "## Residuals of ARIMA(1,1,1)"
   ]
  },
  {
   "cell_type": "code",
   "execution_count": 7,
   "id": "8a90f4d5",
   "metadata": {},
   "outputs": [
    {
     "data": {
      "image/png": "[encoded data removed]",
      "text/plain": [
       "<Figure size 432x288 with 1 Axes>"
      ]
     },
     "metadata": {},
     "output_type": "display_data"
    }
   ],
   "source": [
    "df['res_ar1_i1_ma1'] = results_ar1_i1_ma1.resid\n",
    "sgt.plot_acf(df.res_ar1_i1_ma1[1:], zero=False, lags=40)\n",
    "plt.title(\"ACF of Residuals of ARIMA(1,1,1)\", size=15);"
   ]
  },
  {
   "cell_type": "markdown",
   "id": "5472f582",
   "metadata": {},
   "source": [
    "Third and fourth lags are significant\n",
    "\n",
    "## Higher-Lag ARIMA Models"
   ]
  },
  {
   "cell_type": "code",
   "execution_count": 8,
   "id": "ca7e6d7c",
   "metadata": {},
   "outputs": [],
   "source": [
    "model_ar1_i1_ma2 = ARIMA(df.market_value, order = (1,1,2))\n",
    "results_ar1_i1_ma2 = model_ar1_i1_ma2.fit()\n",
    "model_ar1_i1_ma3 = ARIMA(df.market_value, order = (1,1,3))\n",
    "results_ar1_i1_ma3 = model_ar1_i1_ma3.fit()\n",
    "model_ar2_i1_ma1 = ARIMA(df.market_value, order = (2,1,1))\n",
    "results_ar2_i1_ma1 = model_ar2_i1_ma1.fit()\n",
    "model_ar3_i1_ma1 = ARIMA(df.market_value, order = (3,1,1))\n",
    "results_ar3_i1_ma1 = model_ar3_i1_ma1.fit()\n",
    "model_ar3_i1_ma2 = ARIMA(df.market_value, order = (3,1,2))\n",
    "results_ar3_i1_ma2 = model_ar3_i1_ma2.fit(start_ar_lags = 5)"
   ]
  },
  {
   "cell_type": "code",
   "execution_count": 9,
   "id": "13029140",
   "metadata": {},
   "outputs": [
    {
     "name": "stdout",
     "output_type": "stream",
     "text": [
      "\n",
      " ARIMA(1,1,1) : \tLL =  -27603.66641277381 \tAIC = 55215.33282554762\n",
      "\n",
      " ARIMA(1,1,2) : \tLL =  -27600.08186311427 \tAIC = 55210.16372622854\n",
      "\n",
      " ARIMA(1,1,3) : \tLL =  -27590.424032695926 \tAIC = 55192.84806539185\n",
      "\n",
      " ARIMA(2,1,1) : \tLL =  -27599.807487850678 \tAIC = 55209.614975701355\n",
      "\n",
      " ARIMA(3,1,1) : \tLL =  -27592.05537171336 \tAIC = 55196.11074342672\n",
      "\n",
      " ARIMA(3,1,2) : \tLL =  -27590.660808971326 \tAIC = 55195.32161794265\n"
     ]
    }
   ],
   "source": [
    "print(\"\\n ARIMA(1,1,1) : \\tLL = \", results_ar1_i1_ma1.llf, \"\\tAIC =\",results_ar1_i1_ma1.aic)\n",
    "print(\"\\n ARIMA(1,1,2) : \\tLL = \", results_ar1_i1_ma2.llf, \"\\tAIC =\",results_ar1_i1_ma2.aic)\n",
    "print(\"\\n ARIMA(1,1,3) : \\tLL = \", results_ar1_i1_ma3.llf, \"\\tAIC =\",results_ar1_i1_ma3.aic)\n",
    "print(\"\\n ARIMA(2,1,1) : \\tLL = \", results_ar2_i1_ma1.llf, \"\\tAIC =\",results_ar2_i1_ma1.aic)\n",
    "print(\"\\n ARIMA(3,1,1) : \\tLL = \", results_ar3_i1_ma1.llf, \"\\tAIC =\",results_ar3_i1_ma1.aic)\n",
    "print(\"\\n ARIMA(3,1,2) : \\tLL = \", results_ar3_i1_ma2.llf, \"\\tAIC =\",results_ar3_i1_ma2.aic)\n"
   ]
  },
  {
   "cell_type": "markdown",
   "id": "1df68ce0",
   "metadata": {},
   "source": [
    "Here the ARIMA(1,1,3) has the highest LL and lowest AIC, hence is the best but (1,1,1) and (1,1,2) are nested with (1,1,3) so we should perform the LLR test to confirm that it really outperforms"
   ]
  },
  {
   "cell_type": "code",
   "execution_count": 10,
   "id": "3f5086f0",
   "metadata": {},
   "outputs": [
    {
     "data": {
      "text/plain": [
       "0.0"
      ]
     },
     "execution_count": 10,
     "metadata": {},
     "output_type": "execute_result"
    }
   ],
   "source": [
    "LLR_Test(results_ar1_i1_ma2, results_ar1_i1_ma3) #This indicates that the complexity is necessary"
   ]
  },
  {
   "cell_type": "code",
   "execution_count": 11,
   "id": "dd94982a",
   "metadata": {},
   "outputs": [
    {
     "data": {
      "text/plain": [
       "0.0"
      ]
     },
     "execution_count": 11,
     "metadata": {},
     "output_type": "execute_result"
    }
   ],
   "source": [
    "LLR_Test(results_ar1_i1_ma1, results_ar1_i1_ma3, DF=2) #SO (1,1,3) appears to be the best choice out of the bunch"
   ]
  },
  {
   "cell_type": "code",
   "execution_count": 12,
   "id": "4fa70d73",
   "metadata": {},
   "outputs": [
    {
     "data": {
      "image/png": "[encoded data removed]",
      "text/plain": [
       "<Figure size 432x288 with 1 Axes>"
      ]
     },
     "metadata": {},
     "output_type": "display_data"
    }
   ],
   "source": [
    "df['res_ar1_i1_ma3'] = results_ar1_i1_ma3.resid\n",
    "sgt.plot_acf(df.res_ar1_i1_ma3[1:], zero=False, lags=40)\n",
    "plt.title(\"ACF of Residuals for ARIMA(1,1,3)\", size=15);"
   ]
  },
  {
   "cell_type": "code",
   "execution_count": 13,
   "id": "2c1c1315",
   "metadata": {},
   "outputs": [
    {
     "name": "stdout",
     "output_type": "stream",
     "text": [
      "\n",
      " ARIMA(5,1,1) : \tLL =  -27586.51188811405 \tAIC = 55189.0237762281\n",
      "\n",
      " ARIMA(6,1,3) : \tLL =  -27581.455478171887 \tAIC = 55184.910956343774\n",
      "\n",
      " ARIMA(1,1,3) : \tLL =  -27590.424032695926 \tAIC = 55192.84806539185\n"
     ]
    }
   ],
   "source": [
    "model_ar5_i1_ma1 = ARIMA(df.market_value, order = (5,1,1))\n",
    "results_ar5_i1_ma1 = model_ar5_i1_ma1.fit(start_ar_lags=11)\n",
    "model_ar6_i1_ma3 = ARIMA(df.market_value, order = (6,1,3))\n",
    "results_ar6_i1_ma3 = model_ar6_i1_ma3.fit()\n",
    "\n",
    "print(\"\\n ARIMA(5,1,1) : \\tLL = \", results_ar5_i1_ma1.llf, \"\\tAIC =\",results_ar5_i1_ma1.aic)\n",
    "print(\"\\n ARIMA(6,1,3) : \\tLL = \", results_ar6_i1_ma3.llf, \"\\tAIC =\",results_ar6_i1_ma3.aic)  \n",
    "print(\"\\n ARIMA(1,1,3) : \\tLL = \", results_ar1_i1_ma3.llf, \"\\tAIC =\",results_ar1_i1_ma3.aic)"
   ]
  },
  {
   "cell_type": "markdown",
   "id": "8022887d",
   "metadata": {},
   "source": [
    "(6,1,3) outperforms But since (1,1,3) and (5,1,1) are nested we can use LLR test to confirm that the additional complexity is worth it "
   ]
  },
  {
   "cell_type": "code",
   "execution_count": 14,
   "id": "c0da91d6",
   "metadata": {},
   "outputs": [
    {
     "data": {
      "text/plain": [
       "0.003"
      ]
     },
     "execution_count": 14,
     "metadata": {},
     "output_type": "execute_result"
    }
   ],
   "source": [
    "LLR_Test(results_ar1_i1_ma3, results_ar6_i1_ma3, DF=5) #Hence the higher complexity is rationalized as the LLR test gives a significant values "
   ]
  },
  {
   "cell_type": "code",
   "execution_count": 15,
   "id": "0087661b",
   "metadata": {},
   "outputs": [
    {
     "data": {
      "text/plain": [
       "0.018"
      ]
     },
     "execution_count": 15,
     "metadata": {},
     "output_type": "execute_result"
    }
   ],
   "source": [
    "LLR_Test(results_ar5_i1_ma1, results_ar6_i1_ma3, DF=3) "
   ]
  },
  {
   "cell_type": "code",
   "execution_count": 16,
   "id": "a3f69e94",
   "metadata": {},
   "outputs": [
    {
     "data": {
      "image/png": "[encoded data removed]",
      "text/plain": [
       "<Figure size 432x288 with 1 Axes>"
      ]
     },
     "metadata": {},
     "output_type": "display_data"
    }
   ],
   "source": [
    "df['res_ar6_i1_ma3'] = results_ar6_i1_ma3.resid\n",
    "sgt.plot_acf(df.res_ar6_i1_ma3[1:], zero=False, lags=40)\n",
    "plt.title(\"ACF of residuals of ARIMA (6,1,3)\");"
   ]
  },
  {
   "cell_type": "markdown",
   "id": "316dc8a4",
   "metadata": {},
   "source": [
    "## ARIMAX\n",
    "\n",
    "Here we need to specify exogeneous argument called \"exog\"<br>\n",
    "exog = array_type<br>\n",
    "value associated with every time period<br>"
   ]
  },
  {
   "cell_type": "code",
   "execution_count": 17,
   "id": "d910b445",
   "metadata": {},
   "outputs": [
    {
     "data": {
      "text/html": [
       "<table class=\"simpletable\">\n",
       "<caption>ARIMA Model Results</caption>\n",
       "<tr>\n",
       "  <th>Dep. Variable:</th>  <td>D.market_value</td>  <th>  No. Observations:  </th>    <td>5020</td>   \n",
       "</tr>\n",
       "<tr>\n",
       "  <th>Model:</th>          <td>ARIMA(1, 1, 1)</td>  <th>  Log Likelihood     </th> <td>-27603.556</td>\n",
       "</tr>\n",
       "<tr>\n",
       "  <th>Method:</th>             <td>css-mle</td>     <th>  S.D. of innovations</th>   <td>59.132</td>  \n",
       "</tr>\n",
       "<tr>\n",
       "  <th>Date:</th>          <td>Sun, 22 Aug 2021</td> <th>  AIC                </th>  <td>55217.112</td>\n",
       "</tr>\n",
       "<tr>\n",
       "  <th>Time:</th>              <td>21:52:56</td>     <th>  BIC                </th>  <td>55249.718</td>\n",
       "</tr>\n",
       "<tr>\n",
       "  <th>Sample:</th>           <td>01-10-1994</td>    <th>  HQIC               </th>  <td>55228.538</td>\n",
       "</tr>\n",
       "<tr>\n",
       "  <th></th>                 <td>- 04-05-2013</td>   <th>                     </th>      <td> </td>    \n",
       "</tr>\n",
       "</table>\n",
       "<table class=\"simpletable\">\n",
       "<tr>\n",
       "            <td></td>              <th>coef</th>     <th>std err</th>      <th>z</th>      <th>P>|z|</th>  <th>[0.025</th>    <th>0.975]</th>  \n",
       "</tr>\n",
       "<tr>\n",
       "  <th>const</th>                <td>   -0.5868</td> <td>    2.655</td> <td>   -0.221</td> <td> 0.825</td> <td>   -5.791</td> <td>    4.618</td>\n",
       "</tr>\n",
       "<tr>\n",
       "  <th>spx</th>                  <td>    0.0011</td> <td>    0.002</td> <td>    0.450</td> <td> 0.652</td> <td>   -0.004</td> <td>    0.006</td>\n",
       "</tr>\n",
       "<tr>\n",
       "  <th>ar.L1.D.market_value</th> <td>    0.7456</td> <td>    0.070</td> <td>   10.578</td> <td> 0.000</td> <td>    0.607</td> <td>    0.884</td>\n",
       "</tr>\n",
       "<tr>\n",
       "  <th>ma.L1.D.market_value</th> <td>   -0.7917</td> <td>    0.065</td> <td>  -12.273</td> <td> 0.000</td> <td>   -0.918</td> <td>   -0.665</td>\n",
       "</tr>\n",
       "</table>\n",
       "<table class=\"simpletable\">\n",
       "<caption>Roots</caption>\n",
       "<tr>\n",
       "    <td></td>   <th>            Real</th>  <th>         Imaginary</th> <th>         Modulus</th>  <th>        Frequency</th>\n",
       "</tr>\n",
       "<tr>\n",
       "  <th>AR.1</th> <td>           1.3412</td> <td>          +0.0000j</td> <td>           1.3412</td> <td>           0.0000</td>\n",
       "</tr>\n",
       "<tr>\n",
       "  <th>MA.1</th> <td>           1.2632</td> <td>          +0.0000j</td> <td>           1.2632</td> <td>           0.0000</td>\n",
       "</tr>\n",
       "</table>"
      ],
      "text/plain": [
       "<class 'statsmodels.iolib.summary.Summary'>\n",
       "\"\"\"\n",
       "                             ARIMA Model Results                              \n",
       "==============================================================================\n",
       "Dep. Variable:         D.market_value   No. Observations:                 5020\n",
       "Model:                 ARIMA(1, 1, 1)   Log Likelihood              -27603.556\n",
       "Method:                       css-mle   S.D. of innovations             59.132\n",
       "Date:                Sun, 22 Aug 2021   AIC                          55217.112\n",
       "Time:                        21:52:56   BIC                          55249.718\n",
       "Sample:                    01-10-1994   HQIC                         55228.538\n",
       "                         - 04-05-2013                                         \n",
       "========================================================================================\n",
       "                           coef    std err          z      P>|z|      [0.025      0.975]\n",
       "----------------------------------------------------------------------------------------\n",
       "const                   -0.5868      2.655     -0.221      0.825      -5.791       4.618\n",
       "spx                      0.0011      0.002      0.450      0.652      -0.004       0.006\n",
       "ar.L1.D.market_value     0.7456      0.070     10.578      0.000       0.607       0.884\n",
       "ma.L1.D.market_value    -0.7917      0.065    -12.273      0.000      -0.918      -0.665\n",
       "                                    Roots                                    \n",
       "=============================================================================\n",
       "                  Real          Imaginary           Modulus         Frequency\n",
       "-----------------------------------------------------------------------------\n",
       "AR.1            1.3412           +0.0000j            1.3412            0.0000\n",
       "MA.1            1.2632           +0.0000j            1.2632            0.0000\n",
       "-----------------------------------------------------------------------------\n",
       "\"\"\""
      ]
     },
     "execution_count": 17,
     "metadata": {},
     "output_type": "execute_result"
    }
   ],
   "source": [
    "model_ar1_i1_ma1_Xspx = ARIMA(df.market_value, exog=df.spx, order = (1,1,1)) #spx does not have a significant coefficient \n",
    "results_ar1_i1_ma1_Xspx = model_ar1_i1_ma1_Xspx.fit()                        # We can test the multiple variables as exog\n",
    "results_ar1_i1_ma1_Xspx.summary()"
   ]
  },
  {
   "cell_type": "markdown",
   "id": "386b4970",
   "metadata": {},
   "source": [
    "## SARIMAX"
   ]
  },
  {
   "cell_type": "code",
   "execution_count": 18,
   "id": "a4c43bbf",
   "metadata": {},
   "outputs": [
    {
     "data": {
      "text/html": [
       "<table class=\"simpletable\">\n",
       "<caption>SARIMAX Results</caption>\n",
       "<tr>\n",
       "  <th>Dep. Variable:</th>           <td>market_value</td>          <th>  No. Observations:  </th>    <td>5021</td>   \n",
       "</tr>\n",
       "<tr>\n",
       "  <th>Model:</th>           <td>SARIMAX(1, 0, 1)x(2, 0, 1, 5)</td> <th>  Log Likelihood     </th> <td>-26712.624</td>\n",
       "</tr>\n",
       "<tr>\n",
       "  <th>Date:</th>                  <td>Sun, 22 Aug 2021</td>        <th>  AIC                </th>  <td>53439.248</td>\n",
       "</tr>\n",
       "<tr>\n",
       "  <th>Time:</th>                      <td>21:53:07</td>            <th>  BIC                </th>  <td>53484.898</td>\n",
       "</tr>\n",
       "<tr>\n",
       "  <th>Sample:</th>                   <td>01-07-1994</td>           <th>  HQIC               </th>  <td>53455.245</td>\n",
       "</tr>\n",
       "<tr>\n",
       "  <th></th>                         <td>- 04-05-2013</td>          <th>                     </th>      <td> </td>    \n",
       "</tr>\n",
       "<tr>\n",
       "  <th>Covariance Type:</th>              <td>opg</td>              <th>                     </th>      <td> </td>    \n",
       "</tr>\n",
       "</table>\n",
       "<table class=\"simpletable\">\n",
       "<tr>\n",
       "      <td></td>        <th>coef</th>     <th>std err</th>      <th>z</th>      <th>P>|z|</th>  <th>[0.025</th>    <th>0.975]</th>  \n",
       "</tr>\n",
       "<tr>\n",
       "  <th>spx</th>      <td>    2.7026</td> <td>    0.035</td> <td>   76.161</td> <td> 0.000</td> <td>    2.633</td> <td>    2.772</td>\n",
       "</tr>\n",
       "<tr>\n",
       "  <th>ar.L1</th>    <td>    0.9998</td> <td>    0.000</td> <td> 2350.950</td> <td> 0.000</td> <td>    0.999</td> <td>    1.001</td>\n",
       "</tr>\n",
       "<tr>\n",
       "  <th>ma.L1</th>    <td>   -0.3100</td> <td>    0.010</td> <td>  -32.552</td> <td> 0.000</td> <td>   -0.329</td> <td>   -0.291</td>\n",
       "</tr>\n",
       "<tr>\n",
       "  <th>ar.S.L5</th>  <td>    0.9651</td> <td>    0.011</td> <td>   86.947</td> <td> 0.000</td> <td>    0.943</td> <td>    0.987</td>\n",
       "</tr>\n",
       "<tr>\n",
       "  <th>ar.S.L10</th> <td>    0.0345</td> <td>    0.010</td> <td>    3.351</td> <td> 0.001</td> <td>    0.014</td> <td>    0.055</td>\n",
       "</tr>\n",
       "<tr>\n",
       "  <th>ma.S.L5</th>  <td>   -0.9989</td> <td>    0.006</td> <td> -168.599</td> <td> 0.000</td> <td>   -1.010</td> <td>   -0.987</td>\n",
       "</tr>\n",
       "<tr>\n",
       "  <th>sigma2</th>   <td> 2440.6058</td> <td>   28.398</td> <td>   85.944</td> <td> 0.000</td> <td> 2384.947</td> <td> 2496.264</td>\n",
       "</tr>\n",
       "</table>\n",
       "<table class=\"simpletable\">\n",
       "<tr>\n",
       "  <th>Ljung-Box (L1) (Q):</th>     <td>1.62</td> <th>  Jarque-Bera (JB):  </th> <td>4206.93</td>\n",
       "</tr>\n",
       "<tr>\n",
       "  <th>Prob(Q):</th>                <td>0.20</td> <th>  Prob(JB):          </th>  <td>0.00</td>  \n",
       "</tr>\n",
       "<tr>\n",
       "  <th>Heteroskedasticity (H):</th> <td>1.24</td> <th>  Skew:              </th>  <td>-0.52</td> \n",
       "</tr>\n",
       "<tr>\n",
       "  <th>Prob(H) (two-sided):</th>    <td>0.00</td> <th>  Kurtosis:          </th>  <td>7.36</td>  \n",
       "</tr>\n",
       "</table><br/><br/>Warnings:<br/>[1] Covariance matrix calculated using the outer product of gradients (complex-step)."
      ],
      "text/plain": [
       "<class 'statsmodels.iolib.summary.Summary'>\n",
       "\"\"\"\n",
       "                                     SARIMAX Results                                     \n",
       "=========================================================================================\n",
       "Dep. Variable:                      market_value   No. Observations:                 5021\n",
       "Model:             SARIMAX(1, 0, 1)x(2, 0, 1, 5)   Log Likelihood              -26712.624\n",
       "Date:                           Sun, 22 Aug 2021   AIC                          53439.248\n",
       "Time:                                   21:53:07   BIC                          53484.898\n",
       "Sample:                               01-07-1994   HQIC                         53455.245\n",
       "                                    - 04-05-2013                                         \n",
       "Covariance Type:                             opg                                         \n",
       "==============================================================================\n",
       "                 coef    std err          z      P>|z|      [0.025      0.975]\n",
       "------------------------------------------------------------------------------\n",
       "spx            2.7026      0.035     76.161      0.000       2.633       2.772\n",
       "ar.L1          0.9998      0.000   2350.950      0.000       0.999       1.001\n",
       "ma.L1         -0.3100      0.010    -32.552      0.000      -0.329      -0.291\n",
       "ar.S.L5        0.9651      0.011     86.947      0.000       0.943       0.987\n",
       "ar.S.L10       0.0345      0.010      3.351      0.001       0.014       0.055\n",
       "ma.S.L5       -0.9989      0.006   -168.599      0.000      -1.010      -0.987\n",
       "sigma2      2440.6058     28.398     85.944      0.000    2384.947    2496.264\n",
       "===================================================================================\n",
       "Ljung-Box (L1) (Q):                   1.62   Jarque-Bera (JB):              4206.93\n",
       "Prob(Q):                              0.20   Prob(JB):                         0.00\n",
       "Heteroskedasticity (H):               1.24   Skew:                            -0.52\n",
       "Prob(H) (two-sided):                  0.00   Kurtosis:                         7.36\n",
       "===================================================================================\n",
       "\n",
       "Warnings:\n",
       "[1] Covariance matrix calculated using the outer product of gradients (complex-step).\n",
       "\"\"\""
      ]
     },
     "execution_count": 18,
     "metadata": {},
     "output_type": "execute_result"
    }
   ],
   "source": [
    "model_sarimax = SARIMAX(df.market_value, exog=df.spx, order = (1,0,1), seasonal_order=(2,0,1,5)) \n",
    "results_sarimax = model_sarimax.fit()                        \n",
    "results_sarimax.summary()"
   ]
  },
  {
   "cell_type": "markdown",
   "id": "637b5321",
   "metadata": {},
   "source": [
    "## ARCH (Autoregressive Conditional Heteroskedasticity Model)\n",
    "\n",
    "Creating squred returns"
   ]
  },
  {
   "cell_type": "code",
   "execution_count": 19,
   "id": "035844c9",
   "metadata": {},
   "outputs": [
    {
     "data": {
      "image/png": "[encoded data removed]",
      "text/plain": [
       "<Figure size 1440x360 with 1 Axes>"
      ]
     },
     "metadata": {},
     "output_type": "display_data"
    }
   ],
   "source": [
    "df['sq_returns'] = df.returns.mul(df.returns)\n",
    "df.returns.plot(figsize=(20,5))\n",
    "plt.title(\"Returns\", size=24)\n",
    "plt.show()"
   ]
  },
  {
   "cell_type": "code",
   "execution_count": 20,
   "id": "9fdfa100",
   "metadata": {},
   "outputs": [
    {
     "data": {
      "image/png": "[encoded data removed]",
      "text/plain": [
       "<Figure size 1440x360 with 1 Axes>"
      ]
     },
     "metadata": {},
     "output_type": "display_data"
    }
   ],
   "source": [
    "df.sq_returns.plot(figsize=(20,5))\n",
    "plt.title(\"Volatility\", size=24)\n",
    "plt.show()"
   ]
  },
  {
   "cell_type": "code",
   "execution_count": 21,
   "id": "3683c82c",
   "metadata": {},
   "outputs": [
    {
     "data": {
      "image/png": "[encoded data removed]",
      "text/plain": [
       "<Figure size 432x288 with 1 Axes>"
      ]
     },
     "metadata": {},
     "output_type": "display_data"
    }
   ],
   "source": [
    "sgt.plot_pacf(df.returns[1:], zero=False, lags=40, alpha=0.05, method=('ols'))\n",
    "plt.title(\"PACF of Returns\", size=20)\n",
    "plt.show()"
   ]
  },
  {
   "cell_type": "code",
   "execution_count": 22,
   "id": "87407aaf",
   "metadata": {},
   "outputs": [
    {
     "data": {
      "image/png": "[encoded data removed]",
      "text/plain": [
       "<Figure size 432x288 with 1 Axes>"
      ]
     },
     "metadata": {},
     "output_type": "display_data"
    }
   ],
   "source": [
    "sgt.plot_pacf(df.sq_returns[1:], zero=False, lags=40, alpha=0.05, method=('ols'))\n",
    "plt.title(\"PACF of Squared Returns\", size=20)\n",
    "plt.show()"
   ]
  },
  {
   "cell_type": "code",
   "execution_count": 26,
   "id": "9b600a9c",
   "metadata": {},
   "outputs": [
    {
     "name": "stdout",
     "output_type": "stream",
     "text": [
      "Iteration:      5,   Func. Count:     39,   Neg. LLF: 6972.734773031138\n",
      "Iteration:     10,   Func. Count:     73,   Neg. LLF: 6970.088047158355\n",
      "Optimization terminated successfully.    (Exit mode 0)\n",
      "            Current function value: 6970.058366189876\n",
      "            Iterations: 13\n",
      "            Function evaluations: 91\n",
      "            Gradient evaluations: 13\n"
     ]
    },
    {
     "data": {
      "text/html": [
       "<table class=\"simpletable\">\n",
       "<caption>Constant Mean - GARCH Model Results</caption>\n",
       "<tr>\n",
       "  <th>Dep. Variable:</th>       <td>returns</td>      <th>  R-squared:         </th>  <td>   0.000</td> \n",
       "</tr>\n",
       "<tr>\n",
       "  <th>Mean Model:</th>       <td>Constant Mean</td>   <th>  Adj. R-squared:    </th>  <td>   0.000</td> \n",
       "</tr>\n",
       "<tr>\n",
       "  <th>Vol Model:</th>            <td>GARCH</td>       <th>  Log-Likelihood:    </th> <td>  -6970.06</td>\n",
       "</tr>\n",
       "<tr>\n",
       "  <th>Distribution:</th>        <td>Normal</td>       <th>  AIC:               </th> <td>   13948.1</td>\n",
       "</tr>\n",
       "<tr>\n",
       "  <th>Method:</th>        <td>Maximum Likelihood</td> <th>  BIC:               </th> <td>   13974.2</td>\n",
       "</tr>\n",
       "<tr>\n",
       "  <th></th>                        <td></td>          <th>  No. Observations:  </th>    <td>5020</td>   \n",
       "</tr>\n",
       "<tr>\n",
       "  <th>Date:</th>           <td>Sun, Aug 22 2021</td>  <th>  Df Residuals:      </th>    <td>5019</td>   \n",
       "</tr>\n",
       "<tr>\n",
       "  <th>Time:</th>               <td>22:51:07</td>      <th>  Df Model:          </th>      <td>1</td>    \n",
       "</tr>\n",
       "</table>\n",
       "<table class=\"simpletable\">\n",
       "<caption>Mean Model</caption>\n",
       "<tr>\n",
       "   <td></td>     <th>coef</th>     <th>std err</th>      <th>t</th>       <th>P>|t|</th>     <th>95.0% Conf. Int.</th>   \n",
       "</tr>\n",
       "<tr>\n",
       "  <th>mu</th> <td>    0.0466</td> <td>1.183e-02</td> <td>    3.939</td> <td>8.187e-05</td> <td>[2.342e-02,6.981e-02]</td>\n",
       "</tr>\n",
       "</table>\n",
       "<table class=\"simpletable\">\n",
       "<caption>Volatility Model</caption>\n",
       "<tr>\n",
       "      <td></td>        <th>coef</th>     <th>std err</th>      <th>t</th>       <th>P>|t|</th>     <th>95.0% Conf. Int.</th>   \n",
       "</tr>\n",
       "<tr>\n",
       "  <th>omega</th>    <td>    0.0109</td> <td>3.004e-03</td> <td>    3.640</td> <td>2.724e-04</td> <td>[5.048e-03,1.682e-02]</td>\n",
       "</tr>\n",
       "<tr>\n",
       "  <th>alpha[1]</th> <td>    0.0835</td> <td>1.071e-02</td> <td>    7.794</td> <td>6.476e-15</td>  <td>[6.249e-02,  0.104]</td> \n",
       "</tr>\n",
       "<tr>\n",
       "  <th>beta[1]</th>  <td>    0.9089</td> <td>1.148e-02</td> <td>   79.168</td>   <td>0.000</td>     <td>[  0.886,  0.931]</td>  \n",
       "</tr>\n",
       "</table><br/><br/>Covariance estimator: robust"
      ],
      "text/plain": [
       "<class 'statsmodels.iolib.summary.Summary'>\n",
       "\"\"\"\n",
       "                     Constant Mean - GARCH Model Results                      \n",
       "==============================================================================\n",
       "Dep. Variable:                returns   R-squared:                       0.000\n",
       "Mean Model:             Constant Mean   Adj. R-squared:                  0.000\n",
       "Vol Model:                      GARCH   Log-Likelihood:               -6970.06\n",
       "Distribution:                  Normal   AIC:                           13948.1\n",
       "Method:            Maximum Likelihood   BIC:                           13974.2\n",
       "                                        No. Observations:                 5020\n",
       "Date:                Sun, Aug 22 2021   Df Residuals:                     5019\n",
       "Time:                        22:51:07   Df Model:                            1\n",
       "                                 Mean Model                                 \n",
       "============================================================================\n",
       "                 coef    std err          t      P>|t|      95.0% Conf. Int.\n",
       "----------------------------------------------------------------------------\n",
       "mu             0.0466  1.183e-02      3.939  8.187e-05 [2.342e-02,6.981e-02]\n",
       "                              Volatility Model                              \n",
       "============================================================================\n",
       "                 coef    std err          t      P>|t|      95.0% Conf. Int.\n",
       "----------------------------------------------------------------------------\n",
       "omega          0.0109  3.004e-03      3.640  2.724e-04 [5.048e-03,1.682e-02]\n",
       "alpha[1]       0.0835  1.071e-02      7.794  6.476e-15   [6.249e-02,  0.104]\n",
       "beta[1]        0.9089  1.148e-02     79.168      0.000     [  0.886,  0.931]\n",
       "============================================================================\n",
       "\n",
       "Covariance estimator: robust\n",
       "\"\"\""
      ]
     },
     "execution_count": 26,
     "metadata": {},
     "output_type": "execute_result"
    }
   ],
   "source": [
    "model_arch1 = arch_model(df.returns[1:])\n",
    "results_arch1 = model_arch1.fit(update_freq=5)\n",
    "results_arch1.summary()"
   ]
  },
  {
   "cell_type": "code",
   "execution_count": 27,
   "id": "c55ad998",
   "metadata": {},
   "outputs": [
    {
     "name": "stdout",
     "output_type": "stream",
     "text": [
      "Iteration:      5,   Func. Count:     56,   Neg. LLF: 7392.97877844088\n",
      "Iteration:     10,   Func. Count:    109,   Neg. LLF: 7320.749163320877\n",
      "Iteration:     15,   Func. Count:    156,   Neg. LLF: 7317.119673961752\n",
      "Iteration:     20,   Func. Count:    205,   Neg. LLF: 7317.118107649329\n",
      "Optimization terminated successfully.    (Exit mode 0)\n",
      "            Current function value: 7317.118092667351\n",
      "            Iterations: 22\n",
      "            Function evaluations: 228\n",
      "            Gradient evaluations: 22\n"
     ]
    },
    {
     "data": {
      "text/html": [
       "<table class=\"simpletable\">\n",
       "<caption>AR - ARCH Model Results</caption>\n",
       "<tr>\n",
       "  <th>Dep. Variable:</th>             <td>returns</td>            <th>  R-squared:         </th>  <td>   0.008</td> \n",
       "</tr>\n",
       "<tr>\n",
       "  <th>Mean Model:</th>                  <td>AR</td>               <th>  Adj. R-squared:    </th>  <td>   0.007</td> \n",
       "</tr>\n",
       "<tr>\n",
       "  <th>Vol Model:</th>                  <td>ARCH</td>              <th>  Log-Likelihood:    </th> <td>  -7317.12</td>\n",
       "</tr>\n",
       "<tr>\n",
       "  <th>Distribution:</th>  <td>Generalized Error Distribution</td> <th>  AIC:               </th> <td>   14648.2</td>\n",
       "</tr>\n",
       "<tr>\n",
       "  <th>Method:</th>              <td>Maximum Likelihood</td>       <th>  BIC:               </th> <td>   14693.9</td>\n",
       "</tr>\n",
       "<tr>\n",
       "  <th></th>                              <td></td>                <th>  No. Observations:  </th>    <td>5014</td>   \n",
       "</tr>\n",
       "<tr>\n",
       "  <th>Date:</th>                 <td>Sun, Aug 22 2021</td>        <th>  Df Residuals:      </th>    <td>5010</td>   \n",
       "</tr>\n",
       "<tr>\n",
       "  <th>Time:</th>                     <td>23:04:27</td>            <th>  Df Model:          </th>      <td>4</td>    \n",
       "</tr>\n",
       "</table>\n",
       "<table class=\"simpletable\">\n",
       "<caption>Mean Model</caption>\n",
       "<tr>\n",
       "       <td></td>         <th>coef</th>     <th>std err</th>      <th>t</th>       <th>P>|t|</th>      <th>95.0% Conf. Int.</th>    \n",
       "</tr>\n",
       "<tr>\n",
       "  <th>Const</th>      <td>    0.0474</td> <td>6.126e-03</td> <td>    7.739</td> <td>9.992e-15</td>  <td>[3.540e-02,5.941e-02]</td> \n",
       "</tr>\n",
       "<tr>\n",
       "  <th>returns[2]</th> <td>   -0.0396</td> <td>2.806e-02</td> <td>   -1.410</td> <td>    0.159</td> <td>[-9.457e-02,1.543e-02]</td> \n",
       "</tr>\n",
       "<tr>\n",
       "  <th>returns[3]</th> <td>   -0.0348</td> <td>5.931e-03</td> <td>   -5.863</td> <td>4.544e-09</td> <td>[-4.640e-02,-2.315e-02]</td>\n",
       "</tr>\n",
       "<tr>\n",
       "  <th>returns[6]</th> <td>   -0.0283</td> <td>1.728e-03</td> <td>  -16.392</td> <td>2.198e-60</td> <td>[-3.170e-02,-2.493e-02]</td>\n",
       "</tr>\n",
       "</table>\n",
       "<table class=\"simpletable\">\n",
       "<caption>Volatility Model</caption>\n",
       "<tr>\n",
       "      <td></td>        <th>coef</th>     <th>std err</th>      <th>t</th>        <th>P>|t|</th>   <th>95.0% Conf. Int.</th> \n",
       "</tr>\n",
       "<tr>\n",
       "  <th>omega</th>    <td>    0.9166</td> <td>3.760e-02</td> <td>   24.378</td> <td>2.956e-131</td> <td>[  0.843,  0.990]</td>\n",
       "</tr>\n",
       "<tr>\n",
       "  <th>alpha[1]</th> <td>    0.3428</td> <td>3.939e-02</td> <td>    8.703</td>  <td>3.229e-18</td> <td>[  0.266,  0.420]</td>\n",
       "</tr>\n",
       "</table>\n",
       "<table class=\"simpletable\">\n",
       "<caption>Distribution</caption>\n",
       "<tr>\n",
       "   <td></td>     <th>coef</th>     <th>std err</th>      <th>t</th>        <th>P>|t|</th>   <th>95.0% Conf. Int.</th> \n",
       "</tr>\n",
       "<tr>\n",
       "  <th>nu</th> <td>    1.0675</td> <td>3.251e-02</td> <td>   32.842</td> <td>1.488e-236</td> <td>[  1.004,  1.131]</td>\n",
       "</tr>\n",
       "</table><br/><br/>Covariance estimator: robust"
      ],
      "text/plain": [
       "<class 'statsmodels.iolib.summary.Summary'>\n",
       "\"\"\"\n",
       "                                 AR - ARCH Model Results                                  \n",
       "==========================================================================================\n",
       "Dep. Variable:                            returns   R-squared:                       0.008\n",
       "Mean Model:                                    AR   Adj. R-squared:                  0.007\n",
       "Vol Model:                                   ARCH   Log-Likelihood:               -7317.12\n",
       "Distribution:      Generalized Error Distribution   AIC:                           14648.2\n",
       "Method:                        Maximum Likelihood   BIC:                           14693.9\n",
       "                                                    No. Observations:                 5014\n",
       "Date:                            Sun, Aug 22 2021   Df Residuals:                     5010\n",
       "Time:                                    23:04:27   Df Model:                            4\n",
       "                                  Mean Model                                  \n",
       "==============================================================================\n",
       "                 coef    std err          t      P>|t|        95.0% Conf. Int.\n",
       "------------------------------------------------------------------------------\n",
       "Const          0.0474  6.126e-03      7.739  9.992e-15   [3.540e-02,5.941e-02]\n",
       "returns[2]    -0.0396  2.806e-02     -1.410      0.159  [-9.457e-02,1.543e-02]\n",
       "returns[3]    -0.0348  5.931e-03     -5.863  4.544e-09 [-4.640e-02,-2.315e-02]\n",
       "returns[6]    -0.0283  1.728e-03    -16.392  2.198e-60 [-3.170e-02,-2.493e-02]\n",
       "                            Volatility Model                            \n",
       "========================================================================\n",
       "                 coef    std err          t      P>|t|  95.0% Conf. Int.\n",
       "------------------------------------------------------------------------\n",
       "omega          0.9166  3.760e-02     24.378 2.956e-131 [  0.843,  0.990]\n",
       "alpha[1]       0.3428  3.939e-02      8.703  3.229e-18 [  0.266,  0.420]\n",
       "                              Distribution                              \n",
       "========================================================================\n",
       "                 coef    std err          t      P>|t|  95.0% Conf. Int.\n",
       "------------------------------------------------------------------------\n",
       "nu             1.0675  3.251e-02     32.842 1.488e-236 [  1.004,  1.131]\n",
       "========================================================================\n",
       "\n",
       "Covariance estimator: robust\n",
       "\"\"\""
      ]
     },
     "execution_count": 27,
     "metadata": {},
     "output_type": "execute_result"
    }
   ],
   "source": [
    "model_arch1 = arch_model(df.returns[1:], mean='AR', lags= [2,3,6], vol= \"ARCH\", p=1, dist='ged')\n",
    "results_arch1 = model_arch1.fit(update_freq=5)\n",
    "results_arch1.summary()"
   ]
  },
  {
   "cell_type": "markdown",
   "id": "41907fde",
   "metadata": {},
   "source": [
    "## Higher Lag ARCH Models"
   ]
  },
  {
   "cell_type": "code",
   "execution_count": 28,
   "id": "6699539b",
   "metadata": {},
   "outputs": [
    {
     "name": "stdout",
     "output_type": "stream",
     "text": [
      "Iteration:      5,   Func. Count:     43,   Neg. LLF: 7245.981256953115\n",
      "Iteration:     10,   Func. Count:     83,   Neg. LLF: 7227.262335973003\n",
      "Optimization terminated successfully.    (Exit mode 0)\n",
      "            Current function value: 7226.892580231268\n",
      "            Iterations: 14\n",
      "            Function evaluations: 111\n",
      "            Gradient evaluations: 14\n"
     ]
    },
    {
     "data": {
      "text/html": [
       "<table class=\"simpletable\">\n",
       "<caption>Constant Mean - ARCH Model Results</caption>\n",
       "<tr>\n",
       "  <th>Dep. Variable:</th>             <td>returns</td>            <th>  R-squared:         </th>  <td>   0.000</td> \n",
       "</tr>\n",
       "<tr>\n",
       "  <th>Mean Model:</th>             <td>Constant Mean</td>         <th>  Adj. R-squared:    </th>  <td>   0.000</td> \n",
       "</tr>\n",
       "<tr>\n",
       "  <th>Vol Model:</th>                  <td>ARCH</td>              <th>  Log-Likelihood:    </th> <td>  -7226.89</td>\n",
       "</tr>\n",
       "<tr>\n",
       "  <th>Distribution:</th>  <td>Generalized Error Distribution</td> <th>  AIC:               </th> <td>   14463.8</td>\n",
       "</tr>\n",
       "<tr>\n",
       "  <th>Method:</th>              <td>Maximum Likelihood</td>       <th>  BIC:               </th> <td>   14496.4</td>\n",
       "</tr>\n",
       "<tr>\n",
       "  <th></th>                              <td></td>                <th>  No. Observations:  </th>    <td>5020</td>   \n",
       "</tr>\n",
       "<tr>\n",
       "  <th>Date:</th>                 <td>Sun, Aug 22 2021</td>        <th>  Df Residuals:      </th>    <td>5019</td>   \n",
       "</tr>\n",
       "<tr>\n",
       "  <th>Time:</th>                     <td>23:08:13</td>            <th>  Df Model:          </th>      <td>1</td>    \n",
       "</tr>\n",
       "</table>\n",
       "<table class=\"simpletable\">\n",
       "<caption>Mean Model</caption>\n",
       "<tr>\n",
       "   <td></td>     <th>coef</th>     <th>std err</th>      <th>t</th>       <th>P>|t|</th>     <th>95.0% Conf. Int.</th>   \n",
       "</tr>\n",
       "<tr>\n",
       "  <th>mu</th> <td>    0.0370</td> <td>1.822e-02</td> <td>    2.033</td> <td>4.209e-02</td> <td>[1.323e-03,7.274e-02]</td>\n",
       "</tr>\n",
       "</table>\n",
       "<table class=\"simpletable\">\n",
       "<caption>Volatility Model</caption>\n",
       "<tr>\n",
       "      <td></td>        <th>coef</th>     <th>std err</th>      <th>t</th>        <th>P>|t|</th>   <th>95.0% Conf. Int.</th> \n",
       "</tr>\n",
       "<tr>\n",
       "  <th>omega</th>    <td>    0.6838</td> <td>3.211e-02</td> <td>   21.298</td> <td>1.195e-100</td> <td>[  0.621,  0.747]</td>\n",
       "</tr>\n",
       "<tr>\n",
       "  <th>alpha[1]</th> <td>    0.2202</td> <td>2.985e-02</td> <td>    7.377</td>  <td>1.618e-13</td> <td>[  0.162,  0.279]</td>\n",
       "</tr>\n",
       "<tr>\n",
       "  <th>alpha[2]</th> <td>    0.2898</td> <td>3.121e-02</td> <td>    9.287</td>  <td>1.585e-20</td> <td>[  0.229,  0.351]</td>\n",
       "</tr>\n",
       "</table>\n",
       "<table class=\"simpletable\">\n",
       "<caption>Distribution</caption>\n",
       "<tr>\n",
       "   <td></td>     <th>coef</th>     <th>std err</th>      <th>t</th>        <th>P>|t|</th>   <th>95.0% Conf. Int.</th> \n",
       "</tr>\n",
       "<tr>\n",
       "  <th>nu</th> <td>    1.1596</td> <td>3.588e-02</td> <td>   32.318</td> <td>3.887e-229</td> <td>[  1.089,  1.230]</td>\n",
       "</tr>\n",
       "</table><br/><br/>Covariance estimator: robust"
      ],
      "text/plain": [
       "<class 'statsmodels.iolib.summary.Summary'>\n",
       "\"\"\"\n",
       "                            Constant Mean - ARCH Model Results                            \n",
       "==========================================================================================\n",
       "Dep. Variable:                            returns   R-squared:                       0.000\n",
       "Mean Model:                         Constant Mean   Adj. R-squared:                  0.000\n",
       "Vol Model:                                   ARCH   Log-Likelihood:               -7226.89\n",
       "Distribution:      Generalized Error Distribution   AIC:                           14463.8\n",
       "Method:                        Maximum Likelihood   BIC:                           14496.4\n",
       "                                                    No. Observations:                 5020\n",
       "Date:                            Sun, Aug 22 2021   Df Residuals:                     5019\n",
       "Time:                                    23:08:13   Df Model:                            1\n",
       "                                 Mean Model                                 \n",
       "============================================================================\n",
       "                 coef    std err          t      P>|t|      95.0% Conf. Int.\n",
       "----------------------------------------------------------------------------\n",
       "mu             0.0370  1.822e-02      2.033  4.209e-02 [1.323e-03,7.274e-02]\n",
       "                            Volatility Model                            \n",
       "========================================================================\n",
       "                 coef    std err          t      P>|t|  95.0% Conf. Int.\n",
       "------------------------------------------------------------------------\n",
       "omega          0.6838  3.211e-02     21.298 1.195e-100 [  0.621,  0.747]\n",
       "alpha[1]       0.2202  2.985e-02      7.377  1.618e-13 [  0.162,  0.279]\n",
       "alpha[2]       0.2898  3.121e-02      9.287  1.585e-20 [  0.229,  0.351]\n",
       "                              Distribution                              \n",
       "========================================================================\n",
       "                 coef    std err          t      P>|t|  95.0% Conf. Int.\n",
       "------------------------------------------------------------------------\n",
       "nu             1.1596  3.588e-02     32.318 3.887e-229 [  1.089,  1.230]\n",
       "========================================================================\n",
       "\n",
       "Covariance estimator: robust\n",
       "\"\"\""
      ]
     },
     "execution_count": 28,
     "metadata": {},
     "output_type": "execute_result"
    }
   ],
   "source": [
    "model_arch2 = arch_model(df.returns[1:], mean='Constant', lags= [2,3,6], vol= \"ARCH\", p=2, dist='ged')\n",
    "results_arch2 = model_arch2.fit(update_freq=5)\n",
    "results_arch2.summary()"
   ]
  },
  {
   "cell_type": "code",
   "execution_count": 30,
   "id": "9d75830b",
   "metadata": {},
   "outputs": [
    {
     "name": "stdout",
     "output_type": "stream",
     "text": [
      "Iteration:      5,   Func. Count:     41,   Neg. LLF: 7449.870533644225\n",
      "Optimization terminated successfully.    (Exit mode 0)\n",
      "            Current function value: 7449.545164098214\n",
      "            Iterations: 9\n",
      "            Function evaluations: 67\n",
      "            Gradient evaluations: 9\n"
     ]
    },
    {
     "data": {
      "text/html": [
       "<table class=\"simpletable\">\n",
       "<caption>Constant Mean - ARCH Model Results</caption>\n",
       "<tr>\n",
       "  <th>Dep. Variable:</th>       <td>returns</td>      <th>  R-squared:         </th>  <td>   0.000</td> \n",
       "</tr>\n",
       "<tr>\n",
       "  <th>Mean Model:</th>       <td>Constant Mean</td>   <th>  Adj. R-squared:    </th>  <td>   0.000</td> \n",
       "</tr>\n",
       "<tr>\n",
       "  <th>Vol Model:</th>            <td>ARCH</td>        <th>  Log-Likelihood:    </th> <td>  -7449.55</td>\n",
       "</tr>\n",
       "<tr>\n",
       "  <th>Distribution:</th>        <td>Normal</td>       <th>  AIC:               </th> <td>   14907.1</td>\n",
       "</tr>\n",
       "<tr>\n",
       "  <th>Method:</th>        <td>Maximum Likelihood</td> <th>  BIC:               </th> <td>   14933.2</td>\n",
       "</tr>\n",
       "<tr>\n",
       "  <th></th>                        <td></td>          <th>  No. Observations:  </th>    <td>5020</td>   \n",
       "</tr>\n",
       "<tr>\n",
       "  <th>Date:</th>           <td>Sun, Aug 22 2021</td>  <th>  Df Residuals:      </th>    <td>5019</td>   \n",
       "</tr>\n",
       "<tr>\n",
       "  <th>Time:</th>               <td>23:12:36</td>      <th>  Df Model:          </th>      <td>1</td>    \n",
       "</tr>\n",
       "</table>\n",
       "<table class=\"simpletable\">\n",
       "<caption>Mean Model</caption>\n",
       "<tr>\n",
       "   <td></td>     <th>coef</th>     <th>std err</th>      <th>t</th>       <th>P>|t|</th>     <th>95.0% Conf. Int.</th>   \n",
       "</tr>\n",
       "<tr>\n",
       "  <th>mu</th> <td>    0.0484</td> <td>1.401e-02</td> <td>    3.455</td> <td>5.495e-04</td> <td>[2.095e-02,7.585e-02]</td>\n",
       "</tr>\n",
       "</table>\n",
       "<table class=\"simpletable\">\n",
       "<caption>Volatility Model</caption>\n",
       "<tr>\n",
       "      <td></td>        <th>coef</th>     <th>std err</th>      <th>t</th>       <th>P>|t|</th>   <th>95.0% Conf. Int.</th> \n",
       "</tr>\n",
       "<tr>\n",
       "  <th>omega</th>    <td>    0.6978</td> <td>3.564e-02</td> <td>   19.580</td> <td>2.272e-85</td> <td>[  0.628,  0.768]</td>\n",
       "</tr>\n",
       "<tr>\n",
       "  <th>alpha[1]</th> <td>    0.2202</td> <td>3.474e-02</td> <td>    6.339</td> <td>2.311e-10</td> <td>[  0.152,  0.288]</td>\n",
       "</tr>\n",
       "<tr>\n",
       "  <th>alpha[2]</th> <td>    0.2783</td> <td>3.645e-02</td> <td>    7.635</td> <td>2.260e-14</td> <td>[  0.207,  0.350]</td>\n",
       "</tr>\n",
       "</table><br/><br/>Covariance estimator: robust"
      ],
      "text/plain": [
       "<class 'statsmodels.iolib.summary.Summary'>\n",
       "\"\"\"\n",
       "                      Constant Mean - ARCH Model Results                      \n",
       "==============================================================================\n",
       "Dep. Variable:                returns   R-squared:                       0.000\n",
       "Mean Model:             Constant Mean   Adj. R-squared:                  0.000\n",
       "Vol Model:                       ARCH   Log-Likelihood:               -7449.55\n",
       "Distribution:                  Normal   AIC:                           14907.1\n",
       "Method:            Maximum Likelihood   BIC:                           14933.2\n",
       "                                        No. Observations:                 5020\n",
       "Date:                Sun, Aug 22 2021   Df Residuals:                     5019\n",
       "Time:                        23:12:36   Df Model:                            1\n",
       "                                 Mean Model                                 \n",
       "============================================================================\n",
       "                 coef    std err          t      P>|t|      95.0% Conf. Int.\n",
       "----------------------------------------------------------------------------\n",
       "mu             0.0484  1.401e-02      3.455  5.495e-04 [2.095e-02,7.585e-02]\n",
       "                            Volatility Model                            \n",
       "========================================================================\n",
       "                 coef    std err          t      P>|t|  95.0% Conf. Int.\n",
       "------------------------------------------------------------------------\n",
       "omega          0.6978  3.564e-02     19.580  2.272e-85 [  0.628,  0.768]\n",
       "alpha[1]       0.2202  3.474e-02      6.339  2.311e-10 [  0.152,  0.288]\n",
       "alpha[2]       0.2783  3.645e-02      7.635  2.260e-14 [  0.207,  0.350]\n",
       "========================================================================\n",
       "\n",
       "Covariance estimator: robust\n",
       "\"\"\""
      ]
     },
     "execution_count": 30,
     "metadata": {},
     "output_type": "execute_result"
    }
   ],
   "source": [
    "model_arch3 = arch_model(df.returns[1:], mean='Constant', vol= \"ARCH\", p=2)\n",
    "results_arch3 = model_arch3.fit(update_freq=5)\n",
    "results_arch3.summary()"
   ]
  },
  {
   "cell_type": "code",
   "execution_count": 34,
   "id": "0de391bc",
   "metadata": {},
   "outputs": [
    {
     "name": "stdout",
     "output_type": "stream",
     "text": [
      "Iteration:      5,   Func. Count:     93,   Neg. LLF: 6996.500044128842\n",
      "Iteration:     10,   Func. Count:    188,   Neg. LLF: 6985.661362868198\n",
      "Iteration:     15,   Func. Count:    283,   Neg. LLF: 6984.395219801457\n",
      "Iteration:     20,   Func. Count:    378,   Neg. LLF: 6984.217127218106\n",
      "Iteration:     25,   Func. Count:    468,   Neg. LLF: 6984.175138096466\n",
      "Optimization terminated successfully.    (Exit mode 0)\n",
      "            Current function value: 6984.175062617\n",
      "            Iterations: 27\n",
      "            Function evaluations: 502\n",
      "            Gradient evaluations: 27\n"
     ]
    },
    {
     "data": {
      "text/html": [
       "<table class=\"simpletable\">\n",
       "<caption>Constant Mean - ARCH Model Results</caption>\n",
       "<tr>\n",
       "  <th>Dep. Variable:</th>       <td>returns</td>      <th>  R-squared:         </th>  <td>   0.000</td> \n",
       "</tr>\n",
       "<tr>\n",
       "  <th>Mean Model:</th>       <td>Constant Mean</td>   <th>  Adj. R-squared:    </th>  <td>   0.000</td> \n",
       "</tr>\n",
       "<tr>\n",
       "  <th>Vol Model:</th>            <td>ARCH</td>        <th>  Log-Likelihood:    </th> <td>  -6984.18</td>\n",
       "</tr>\n",
       "<tr>\n",
       "  <th>Distribution:</th>        <td>Normal</td>       <th>  AIC:               </th> <td>   13998.4</td>\n",
       "</tr>\n",
       "<tr>\n",
       "  <th>Method:</th>        <td>Maximum Likelihood</td> <th>  BIC:               </th> <td>   14096.2</td>\n",
       "</tr>\n",
       "<tr>\n",
       "  <th></th>                        <td></td>          <th>  No. Observations:  </th>    <td>5020</td>   \n",
       "</tr>\n",
       "<tr>\n",
       "  <th>Date:</th>           <td>Sun, Aug 22 2021</td>  <th>  Df Residuals:      </th>    <td>5019</td>   \n",
       "</tr>\n",
       "<tr>\n",
       "  <th>Time:</th>               <td>23:15:43</td>      <th>  Df Model:          </th>      <td>1</td>    \n",
       "</tr>\n",
       "</table>\n",
       "<table class=\"simpletable\">\n",
       "<caption>Mean Model</caption>\n",
       "<tr>\n",
       "   <td></td>     <th>coef</th>     <th>std err</th>      <th>t</th>       <th>P>|t|</th>     <th>95.0% Conf. Int.</th>   \n",
       "</tr>\n",
       "<tr>\n",
       "  <th>mu</th> <td>    0.0492</td> <td>1.206e-02</td> <td>    4.077</td> <td>4.566e-05</td> <td>[2.553e-02,7.281e-02]</td>\n",
       "</tr>\n",
       "</table>\n",
       "<table class=\"simpletable\">\n",
       "<caption>Volatility Model</caption>\n",
       "<tr>\n",
       "      <td></td>         <th>coef</th>     <th>std err</th>      <th>t</th>       <th>P>|t|</th>      <th>95.0% Conf. Int.</th>   \n",
       "</tr>\n",
       "<tr>\n",
       "  <th>omega</th>     <td>    0.1871</td> <td>2.210e-02</td> <td>    8.466</td> <td>2.538e-17</td>    <td>[  0.144,  0.230]</td>  \n",
       "</tr>\n",
       "<tr>\n",
       "  <th>alpha[1]</th>  <td>    0.0568</td> <td>1.729e-02</td> <td>    3.282</td> <td>1.029e-03</td>  <td>[2.287e-02,9.065e-02]</td>\n",
       "</tr>\n",
       "<tr>\n",
       "  <th>alpha[2]</th>  <td>    0.1156</td> <td>2.017e-02</td> <td>    5.733</td> <td>9.840e-09</td>   <td>[7.610e-02,  0.155]</td> \n",
       "</tr>\n",
       "<tr>\n",
       "  <th>alpha[3]</th>  <td>    0.1265</td> <td>2.625e-02</td> <td>    4.820</td> <td>1.433e-06</td>   <td>[7.509e-02,  0.178]</td> \n",
       "</tr>\n",
       "<tr>\n",
       "  <th>alpha[4]</th>  <td>    0.0884</td> <td>2.159e-02</td> <td>    4.093</td> <td>4.265e-05</td>   <td>[4.605e-02,  0.131]</td> \n",
       "</tr>\n",
       "<tr>\n",
       "  <th>alpha[5]</th>  <td>    0.0695</td> <td>1.750e-02</td> <td>    3.970</td> <td>7.189e-05</td>   <td>[3.518e-02,  0.104]</td> \n",
       "</tr>\n",
       "<tr>\n",
       "  <th>alpha[6]</th>  <td>    0.0865</td> <td>1.926e-02</td> <td>    4.491</td> <td>7.092e-06</td>   <td>[4.874e-02,  0.124]</td> \n",
       "</tr>\n",
       "<tr>\n",
       "  <th>alpha[7]</th>  <td>    0.0404</td> <td>1.846e-02</td> <td>    2.188</td> <td>2.870e-02</td>  <td>[4.203e-03,7.658e-02]</td>\n",
       "</tr>\n",
       "<tr>\n",
       "  <th>alpha[8]</th>  <td>    0.0654</td> <td>1.833e-02</td> <td>    3.565</td> <td>3.633e-04</td>   <td>[2.943e-02,  0.101]</td> \n",
       "</tr>\n",
       "<tr>\n",
       "  <th>alpha[9]</th>  <td>    0.0292</td> <td>1.603e-02</td> <td>    1.820</td> <td>6.877e-02</td> <td>[-2.244e-03,6.058e-02]</td>\n",
       "</tr>\n",
       "<tr>\n",
       "  <th>alpha[10]</th> <td>    0.0335</td> <td>1.605e-02</td> <td>    2.089</td> <td>3.670e-02</td>  <td>[2.072e-03,6.498e-02]</td>\n",
       "</tr>\n",
       "<tr>\n",
       "  <th>alpha[11]</th> <td>    0.0775</td> <td>1.760e-02</td> <td>    4.403</td> <td>1.067e-05</td>   <td>[4.300e-02,  0.112]</td> \n",
       "</tr>\n",
       "<tr>\n",
       "  <th>alpha[12]</th> <td>    0.0473</td> <td>1.873e-02</td> <td>    2.526</td> <td>1.153e-02</td>  <td>[1.060e-02,8.402e-02]</td>\n",
       "</tr>\n",
       "<tr>\n",
       "  <th>alpha[13]</th> <td>    0.0372</td> <td>1.431e-02</td> <td>    2.600</td> <td>9.317e-03</td>  <td>[9.162e-03,6.526e-02]</td>\n",
       "</tr>\n",
       "</table><br/><br/>Covariance estimator: robust"
      ],
      "text/plain": [
       "<class 'statsmodels.iolib.summary.Summary'>\n",
       "\"\"\"\n",
       "                      Constant Mean - ARCH Model Results                      \n",
       "==============================================================================\n",
       "Dep. Variable:                returns   R-squared:                       0.000\n",
       "Mean Model:             Constant Mean   Adj. R-squared:                  0.000\n",
       "Vol Model:                       ARCH   Log-Likelihood:               -6984.18\n",
       "Distribution:                  Normal   AIC:                           13998.4\n",
       "Method:            Maximum Likelihood   BIC:                           14096.2\n",
       "                                        No. Observations:                 5020\n",
       "Date:                Sun, Aug 22 2021   Df Residuals:                     5019\n",
       "Time:                        23:15:43   Df Model:                            1\n",
       "                                 Mean Model                                 \n",
       "============================================================================\n",
       "                 coef    std err          t      P>|t|      95.0% Conf. Int.\n",
       "----------------------------------------------------------------------------\n",
       "mu             0.0492  1.206e-02      4.077  4.566e-05 [2.553e-02,7.281e-02]\n",
       "                               Volatility Model                              \n",
       "=============================================================================\n",
       "                 coef    std err          t      P>|t|       95.0% Conf. Int.\n",
       "-----------------------------------------------------------------------------\n",
       "omega          0.1871  2.210e-02      8.466  2.538e-17      [  0.144,  0.230]\n",
       "alpha[1]       0.0568  1.729e-02      3.282  1.029e-03  [2.287e-02,9.065e-02]\n",
       "alpha[2]       0.1156  2.017e-02      5.733  9.840e-09    [7.610e-02,  0.155]\n",
       "alpha[3]       0.1265  2.625e-02      4.820  1.433e-06    [7.509e-02,  0.178]\n",
       "alpha[4]       0.0884  2.159e-02      4.093  4.265e-05    [4.605e-02,  0.131]\n",
       "alpha[5]       0.0695  1.750e-02      3.970  7.189e-05    [3.518e-02,  0.104]\n",
       "alpha[6]       0.0865  1.926e-02      4.491  7.092e-06    [4.874e-02,  0.124]\n",
       "alpha[7]       0.0404  1.846e-02      2.188  2.870e-02  [4.203e-03,7.658e-02]\n",
       "alpha[8]       0.0654  1.833e-02      3.565  3.633e-04    [2.943e-02,  0.101]\n",
       "alpha[9]       0.0292  1.603e-02      1.820  6.877e-02 [-2.244e-03,6.058e-02]\n",
       "alpha[10]      0.0335  1.605e-02      2.089  3.670e-02  [2.072e-03,6.498e-02]\n",
       "alpha[11]      0.0775  1.760e-02      4.403  1.067e-05    [4.300e-02,  0.112]\n",
       "alpha[12]      0.0473  1.873e-02      2.526  1.153e-02  [1.060e-02,8.402e-02]\n",
       "alpha[13]      0.0372  1.431e-02      2.600  9.317e-03  [9.162e-03,6.526e-02]\n",
       "=============================================================================\n",
       "\n",
       "Covariance estimator: robust\n",
       "\"\"\""
      ]
     },
     "execution_count": 34,
     "metadata": {},
     "output_type": "execute_result"
    }
   ],
   "source": [
    "model_arch13 = arch_model(df.returns[1:], mean='Constant', vol= \"ARCH\", p=13)\n",
    "results_arch13 = model_arch13.fit(update_freq=5)\n",
    "results_arch13.summary()"
   ]
  },
  {
   "cell_type": "markdown",
   "id": "d3d88724",
   "metadata": {},
   "source": [
    "Here alpha9 is not significant anymore"
   ]
  },
  {
   "cell_type": "markdown",
   "id": "8fbdb80d",
   "metadata": {},
   "source": [
    "## GARCH Model"
   ]
  },
  {
   "cell_type": "code",
   "execution_count": 37,
   "id": "14c2c03a",
   "metadata": {},
   "outputs": [
    {
     "name": "stdout",
     "output_type": "stream",
     "text": [
      "Iteration:      5,   Func. Count:     39,   Neg. LLF: 6972.734773031138\n",
      "Iteration:     10,   Func. Count:     73,   Neg. LLF: 6970.088047158355\n",
      "Optimization terminated successfully.    (Exit mode 0)\n",
      "            Current function value: 6970.058366189876\n",
      "            Iterations: 13\n",
      "            Function evaluations: 91\n",
      "            Gradient evaluations: 13\n"
     ]
    },
    {
     "data": {
      "text/html": [
       "<table class=\"simpletable\">\n",
       "<caption>Constant Mean - GARCH Model Results</caption>\n",
       "<tr>\n",
       "  <th>Dep. Variable:</th>       <td>returns</td>      <th>  R-squared:         </th>  <td>   0.000</td> \n",
       "</tr>\n",
       "<tr>\n",
       "  <th>Mean Model:</th>       <td>Constant Mean</td>   <th>  Adj. R-squared:    </th>  <td>   0.000</td> \n",
       "</tr>\n",
       "<tr>\n",
       "  <th>Vol Model:</th>            <td>GARCH</td>       <th>  Log-Likelihood:    </th> <td>  -6970.06</td>\n",
       "</tr>\n",
       "<tr>\n",
       "  <th>Distribution:</th>        <td>Normal</td>       <th>  AIC:               </th> <td>   13948.1</td>\n",
       "</tr>\n",
       "<tr>\n",
       "  <th>Method:</th>        <td>Maximum Likelihood</td> <th>  BIC:               </th> <td>   13974.2</td>\n",
       "</tr>\n",
       "<tr>\n",
       "  <th></th>                        <td></td>          <th>  No. Observations:  </th>    <td>5020</td>   \n",
       "</tr>\n",
       "<tr>\n",
       "  <th>Date:</th>           <td>Sun, Aug 22 2021</td>  <th>  Df Residuals:      </th>    <td>5019</td>   \n",
       "</tr>\n",
       "<tr>\n",
       "  <th>Time:</th>               <td>23:33:52</td>      <th>  Df Model:          </th>      <td>1</td>    \n",
       "</tr>\n",
       "</table>\n",
       "<table class=\"simpletable\">\n",
       "<caption>Mean Model</caption>\n",
       "<tr>\n",
       "   <td></td>     <th>coef</th>     <th>std err</th>      <th>t</th>       <th>P>|t|</th>     <th>95.0% Conf. Int.</th>   \n",
       "</tr>\n",
       "<tr>\n",
       "  <th>mu</th> <td>    0.0466</td> <td>1.183e-02</td> <td>    3.939</td> <td>8.187e-05</td> <td>[2.342e-02,6.981e-02]</td>\n",
       "</tr>\n",
       "</table>\n",
       "<table class=\"simpletable\">\n",
       "<caption>Volatility Model</caption>\n",
       "<tr>\n",
       "      <td></td>        <th>coef</th>     <th>std err</th>      <th>t</th>       <th>P>|t|</th>     <th>95.0% Conf. Int.</th>   \n",
       "</tr>\n",
       "<tr>\n",
       "  <th>omega</th>    <td>    0.0109</td> <td>3.004e-03</td> <td>    3.640</td> <td>2.724e-04</td> <td>[5.048e-03,1.682e-02]</td>\n",
       "</tr>\n",
       "<tr>\n",
       "  <th>alpha[1]</th> <td>    0.0835</td> <td>1.071e-02</td> <td>    7.794</td> <td>6.476e-15</td>  <td>[6.249e-02,  0.104]</td> \n",
       "</tr>\n",
       "<tr>\n",
       "  <th>beta[1]</th>  <td>    0.9089</td> <td>1.148e-02</td> <td>   79.168</td>   <td>0.000</td>     <td>[  0.886,  0.931]</td>  \n",
       "</tr>\n",
       "</table><br/><br/>Covariance estimator: robust"
      ],
      "text/plain": [
       "<class 'statsmodels.iolib.summary.Summary'>\n",
       "\"\"\"\n",
       "                     Constant Mean - GARCH Model Results                      \n",
       "==============================================================================\n",
       "Dep. Variable:                returns   R-squared:                       0.000\n",
       "Mean Model:             Constant Mean   Adj. R-squared:                  0.000\n",
       "Vol Model:                      GARCH   Log-Likelihood:               -6970.06\n",
       "Distribution:                  Normal   AIC:                           13948.1\n",
       "Method:            Maximum Likelihood   BIC:                           13974.2\n",
       "                                        No. Observations:                 5020\n",
       "Date:                Sun, Aug 22 2021   Df Residuals:                     5019\n",
       "Time:                        23:33:52   Df Model:                            1\n",
       "                                 Mean Model                                 \n",
       "============================================================================\n",
       "                 coef    std err          t      P>|t|      95.0% Conf. Int.\n",
       "----------------------------------------------------------------------------\n",
       "mu             0.0466  1.183e-02      3.939  8.187e-05 [2.342e-02,6.981e-02]\n",
       "                              Volatility Model                              \n",
       "============================================================================\n",
       "                 coef    std err          t      P>|t|      95.0% Conf. Int.\n",
       "----------------------------------------------------------------------------\n",
       "omega          0.0109  3.004e-03      3.640  2.724e-04 [5.048e-03,1.682e-02]\n",
       "alpha[1]       0.0835  1.071e-02      7.794  6.476e-15   [6.249e-02,  0.104]\n",
       "beta[1]        0.9089  1.148e-02     79.168      0.000     [  0.886,  0.931]\n",
       "============================================================================\n",
       "\n",
       "Covariance estimator: robust\n",
       "\"\"\""
      ]
     },
     "execution_count": 37,
     "metadata": {},
     "output_type": "execute_result"
    }
   ],
   "source": [
    "model_garch1 = arch_model(df.returns[1:], mean='Constant', vol= \"GARCH\", p = 1, q = 1)\n",
    "results_garch1 = model_garch1.fit(update_freq=5)\n",
    "results_garch1.summary() #This model is the best for time being"
   ]
  },
  {
   "cell_type": "markdown",
   "id": "6dac1fa7",
   "metadata": {},
   "source": [
    "## Higher-lag GARCH Models"
   ]
  },
  {
   "cell_type": "code",
   "execution_count": 38,
   "id": "340aaa1b",
   "metadata": {},
   "outputs": [
    {
     "name": "stdout",
     "output_type": "stream",
     "text": [
      "Iteration:      5,   Func. Count:     44,   Neg. LLF: 6978.5939702909645\n",
      "Iteration:     10,   Func. Count:     80,   Neg. LLF: 6970.063568602713\n",
      "Optimization terminated successfully.    (Exit mode 0)\n",
      "            Current function value: 6970.058366386507\n",
      "            Iterations: 12\n",
      "            Function evaluations: 95\n",
      "            Gradient evaluations: 12\n"
     ]
    },
    {
     "data": {
      "text/html": [
       "<table class=\"simpletable\">\n",
       "<caption>Constant Mean - GARCH Model Results</caption>\n",
       "<tr>\n",
       "  <th>Dep. Variable:</th>       <td>returns</td>      <th>  R-squared:         </th>  <td>   0.000</td> \n",
       "</tr>\n",
       "<tr>\n",
       "  <th>Mean Model:</th>       <td>Constant Mean</td>   <th>  Adj. R-squared:    </th>  <td>   0.000</td> \n",
       "</tr>\n",
       "<tr>\n",
       "  <th>Vol Model:</th>            <td>GARCH</td>       <th>  Log-Likelihood:    </th> <td>  -6970.06</td>\n",
       "</tr>\n",
       "<tr>\n",
       "  <th>Distribution:</th>        <td>Normal</td>       <th>  AIC:               </th> <td>   13950.1</td>\n",
       "</tr>\n",
       "<tr>\n",
       "  <th>Method:</th>        <td>Maximum Likelihood</td> <th>  BIC:               </th> <td>   13982.7</td>\n",
       "</tr>\n",
       "<tr>\n",
       "  <th></th>                        <td></td>          <th>  No. Observations:  </th>    <td>5020</td>   \n",
       "</tr>\n",
       "<tr>\n",
       "  <th>Date:</th>           <td>Sun, Aug 22 2021</td>  <th>  Df Residuals:      </th>    <td>5019</td>   \n",
       "</tr>\n",
       "<tr>\n",
       "  <th>Time:</th>               <td>23:38:46</td>      <th>  Df Model:          </th>      <td>1</td>    \n",
       "</tr>\n",
       "</table>\n",
       "<table class=\"simpletable\">\n",
       "<caption>Mean Model</caption>\n",
       "<tr>\n",
       "   <td></td>     <th>coef</th>     <th>std err</th>      <th>t</th>       <th>P>|t|</th>     <th>95.0% Conf. Int.</th>   \n",
       "</tr>\n",
       "<tr>\n",
       "  <th>mu</th> <td>    0.0466</td> <td>1.184e-02</td> <td>    3.938</td> <td>8.219e-05</td> <td>[2.341e-02,6.982e-02]</td>\n",
       "</tr>\n",
       "</table>\n",
       "<table class=\"simpletable\">\n",
       "<caption>Volatility Model</caption>\n",
       "<tr>\n",
       "      <td></td>        <th>coef</th>     <th>std err</th>      <th>t</th>       <th>P>|t|</th>     <th>95.0% Conf. Int.</th>   \n",
       "</tr>\n",
       "<tr>\n",
       "  <th>omega</th>    <td>    0.0109</td> <td>2.908e-03</td> <td>    3.761</td> <td>1.696e-04</td> <td>[5.236e-03,1.663e-02]</td>\n",
       "</tr>\n",
       "<tr>\n",
       "  <th>alpha[1]</th> <td>    0.0835</td> <td>1.189e-02</td> <td>    7.019</td> <td>2.230e-12</td>  <td>[6.017e-02,  0.107]</td> \n",
       "</tr>\n",
       "<tr>\n",
       "  <th>beta[1]</th>  <td>    0.9089</td> <td>    0.188</td> <td>    4.845</td> <td>1.267e-06</td>   <td>[  0.541,  1.277]</td>  \n",
       "</tr>\n",
       "<tr>\n",
       "  <th>beta[2]</th>  <td>1.4984e-08</td> <td>    0.180</td> <td>8.334e-08</td> <td>    1.000</td>   <td>[ -0.352,  0.352]</td>  \n",
       "</tr>\n",
       "</table><br/><br/>Covariance estimator: robust"
      ],
      "text/plain": [
       "<class 'statsmodels.iolib.summary.Summary'>\n",
       "\"\"\"\n",
       "                     Constant Mean - GARCH Model Results                      \n",
       "==============================================================================\n",
       "Dep. Variable:                returns   R-squared:                       0.000\n",
       "Mean Model:             Constant Mean   Adj. R-squared:                  0.000\n",
       "Vol Model:                      GARCH   Log-Likelihood:               -6970.06\n",
       "Distribution:                  Normal   AIC:                           13950.1\n",
       "Method:            Maximum Likelihood   BIC:                           13982.7\n",
       "                                        No. Observations:                 5020\n",
       "Date:                Sun, Aug 22 2021   Df Residuals:                     5019\n",
       "Time:                        23:38:46   Df Model:                            1\n",
       "                                 Mean Model                                 \n",
       "============================================================================\n",
       "                 coef    std err          t      P>|t|      95.0% Conf. Int.\n",
       "----------------------------------------------------------------------------\n",
       "mu             0.0466  1.184e-02      3.938  8.219e-05 [2.341e-02,6.982e-02]\n",
       "                              Volatility Model                              \n",
       "============================================================================\n",
       "                 coef    std err          t      P>|t|      95.0% Conf. Int.\n",
       "----------------------------------------------------------------------------\n",
       "omega          0.0109  2.908e-03      3.761  1.696e-04 [5.236e-03,1.663e-02]\n",
       "alpha[1]       0.0835  1.189e-02      7.019  2.230e-12   [6.017e-02,  0.107]\n",
       "beta[1]        0.9089      0.188      4.845  1.267e-06     [  0.541,  1.277]\n",
       "beta[2]    1.4984e-08      0.180  8.334e-08      1.000     [ -0.352,  0.352]\n",
       "============================================================================\n",
       "\n",
       "Covariance estimator: robust\n",
       "\"\"\""
      ]
     },
     "execution_count": 38,
     "metadata": {},
     "output_type": "execute_result"
    }
   ],
   "source": [
    "model_garch_1_2 = arch_model(df.returns[1:], mean='Constant', vol= \"GARCH\", p = 1, q = 2)\n",
    "results_garch_1_2 = model_garch_1_2.fit(update_freq=5)\n",
    "results_garch_1_2.summary()"
   ]
  },
  {
   "cell_type": "markdown",
   "id": "f1ba2406",
   "metadata": {},
   "source": [
    "Garch (1,1) is the best model for measuring volatility of returns, and there's no need to rely on overly complicated model"
   ]
  },
  {
   "cell_type": "code",
   "execution_count": null,
   "id": "9a50a539",
   "metadata": {},
   "outputs": [],
   "source": []
  }
 ],
 "metadata": {
  "hide_input": false,
  "kernelspec": {
   "display_name": "Python 3",
   "language": "python",
   "name": "python3"
  },
  "language_info": {
   "codemirror_mode": {
    "name": "ipython",
    "version": 3
   },
   "file_extension": ".py",
   "mimetype": "text/x-python",
   "name": "python",
   "nbconvert_exporter": "python",
   "pygments_lexer": "ipython3",
   "version": "3.7.6"
  }
 },
 "nbformat": 4,
 "nbformat_minor": 5
}
