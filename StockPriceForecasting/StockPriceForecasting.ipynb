{
 "cells": [
  {
   "cell_type": "code",
   "execution_count": 68,
   "id": "5c4b470d",
   "metadata": {},
   "outputs": [
    {
     "data": {
      "text/html": [
       "<style>.container {width: 100% !important; }</style>"
      ],
      "text/plain": [
       "<IPython.core.display.HTML object>"
      ]
     },
     "metadata": {},
     "output_type": "display_data"
    }
   ],
   "source": [
    "import warnings\n",
    "warnings.filterwarnings('ignore')\n",
    "from IPython.core.display import display, HTML\n",
    "display(HTML(\"<style>.container {width: 100% !important; }</style>\"))\n",
    "import matplotlib.pyplot as plt\n",
    "plt.style.use('fivethirtyeight')\n",
    "from pylab import rcParams\n",
    "rcParams['figure.figsize'] = 22, 7"
   ]
  },
  {
   "cell_type": "code",
   "execution_count": 67,
   "id": "ece1fd33",
   "metadata": {},
   "outputs": [],
   "source": [
    "import numpy as np \n",
    "import pandas as pd \n",
    "import pandas_datareader as data\n",
    "from sklearn.preprocessing import MinMaxScaler\n",
    "from sklearn.metrics import mean_absolute_error, mean_squared_error, r2_score\n",
    "\n",
    "from keras.layers import Dense, Dropout, LSTM \n",
    "from keras.models import Sequential"
   ]
  },
  {
   "cell_type": "code",
   "execution_count": 99,
   "id": "d0f4180e",
   "metadata": {},
   "outputs": [
    {
     "data": {
      "text/html": [
       "<div>\n",
       "<style scoped>\n",
       "    .dataframe tbody tr th:only-of-type {\n",
       "        vertical-align: middle;\n",
       "    }\n",
       "\n",
       "    .dataframe tbody tr th {\n",
       "        vertical-align: top;\n",
       "    }\n",
       "\n",
       "    .dataframe thead th {\n",
       "        text-align: right;\n",
       "    }\n",
       "</style>\n",
       "<table border=\"1\" class=\"dataframe\">\n",
       "  <thead>\n",
       "    <tr style=\"text-align: right;\">\n",
       "      <th></th>\n",
       "      <th>High</th>\n",
       "      <th>Low</th>\n",
       "      <th>Open</th>\n",
       "      <th>Close</th>\n",
       "      <th>Volume</th>\n",
       "      <th>Adj Close</th>\n",
       "    </tr>\n",
       "    <tr>\n",
       "      <th>Date</th>\n",
       "      <th></th>\n",
       "      <th></th>\n",
       "      <th></th>\n",
       "      <th></th>\n",
       "      <th></th>\n",
       "      <th></th>\n",
       "    </tr>\n",
       "  </thead>\n",
       "  <tbody>\n",
       "    <tr>\n",
       "      <th>1990-01-02</th>\n",
       "      <td>0.334821</td>\n",
       "      <td>0.312500</td>\n",
       "      <td>0.314732</td>\n",
       "      <td>0.332589</td>\n",
       "      <td>183198400.0</td>\n",
       "      <td>0.266423</td>\n",
       "    </tr>\n",
       "    <tr>\n",
       "      <th>1990-01-03</th>\n",
       "      <td>0.339286</td>\n",
       "      <td>0.334821</td>\n",
       "      <td>0.339286</td>\n",
       "      <td>0.334821</td>\n",
       "      <td>207995200.0</td>\n",
       "      <td>0.268211</td>\n",
       "    </tr>\n",
       "    <tr>\n",
       "      <th>1990-01-04</th>\n",
       "      <td>0.345982</td>\n",
       "      <td>0.332589</td>\n",
       "      <td>0.341518</td>\n",
       "      <td>0.335938</td>\n",
       "      <td>221513600.0</td>\n",
       "      <td>0.269106</td>\n",
       "    </tr>\n",
       "  </tbody>\n",
       "</table>\n",
       "</div>"
      ],
      "text/plain": [
       "                High       Low      Open     Close       Volume  Adj Close\n",
       "Date                                                                      \n",
       "1990-01-02  0.334821  0.312500  0.314732  0.332589  183198400.0   0.266423\n",
       "1990-01-03  0.339286  0.334821  0.339286  0.334821  207995200.0   0.268211\n",
       "1990-01-04  0.345982  0.332589  0.341518  0.335938  221513600.0   0.269106"
      ]
     },
     "execution_count": 99,
     "metadata": {},
     "output_type": "execute_result"
    }
   ],
   "source": [
    "start = '1990-01-01'\n",
    "end = '2021-11-30'\n",
    "df = data.DataReader('AAPL', 'yahoo', start, end)\n",
    "df.head(3)"
   ]
  },
  {
   "cell_type": "code",
   "execution_count": 100,
   "id": "42287fc8",
   "metadata": {},
   "outputs": [
    {
     "data": {
      "text/html": [
       "<div>\n",
       "<style scoped>\n",
       "    .dataframe tbody tr th:only-of-type {\n",
       "        vertical-align: middle;\n",
       "    }\n",
       "\n",
       "    .dataframe tbody tr th {\n",
       "        vertical-align: top;\n",
       "    }\n",
       "\n",
       "    .dataframe thead th {\n",
       "        text-align: right;\n",
       "    }\n",
       "</style>\n",
       "<table border=\"1\" class=\"dataframe\">\n",
       "  <thead>\n",
       "    <tr style=\"text-align: right;\">\n",
       "      <th></th>\n",
       "      <th>High</th>\n",
       "      <th>Low</th>\n",
       "      <th>Open</th>\n",
       "      <th>Close</th>\n",
       "      <th>Volume</th>\n",
       "      <th>Adj Close</th>\n",
       "    </tr>\n",
       "    <tr>\n",
       "      <th>Date</th>\n",
       "      <th></th>\n",
       "      <th></th>\n",
       "      <th></th>\n",
       "      <th></th>\n",
       "      <th></th>\n",
       "      <th></th>\n",
       "    </tr>\n",
       "  </thead>\n",
       "  <tbody>\n",
       "    <tr>\n",
       "      <th>2021-11-26</th>\n",
       "      <td>160.449997</td>\n",
       "      <td>156.360001</td>\n",
       "      <td>159.570007</td>\n",
       "      <td>156.809998</td>\n",
       "      <td>76959800.0</td>\n",
       "      <td>156.809998</td>\n",
       "    </tr>\n",
       "    <tr>\n",
       "      <th>2021-11-29</th>\n",
       "      <td>161.190002</td>\n",
       "      <td>158.789993</td>\n",
       "      <td>159.369995</td>\n",
       "      <td>160.240005</td>\n",
       "      <td>88748200.0</td>\n",
       "      <td>160.240005</td>\n",
       "    </tr>\n",
       "    <tr>\n",
       "      <th>2021-11-30</th>\n",
       "      <td>165.520004</td>\n",
       "      <td>159.919998</td>\n",
       "      <td>159.990005</td>\n",
       "      <td>165.300003</td>\n",
       "      <td>174048100.0</td>\n",
       "      <td>165.300003</td>\n",
       "    </tr>\n",
       "  </tbody>\n",
       "</table>\n",
       "</div>"
      ],
      "text/plain": [
       "                  High         Low        Open       Close       Volume  \\\n",
       "Date                                                                      \n",
       "2021-11-26  160.449997  156.360001  159.570007  156.809998   76959800.0   \n",
       "2021-11-29  161.190002  158.789993  159.369995  160.240005   88748200.0   \n",
       "2021-11-30  165.520004  159.919998  159.990005  165.300003  174048100.0   \n",
       "\n",
       "             Adj Close  \n",
       "Date                    \n",
       "2021-11-26  156.809998  \n",
       "2021-11-29  160.240005  \n",
       "2021-11-30  165.300003  "
      ]
     },
     "execution_count": 100,
     "metadata": {},
     "output_type": "execute_result"
    }
   ],
   "source": [
    "df.tail(3)"
   ]
  },
  {
   "cell_type": "code",
   "execution_count": 101,
   "id": "9e0074bd",
   "metadata": {},
   "outputs": [
    {
     "data": {
      "text/plain": [
       "Index(['Date', 'High', 'Low', 'Open', 'Close', 'Volume', 'Adj Close'], dtype='object')"
      ]
     },
     "execution_count": 101,
     "metadata": {},
     "output_type": "execute_result"
    }
   ],
   "source": [
    "df = df.reset_index()\n",
    "df.columns"
   ]
  },
  {
   "cell_type": "code",
   "execution_count": 102,
   "id": "f574ff76",
   "metadata": {
    "scrolled": true
   },
   "outputs": [
    {
     "data": {
      "image/png": "[encoded data removed]",
      "text/plain": [
       "<Figure size 1584x504 with 1 Axes>"
      ]
     },
     "metadata": {},
     "output_type": "display_data"
    }
   ],
   "source": [
    "df = df.drop(['Date', 'Adj Close'], axis=1)\n",
    "plt.plot(df.Close);"
   ]
  },
  {
   "cell_type": "code",
   "execution_count": 103,
   "id": "1b633cfa",
   "metadata": {},
   "outputs": [
    {
     "data": {
      "text/plain": [
       "0            NaN\n",
       "1            NaN\n",
       "2            NaN\n",
       "3            NaN\n",
       "4            NaN\n",
       "          ...   \n",
       "8037    147.9696\n",
       "8038    148.1688\n",
       "8039    148.2912\n",
       "8040    148.4612\n",
       "8041    148.6631\n",
       "Name: Close, Length: 8042, dtype: float64"
      ]
     },
     "execution_count": 103,
     "metadata": {},
     "output_type": "execute_result"
    }
   ],
   "source": [
    "ma100 = df.Close.rolling(100).mean()\n",
    "ma200 = df.Close.rolling(200).mean()\n",
    "ma100"
   ]
  },
  {
   "cell_type": "code",
   "execution_count": 104,
   "id": "2c60ac96",
   "metadata": {},
   "outputs": [
    {
     "data": {
      "image/png": "[encoded data removed]",
      "text/plain": [
       "<Figure size 1584x504 with 1 Axes>"
      ]
     },
     "metadata": {},
     "output_type": "display_data"
    }
   ],
   "source": [
    "plt.plot(df.Close)\n",
    "plt.plot(ma100, 'r')\n",
    "plt.plot(ma200, 'g')\n",
    "plt.legend(['Daily Stock Price', '100 Days MA', '200 Days MA']);"
   ]
  },
  {
   "cell_type": "code",
   "execution_count": 105,
   "id": "0186edc0",
   "metadata": {},
   "outputs": [
    {
     "data": {
      "text/plain": [
       "(8042, 5)"
      ]
     },
     "execution_count": 105,
     "metadata": {},
     "output_type": "execute_result"
    }
   ],
   "source": [
    "df.shape"
   ]
  },
  {
   "cell_type": "code",
   "execution_count": 106,
   "id": "ebe895b1",
   "metadata": {},
   "outputs": [
    {
     "name": "stdout",
     "output_type": "stream",
     "text": [
      "(5629, 1) (2413, 1)\n"
     ]
    }
   ],
   "source": [
    "data_training = pd.DataFrame(df.Close[0:int(len(df)*0.70)])\n",
    "data_testing = pd.DataFrame(df.Close[int(len(df)*0.70):int(len(df))])\n",
    "print(data_training.shape, data_testing.shape)"
   ]
  },
  {
   "cell_type": "code",
   "execution_count": 107,
   "id": "c07fad9c",
   "metadata": {},
   "outputs": [
    {
     "data": {
      "text/html": [
       "<div>\n",
       "<style scoped>\n",
       "    .dataframe tbody tr th:only-of-type {\n",
       "        vertical-align: middle;\n",
       "    }\n",
       "\n",
       "    .dataframe tbody tr th {\n",
       "        vertical-align: top;\n",
       "    }\n",
       "\n",
       "    .dataframe thead th {\n",
       "        text-align: right;\n",
       "    }\n",
       "</style>\n",
       "<table border=\"1\" class=\"dataframe\">\n",
       "  <thead>\n",
       "    <tr style=\"text-align: right;\">\n",
       "      <th></th>\n",
       "      <th>Close</th>\n",
       "    </tr>\n",
       "  </thead>\n",
       "  <tbody>\n",
       "    <tr>\n",
       "      <th>0</th>\n",
       "      <td>0.332589</td>\n",
       "    </tr>\n",
       "    <tr>\n",
       "      <th>1</th>\n",
       "      <td>0.334821</td>\n",
       "    </tr>\n",
       "    <tr>\n",
       "      <th>2</th>\n",
       "      <td>0.335938</td>\n",
       "    </tr>\n",
       "    <tr>\n",
       "      <th>3</th>\n",
       "      <td>0.337054</td>\n",
       "    </tr>\n",
       "    <tr>\n",
       "      <th>4</th>\n",
       "      <td>0.339286</td>\n",
       "    </tr>\n",
       "  </tbody>\n",
       "</table>\n",
       "</div>"
      ],
      "text/plain": [
       "      Close\n",
       "0  0.332589\n",
       "1  0.334821\n",
       "2  0.335938\n",
       "3  0.337054\n",
       "4  0.339286"
      ]
     },
     "execution_count": 107,
     "metadata": {},
     "output_type": "execute_result"
    }
   ],
   "source": [
    "data_training.head()"
   ]
  },
  {
   "cell_type": "code",
   "execution_count": 108,
   "id": "f68b061f",
   "metadata": {},
   "outputs": [
    {
     "data": {
      "text/html": [
       "<div>\n",
       "<style scoped>\n",
       "    .dataframe tbody tr th:only-of-type {\n",
       "        vertical-align: middle;\n",
       "    }\n",
       "\n",
       "    .dataframe tbody tr th {\n",
       "        vertical-align: top;\n",
       "    }\n",
       "\n",
       "    .dataframe thead th {\n",
       "        text-align: right;\n",
       "    }\n",
       "</style>\n",
       "<table border=\"1\" class=\"dataframe\">\n",
       "  <thead>\n",
       "    <tr style=\"text-align: right;\">\n",
       "      <th></th>\n",
       "      <th>Close</th>\n",
       "    </tr>\n",
       "  </thead>\n",
       "  <tbody>\n",
       "    <tr>\n",
       "      <th>5629</th>\n",
       "      <td>20.790358</td>\n",
       "    </tr>\n",
       "    <tr>\n",
       "      <th>5630</th>\n",
       "      <td>20.927856</td>\n",
       "    </tr>\n",
       "    <tr>\n",
       "      <th>5631</th>\n",
       "      <td>20.779285</td>\n",
       "    </tr>\n",
       "    <tr>\n",
       "      <th>5632</th>\n",
       "      <td>20.187500</td>\n",
       "    </tr>\n",
       "    <tr>\n",
       "      <th>5633</th>\n",
       "      <td>20.338572</td>\n",
       "    </tr>\n",
       "  </tbody>\n",
       "</table>\n",
       "</div>"
      ],
      "text/plain": [
       "          Close\n",
       "5629  20.790358\n",
       "5630  20.927856\n",
       "5631  20.779285\n",
       "5632  20.187500\n",
       "5633  20.338572"
      ]
     },
     "execution_count": 108,
     "metadata": {},
     "output_type": "execute_result"
    }
   ],
   "source": [
    "data_testing.head()"
   ]
  },
  {
   "cell_type": "code",
   "execution_count": 109,
   "id": "2e045050",
   "metadata": {},
   "outputs": [
    {
     "data": {
      "text/plain": [
       "array([[0.00960216],\n",
       "       [0.00970089],\n",
       "       [0.0097503 ],\n",
       "       ...,\n",
       "       [0.9549286 ],\n",
       "       [0.94750355],\n",
       "       [0.91745597]])"
      ]
     },
     "execution_count": 109,
     "metadata": {},
     "output_type": "execute_result"
    }
   ],
   "source": [
    "scaler = MinMaxScaler(feature_range=(0,1))\n",
    "data_training_array = scaler.fit_transform(data_training)\n",
    "data_training_array"
   ]
  },
  {
   "cell_type": "code",
   "execution_count": 110,
   "id": "b8863666",
   "metadata": {},
   "outputs": [
    {
     "name": "stdout",
     "output_type": "stream",
     "text": [
      "(5429, 200, 1) (5429,)\n"
     ]
    },
    {
     "data": {
      "text/plain": [
       "array([[[0.00960216],\n",
       "        [0.00970089],\n",
       "        [0.0097503 ],\n",
       "        ...,\n",
       "        [0.00585018],\n",
       "        [0.00604764],\n",
       "        [0.00585018]],\n",
       "\n",
       "       [[0.00970089],\n",
       "        [0.0097503 ],\n",
       "        [0.00979967],\n",
       "        ...,\n",
       "        [0.00604764],\n",
       "        [0.00585018],\n",
       "        [0.00476406]],\n",
       "\n",
       "       [[0.0097503 ],\n",
       "        [0.00979967],\n",
       "        [0.0098984 ],\n",
       "        ...,\n",
       "        [0.00585018],\n",
       "        [0.00476406],\n",
       "        [0.00535649]],\n",
       "\n",
       "       ...,\n",
       "\n",
       "       [[0.55374103],\n",
       "        [0.56048674],\n",
       "        [0.56009176],\n",
       "        ...,\n",
       "        [0.89805613],\n",
       "        [0.88001499],\n",
       "        [0.95856207]],\n",
       "\n",
       "       [[0.56048674],\n",
       "        [0.56009176],\n",
       "        [0.57138725],\n",
       "        ...,\n",
       "        [0.88001499],\n",
       "        [0.95856207],\n",
       "        [0.9549286 ]],\n",
       "\n",
       "       [[0.56009176],\n",
       "        [0.57138725],\n",
       "        [0.5854158 ],\n",
       "        ...,\n",
       "        [0.95856207],\n",
       "        [0.9549286 ],\n",
       "        [0.94750355]]])"
      ]
     },
     "execution_count": 110,
     "metadata": {},
     "output_type": "execute_result"
    }
   ],
   "source": [
    "X_train = []\n",
    "y_train = []\n",
    "for i in range(200, data_training.shape[0]):\n",
    "    X_train.append(data_training_array[i-200:i])\n",
    "    y_train.append(data_training_array[i, 0]) #ith row and first column would be \"y\" for every record\n",
    "\n",
    "X_train, y_train = np.array(X_train), np.array(y_train)\n",
    "print(X_train.shape, y_train.shape)\n",
    "X_train"
   ]
  },
  {
   "cell_type": "code",
   "execution_count": 111,
   "id": "e26ad0d6",
   "metadata": {},
   "outputs": [],
   "source": [
    "model = Sequential()\n",
    "model.add(LSTM(units=50, activation = 'relu', return_sequences = True,\n",
    "              input_shape= (X_train.shape[1],1)))\n",
    "model.add(Dropout(0.2))\n",
    "\n",
    "model.add(LSTM(units=60, activation = 'relu', return_sequences = True))\n",
    "model.add(Dropout(0.3))\n",
    "\n",
    "model.add(LSTM(units=80, activation = 'relu', return_sequences = True))\n",
    "model.add(Dropout(0.4))\n",
    "\n",
    "model.add(LSTM(units=120, activation = 'relu'))\n",
    "model.add(Dropout(0.5))\n",
    "        \n",
    "model.add(Dense(units=1))"
   ]
  },
  {
   "cell_type": "code",
   "execution_count": 112,
   "id": "1ad83832",
   "metadata": {},
   "outputs": [
    {
     "name": "stdout",
     "output_type": "stream",
     "text": [
      "Model: \"sequential_2\"\n",
      "_________________________________________________________________\n",
      "Layer (type)                 Output Shape              Param #   \n",
      "=================================================================\n",
      "lstm_8 (LSTM)                (None, 200, 50)           10400     \n",
      "_________________________________________________________________\n",
      "dropout_8 (Dropout)          (None, 200, 50)           0         \n",
      "_________________________________________________________________\n",
      "lstm_9 (LSTM)                (None, 200, 60)           26640     \n",
      "_________________________________________________________________\n",
      "dropout_9 (Dropout)          (None, 200, 60)           0         \n",
      "_________________________________________________________________\n",
      "lstm_10 (LSTM)               (None, 200, 80)           45120     \n",
      "_________________________________________________________________\n",
      "dropout_10 (Dropout)         (None, 200, 80)           0         \n",
      "_________________________________________________________________\n",
      "lstm_11 (LSTM)               (None, 120)               96480     \n",
      "_________________________________________________________________\n",
      "dropout_11 (Dropout)         (None, 120)               0         \n",
      "_________________________________________________________________\n",
      "dense_2 (Dense)              (None, 1)                 121       \n",
      "=================================================================\n",
      "Total params: 178,761\n",
      "Trainable params: 178,761\n",
      "Non-trainable params: 0\n",
      "_________________________________________________________________\n"
     ]
    }
   ],
   "source": [
    "model.summary()"
   ]
  },
  {
   "cell_type": "code",
   "execution_count": 113,
   "id": "02ec6f2a",
   "metadata": {},
   "outputs": [
    {
     "name": "stdout",
     "output_type": "stream",
     "text": [
      "Epoch 1/50\n",
      "170/170 [==============================] - 66s 371ms/step - loss: 0.0046\n",
      "Epoch 2/50\n",
      "170/170 [==============================] - 66s 390ms/step - loss: 0.0015\n",
      "Epoch 3/50\n",
      "170/170 [==============================] - 67s 392ms/step - loss: 0.0016\n",
      "Epoch 4/50\n",
      "170/170 [==============================] - 67s 392ms/step - loss: 0.0014\n",
      "Epoch 5/50\n",
      "170/170 [==============================] - 67s 397ms/step - loss: 0.0014\n",
      "Epoch 6/50\n",
      "170/170 [==============================] - 68s 402ms/step - loss: 0.0014\n",
      "Epoch 7/50\n",
      "170/170 [==============================] - 68s 399ms/step - loss: 0.0013\n",
      "Epoch 8/50\n",
      "170/170 [==============================] - 68s 401ms/step - loss: 0.0013\n",
      "Epoch 9/50\n",
      "170/170 [==============================] - 67s 395ms/step - loss: 0.0014\n",
      "Epoch 10/50\n",
      "170/170 [==============================] - 74s 434ms/step - loss: 0.0013\n",
      "Epoch 11/50\n",
      "170/170 [==============================] - 84s 497ms/step - loss: 0.0012\n",
      "Epoch 12/50\n",
      "170/170 [==============================] - 84s 491ms/step - loss: 0.0012\n",
      "Epoch 13/50\n",
      "170/170 [==============================] - 83s 488ms/step - loss: 0.0013\n",
      "Epoch 14/50\n",
      "170/170 [==============================] - 83s 490ms/step - loss: 0.0011\n",
      "Epoch 15/50\n",
      "170/170 [==============================] - 84s 494ms/step - loss: 0.0012\n",
      "Epoch 16/50\n",
      "170/170 [==============================] - 84s 491ms/step - loss: 0.0014\n",
      "Epoch 17/50\n",
      "170/170 [==============================] - 83s 490ms/step - loss: 0.0011\n",
      "Epoch 18/50\n",
      "170/170 [==============================] - 83s 490ms/step - loss: 0.0011\n",
      "Epoch 19/50\n",
      "170/170 [==============================] - 84s 493ms/step - loss: 0.0011\n",
      "Epoch 20/50\n",
      "170/170 [==============================] - 84s 492ms/step - loss: 0.0010\n",
      "Epoch 21/50\n",
      "170/170 [==============================] - 83s 487ms/step - loss: 0.0010\n",
      "Epoch 22/50\n",
      "170/170 [==============================] - 83s 490ms/step - loss: 0.0011\n",
      "Epoch 23/50\n",
      "170/170 [==============================] - 84s 492ms/step - loss: 9.9047e-04\n",
      "Epoch 24/50\n",
      "170/170 [==============================] - 84s 494ms/step - loss: 9.5439e-04\n",
      "Epoch 25/50\n",
      "170/170 [==============================] - 84s 494ms/step - loss: 9.3399e-04\n",
      "Epoch 26/50\n",
      "170/170 [==============================] - 83s 487ms/step - loss: 8.7712e-04\n",
      "Epoch 27/50\n",
      "170/170 [==============================] - 83s 491ms/step - loss: 9.1685e-04\n",
      "Epoch 28/50\n",
      "170/170 [==============================] - 83s 488ms/step - loss: 9.1679e-04\n",
      "Epoch 29/50\n",
      "170/170 [==============================] - 84s 495ms/step - loss: 9.0202e-04\n",
      "Epoch 30/50\n",
      "170/170 [==============================] - 83s 491ms/step - loss: 9.0254e-04\n",
      "Epoch 31/50\n",
      "170/170 [==============================] - 84s 495ms/step - loss: 8.0993e-04\n",
      "Epoch 32/50\n",
      "170/170 [==============================] - 83s 489ms/step - loss: 8.2164e-04\n",
      "Epoch 33/50\n",
      "170/170 [==============================] - 83s 489ms/step - loss: 9.2913e-04\n",
      "Epoch 34/50\n",
      "170/170 [==============================] - 83s 488ms/step - loss: 9.3626e-04\n",
      "Epoch 35/50\n",
      "170/170 [==============================] - 83s 489ms/step - loss: 8.5498e-04\n",
      "Epoch 36/50\n",
      "170/170 [==============================] - 84s 492ms/step - loss: 9.3600e-04\n",
      "Epoch 37/50\n",
      "170/170 [==============================] - 84s 491ms/step - loss: 9.9348e-04\n",
      "Epoch 38/50\n",
      "170/170 [==============================] - 81s 477ms/step - loss: 8.2696e-04\n",
      "Epoch 39/50\n",
      "170/170 [==============================] - 84s 493ms/step - loss: 8.3741e-04\n",
      "Epoch 40/50\n",
      "170/170 [==============================] - 84s 495ms/step - loss: 64.6149\n",
      "Epoch 41/50\n",
      "170/170 [==============================] - 83s 489ms/step - loss: 0.0010\n",
      "Epoch 42/50\n",
      "170/170 [==============================] - 83s 489ms/step - loss: 9.2702e-04\n",
      "Epoch 43/50\n",
      "170/170 [==============================] - 83s 487ms/step - loss: 0.0012\n",
      "Epoch 44/50\n",
      "170/170 [==============================] - 82s 485ms/step - loss: 9.1250e-04\n",
      "Epoch 45/50\n",
      "170/170 [==============================] - 83s 488ms/step - loss: 8.8551e-04\n",
      "Epoch 46/50\n",
      "170/170 [==============================] - 84s 496ms/step - loss: 9.2304e-04\n",
      "Epoch 47/50\n",
      "170/170 [==============================] - 84s 496ms/step - loss: 9.0866e-04\n",
      "Epoch 48/50\n",
      "170/170 [==============================] - 84s 493ms/step - loss: 8.7494e-04\n",
      "Epoch 49/50\n",
      "170/170 [==============================] - 83s 491ms/step - loss: 9.3925e-04\n",
      "Epoch 50/50\n",
      "170/170 [==============================] - 83s 490ms/step - loss: 8.6133e-04\n"
     ]
    },
    {
     "data": {
      "text/plain": [
       "<keras.callbacks.History at 0x2bc9f5b6a60>"
      ]
     },
     "execution_count": 113,
     "metadata": {},
     "output_type": "execute_result"
    }
   ],
   "source": [
    "model.compile(optimizer='adam', loss='mean_squared_error')\n",
    "model.fit(X_train, y_train, epochs=50)"
   ]
  },
  {
   "cell_type": "code",
   "execution_count": 45,
   "id": "6fd7079d",
   "metadata": {},
   "outputs": [],
   "source": [
    "model.save('keras_model.h5')"
   ]
  },
  {
   "cell_type": "code",
   "execution_count": 114,
   "id": "81c7fbeb",
   "metadata": {},
   "outputs": [
    {
     "data": {
      "text/html": [
       "<div>\n",
       "<style scoped>\n",
       "    .dataframe tbody tr th:only-of-type {\n",
       "        vertical-align: middle;\n",
       "    }\n",
       "\n",
       "    .dataframe tbody tr th {\n",
       "        vertical-align: top;\n",
       "    }\n",
       "\n",
       "    .dataframe thead th {\n",
       "        text-align: right;\n",
       "    }\n",
       "</style>\n",
       "<table border=\"1\" class=\"dataframe\">\n",
       "  <thead>\n",
       "    <tr style=\"text-align: right;\">\n",
       "      <th></th>\n",
       "      <th>Close</th>\n",
       "    </tr>\n",
       "  </thead>\n",
       "  <tbody>\n",
       "    <tr>\n",
       "      <th>5629</th>\n",
       "      <td>20.790358</td>\n",
       "    </tr>\n",
       "    <tr>\n",
       "      <th>5630</th>\n",
       "      <td>20.927856</td>\n",
       "    </tr>\n",
       "    <tr>\n",
       "      <th>5631</th>\n",
       "      <td>20.779285</td>\n",
       "    </tr>\n",
       "    <tr>\n",
       "      <th>5632</th>\n",
       "      <td>20.187500</td>\n",
       "    </tr>\n",
       "    <tr>\n",
       "      <th>5633</th>\n",
       "      <td>20.338572</td>\n",
       "    </tr>\n",
       "    <tr>\n",
       "      <th>...</th>\n",
       "      <td>...</td>\n",
       "    </tr>\n",
       "    <tr>\n",
       "      <th>8037</th>\n",
       "      <td>161.410004</td>\n",
       "    </tr>\n",
       "    <tr>\n",
       "      <th>8038</th>\n",
       "      <td>161.940002</td>\n",
       "    </tr>\n",
       "    <tr>\n",
       "      <th>8039</th>\n",
       "      <td>156.809998</td>\n",
       "    </tr>\n",
       "    <tr>\n",
       "      <th>8040</th>\n",
       "      <td>160.240005</td>\n",
       "    </tr>\n",
       "    <tr>\n",
       "      <th>8041</th>\n",
       "      <td>165.300003</td>\n",
       "    </tr>\n",
       "  </tbody>\n",
       "</table>\n",
       "<p>2413 rows × 1 columns</p>\n",
       "</div>"
      ],
      "text/plain": [
       "           Close\n",
       "5629   20.790358\n",
       "5630   20.927856\n",
       "5631   20.779285\n",
       "5632   20.187500\n",
       "5633   20.338572\n",
       "...          ...\n",
       "8037  161.410004\n",
       "8038  161.940002\n",
       "8039  156.809998\n",
       "8040  160.240005\n",
       "8041  165.300003\n",
       "\n",
       "[2413 rows x 1 columns]"
      ]
     },
     "execution_count": 114,
     "metadata": {},
     "output_type": "execute_result"
    }
   ],
   "source": [
    "data_testing"
   ]
  },
  {
   "cell_type": "code",
   "execution_count": 115,
   "id": "4908c78b",
   "metadata": {},
   "outputs": [
    {
     "data": {
      "text/html": [
       "<div>\n",
       "<style scoped>\n",
       "    .dataframe tbody tr th:only-of-type {\n",
       "        vertical-align: middle;\n",
       "    }\n",
       "\n",
       "    .dataframe tbody tr th {\n",
       "        vertical-align: top;\n",
       "    }\n",
       "\n",
       "    .dataframe thead th {\n",
       "        text-align: right;\n",
       "    }\n",
       "</style>\n",
       "<table border=\"1\" class=\"dataframe\">\n",
       "  <thead>\n",
       "    <tr style=\"text-align: right;\">\n",
       "      <th></th>\n",
       "      <th>Close</th>\n",
       "    </tr>\n",
       "  </thead>\n",
       "  <tbody>\n",
       "    <tr>\n",
       "      <th>5429</th>\n",
       "      <td>13.032857</td>\n",
       "    </tr>\n",
       "    <tr>\n",
       "      <th>5430</th>\n",
       "      <td>13.350000</td>\n",
       "    </tr>\n",
       "    <tr>\n",
       "      <th>5431</th>\n",
       "      <td>13.458929</td>\n",
       "    </tr>\n",
       "    <tr>\n",
       "      <th>5432</th>\n",
       "      <td>13.817857</td>\n",
       "    </tr>\n",
       "    <tr>\n",
       "      <th>5433</th>\n",
       "      <td>13.831786</td>\n",
       "    </tr>\n",
       "    <tr>\n",
       "      <th>...</th>\n",
       "      <td>...</td>\n",
       "    </tr>\n",
       "    <tr>\n",
       "      <th>5624</th>\n",
       "      <td>20.010000</td>\n",
       "    </tr>\n",
       "    <tr>\n",
       "      <th>5625</th>\n",
       "      <td>21.785713</td>\n",
       "    </tr>\n",
       "    <tr>\n",
       "      <th>5626</th>\n",
       "      <td>21.703571</td>\n",
       "    </tr>\n",
       "    <tr>\n",
       "      <th>5627</th>\n",
       "      <td>21.535713</td>\n",
       "    </tr>\n",
       "    <tr>\n",
       "      <th>5628</th>\n",
       "      <td>20.856428</td>\n",
       "    </tr>\n",
       "  </tbody>\n",
       "</table>\n",
       "<p>200 rows × 1 columns</p>\n",
       "</div>"
      ],
      "text/plain": [
       "          Close\n",
       "5429  13.032857\n",
       "5430  13.350000\n",
       "5431  13.458929\n",
       "5432  13.817857\n",
       "5433  13.831786\n",
       "...         ...\n",
       "5624  20.010000\n",
       "5625  21.785713\n",
       "5626  21.703571\n",
       "5627  21.535713\n",
       "5628  20.856428\n",
       "\n",
       "[200 rows x 1 columns]"
      ]
     },
     "execution_count": 115,
     "metadata": {},
     "output_type": "execute_result"
    }
   ],
   "source": [
    "data_training.tail(200)"
   ]
  },
  {
   "cell_type": "code",
   "execution_count": 116,
   "id": "d38c23bb",
   "metadata": {},
   "outputs": [
    {
     "data": {
      "text/html": [
       "<div>\n",
       "<style scoped>\n",
       "    .dataframe tbody tr th:only-of-type {\n",
       "        vertical-align: middle;\n",
       "    }\n",
       "\n",
       "    .dataframe tbody tr th {\n",
       "        vertical-align: top;\n",
       "    }\n",
       "\n",
       "    .dataframe thead th {\n",
       "        text-align: right;\n",
       "    }\n",
       "</style>\n",
       "<table border=\"1\" class=\"dataframe\">\n",
       "  <thead>\n",
       "    <tr style=\"text-align: right;\">\n",
       "      <th></th>\n",
       "      <th>Close</th>\n",
       "    </tr>\n",
       "  </thead>\n",
       "  <tbody>\n",
       "    <tr>\n",
       "      <th>0</th>\n",
       "      <td>13.032857</td>\n",
       "    </tr>\n",
       "    <tr>\n",
       "      <th>1</th>\n",
       "      <td>13.350000</td>\n",
       "    </tr>\n",
       "    <tr>\n",
       "      <th>2</th>\n",
       "      <td>13.458929</td>\n",
       "    </tr>\n",
       "    <tr>\n",
       "      <th>3</th>\n",
       "      <td>13.817857</td>\n",
       "    </tr>\n",
       "    <tr>\n",
       "      <th>4</th>\n",
       "      <td>13.831786</td>\n",
       "    </tr>\n",
       "    <tr>\n",
       "      <th>...</th>\n",
       "      <td>...</td>\n",
       "    </tr>\n",
       "    <tr>\n",
       "      <th>2608</th>\n",
       "      <td>161.410004</td>\n",
       "    </tr>\n",
       "    <tr>\n",
       "      <th>2609</th>\n",
       "      <td>161.940002</td>\n",
       "    </tr>\n",
       "    <tr>\n",
       "      <th>2610</th>\n",
       "      <td>156.809998</td>\n",
       "    </tr>\n",
       "    <tr>\n",
       "      <th>2611</th>\n",
       "      <td>160.240005</td>\n",
       "    </tr>\n",
       "    <tr>\n",
       "      <th>2612</th>\n",
       "      <td>165.300003</td>\n",
       "    </tr>\n",
       "  </tbody>\n",
       "</table>\n",
       "<p>2613 rows × 1 columns</p>\n",
       "</div>"
      ],
      "text/plain": [
       "           Close\n",
       "0      13.032857\n",
       "1      13.350000\n",
       "2      13.458929\n",
       "3      13.817857\n",
       "4      13.831786\n",
       "...          ...\n",
       "2608  161.410004\n",
       "2609  161.940002\n",
       "2610  156.809998\n",
       "2611  160.240005\n",
       "2612  165.300003\n",
       "\n",
       "[2613 rows x 1 columns]"
      ]
     },
     "execution_count": 116,
     "metadata": {},
     "output_type": "execute_result"
    }
   ],
   "source": [
    "## Prediction \n",
    "past_200_days = data_training.tail(200)\n",
    "final_df = past_200_days.append(data_testing, ignore_index=True)\n",
    "final_df"
   ]
  },
  {
   "cell_type": "code",
   "execution_count": 117,
   "id": "804a9a46",
   "metadata": {},
   "outputs": [
    {
     "name": "stdout",
     "output_type": "stream",
     "text": [
      "(2613, 1)\n"
     ]
    },
    {
     "data": {
      "text/plain": [
       "array([[0.00273906],\n",
       "       [0.00481616],\n",
       "       [0.00552958],\n",
       "       ...,\n",
       "       [0.94439542],\n",
       "       [0.96685997],\n",
       "       [1.        ]])"
      ]
     },
     "execution_count": 117,
     "metadata": {},
     "output_type": "execute_result"
    }
   ],
   "source": [
    "input_data = scaler.fit_transform(final_df)\n",
    "print(input_data.shape)\n",
    "input_data"
   ]
  },
  {
   "cell_type": "code",
   "execution_count": 118,
   "id": "ba120581",
   "metadata": {},
   "outputs": [
    {
     "data": {
      "text/plain": [
       "(2613, 1)"
      ]
     },
     "execution_count": 118,
     "metadata": {},
     "output_type": "execute_result"
    }
   ],
   "source": [
    "input_data.shape"
   ]
  },
  {
   "cell_type": "code",
   "execution_count": 119,
   "id": "36834923",
   "metadata": {},
   "outputs": [
    {
     "data": {
      "text/plain": [
       "((2413, 200, 1), (2413,))"
      ]
     },
     "execution_count": 119,
     "metadata": {},
     "output_type": "execute_result"
    }
   ],
   "source": [
    "X_test = []\n",
    "y_test = []\n",
    "for i in range(200, input_data.shape[0]):\n",
    "    X_test.append(input_data[i-200:i])\n",
    "    y_test.append(input_data[i, 0])\n",
    "\n",
    "X_test, y_test = np.array(X_test), np.array(y_test)\n",
    "X_test.shape, y_test.shape"
   ]
  },
  {
   "cell_type": "code",
   "execution_count": 120,
   "id": "e95e2b6c",
   "metadata": {},
   "outputs": [
    {
     "name": "stdout",
     "output_type": "stream",
     "text": [
      "(2413, 1)\n",
      "(2413,)\n"
     ]
    }
   ],
   "source": [
    "y_predicted = model.predict(X_test)\n",
    "print(y_predicted.shape)\n",
    "print(y_test.shape)"
   ]
  },
  {
   "cell_type": "code",
   "execution_count": 121,
   "id": "71c42b03",
   "metadata": {},
   "outputs": [
    {
     "data": {
      "text/plain": [
       "array([0.00654942])"
      ]
     },
     "execution_count": 121,
     "metadata": {},
     "output_type": "execute_result"
    }
   ],
   "source": [
    "scaler.scale_"
   ]
  },
  {
   "cell_type": "code",
   "execution_count": 122,
   "id": "74eddc7a",
   "metadata": {},
   "outputs": [
    {
     "data": {
      "text/plain": [
       "array([[ 15.51259349],\n",
       "       [ 15.45773185],\n",
       "       [ 15.40262677],\n",
       "       ...,\n",
       "       [133.3091028 ],\n",
       "       [134.25734704],\n",
       "       [135.12314752]])"
      ]
     },
     "execution_count": 122,
     "metadata": {},
     "output_type": "execute_result"
    }
   ],
   "source": [
    "scale_factor = 1/scaler.scale_\n",
    "y_predicted = y_predicted * scale_factor\n",
    "y_test = y_test * scale_factor\n",
    "y_predicted"
   ]
  },
  {
   "cell_type": "code",
   "execution_count": 123,
   "id": "cba6e4d2",
   "metadata": {},
   "outputs": [
    {
     "data": {
      "image/png": "[encoded data removed]",
      "text/plain": [
       "<Figure size 1584x504 with 1 Axes>"
      ]
     },
     "metadata": {},
     "output_type": "display_data"
    }
   ],
   "source": [
    "plt.plot(y_test, 'b', label = 'Orignal Price')\n",
    "plt.plot(y_predicted, 'r', label = 'Predicted Price')\n",
    "plt.xlabel('Time')\n",
    "plt.ylabel('Price')\n",
    "plt.legend();"
   ]
  },
  {
   "cell_type": "code",
   "execution_count": 124,
   "id": "e5c40788",
   "metadata": {},
   "outputs": [
    {
     "data": {
      "text/plain": [
       "4.527854319720494"
      ]
     },
     "execution_count": 124,
     "metadata": {},
     "output_type": "execute_result"
    }
   ],
   "source": [
    "mean_absolute_error(y_test, y_predicted)"
   ]
  },
  {
   "cell_type": "code",
   "execution_count": 125,
   "id": "ee8195ea",
   "metadata": {},
   "outputs": [
    {
     "data": {
      "text/plain": [
       "0.9801392583661875"
      ]
     },
     "execution_count": 125,
     "metadata": {},
     "output_type": "execute_result"
    }
   ],
   "source": [
    "r2_score(y_test, y_predicted)"
   ]
  },
  {
   "cell_type": "code",
   "execution_count": null,
   "id": "62fab7b7",
   "metadata": {},
   "outputs": [],
   "source": []
  }
 ],
 "metadata": {
  "hide_input": false,
  "kernelspec": {
   "display_name": "Python 3",
   "language": "python",
   "name": "python3"
  },
  "language_info": {
   "codemirror_mode": {
    "name": "ipython",
    "version": 3
   },
   "file_extension": ".py",
   "mimetype": "text/x-python",
   "name": "python",
   "nbconvert_exporter": "python",
   "pygments_lexer": "ipython3",
   "version": "3.8.8"
  }
 },
 "nbformat": 4,
 "nbformat_minor": 5
}
