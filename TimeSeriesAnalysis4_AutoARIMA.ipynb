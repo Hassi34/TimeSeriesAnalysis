{
 "cells": [
  {
   "cell_type": "code",
   "execution_count": 1,
   "id": "b16fc6e6",
   "metadata": {},
   "outputs": [
    {
     "data": {
      "text/html": [
       "<style>.container {width: 100% !important; }</style>"
      ],
      "text/plain": [
       "<IPython.core.display.HTML object>"
      ]
     },
     "metadata": {},
     "output_type": "display_data"
    }
   ],
   "source": [
    "from IPython.core.display import display, HTML\n",
    "display(HTML(\"<style>.container {width: 100% !important; }</style>\"))"
   ]
  },
  {
   "cell_type": "code",
   "execution_count": 11,
   "id": "04e7cf8b",
   "metadata": {},
   "outputs": [],
   "source": [
    "import warnings\n",
    "warnings.filterwarnings('ignore')\n",
    "import pandas as pd \n",
    "import numpy as np\n",
    "import matplotlib.pyplot as plt\n",
    "import seaborn as sns\n",
    "import scipy\n",
    "import pylab\n",
    "import statsmodels.api as sm\n",
    "from pmdarima.arima import auto_arima\n",
    "import sklearn\n",
    "import yfinance\n",
    "from statsmodels.tsa.stattools import adfuller\n",
    "from statsmodels.tsa.seasonal import seasonal_decompose\n",
    "import statsmodels.graphics.tsaplots as sgt\n",
    "from statsmodels.tsa.arima_model import ARIMA \n",
    "from statsmodels.tsa.statespace.sarimax import SARIMAX\n",
    "from scipy.stats.distributions import chi2\n",
    "sns.set()"
   ]
  },
  {
   "cell_type": "code",
   "execution_count": 12,
   "id": "22332c55",
   "metadata": {},
   "outputs": [
    {
     "name": "stdout",
     "output_type": "stream",
     "text": [
      "[*********************100%***********************]  4 of 4 completed\n"
     ]
    }
   ],
   "source": [
    "raw_data = yfinance.download(tickers= \"^GSPC ^FTSE ^N225 ^GDAXI\", start= \"1994-01-07\", end= \"2018-01-29\",\n",
    "                            interval= \"1d\", group_by='ticker', auto_adjust=True, treads=True)\n",
    "df_comp = raw_data.copy()"
   ]
  },
  {
   "cell_type": "code",
   "execution_count": 13,
   "id": "80395220",
   "metadata": {},
   "outputs": [],
   "source": [
    "df_comp['spx'] = df_comp['^GSPC'].Close[:]\n",
    "df_comp['dax'] = df_comp['^GDAXI'].Close[:]\n",
    "df_comp['ftse'] = df_comp['^FTSE'].Close[:]\n",
    "df_comp['nikkei'] = df_comp['^N225'].Close[:]"
   ]
  },
  {
   "cell_type": "code",
   "execution_count": 14,
   "id": "98055b7e",
   "metadata": {},
   "outputs": [],
   "source": [
    "df_comp = df_comp.iloc[1:]\n",
    "del df_comp['^N225'],df_comp['^GSPC'],df_comp['^GDAXI'],df_comp['^FTSE']\n",
    "df_comp = df_comp.asfreq('b')\n",
    "df_comp = df_comp.fillna(method='ffill')"
   ]
  },
  {
   "cell_type": "markdown",
   "id": "abaa2d73",
   "metadata": {},
   "source": [
    "## Creating Returns"
   ]
  },
  {
   "cell_type": "code",
   "execution_count": 15,
   "id": "f3bc2a5e",
   "metadata": {},
   "outputs": [],
   "source": [
    "df_comp['ret_spx'] = df_comp.spx.pct_change(1)*100\n",
    "df_comp['ret_ftse'] = df_comp.ftse.pct_change(1)*100\n",
    "df_comp['ret_dax'] = df_comp.dax.pct_change(1)*100\n",
    "df_comp['ret_nikkei'] = df_comp.nikkei.pct_change(1)*100"
   ]
  },
  {
   "cell_type": "markdown",
   "id": "ca5a6ebf",
   "metadata": {},
   "source": [
    "## Splitting the data "
   ]
  },
  {
   "cell_type": "code",
   "execution_count": 16,
   "id": "d08048bb",
   "metadata": {},
   "outputs": [],
   "source": [
    "size = int(len(df_comp)*0.8)\n",
    "df, df_test = df_comp.iloc[:size], df_comp.iloc[size:]"
   ]
  },
  {
   "cell_type": "markdown",
   "id": "001e285a",
   "metadata": {},
   "source": [
    "## Fitting a Model"
   ]
  },
  {
   "cell_type": "code",
   "execution_count": 17,
   "id": "7d84b652",
   "metadata": {},
   "outputs": [],
   "source": [
    "model_auto = auto_arima(df.ret_ftse[1:])"
   ]
  },
  {
   "cell_type": "code",
   "execution_count": 18,
   "id": "77b8a6ee",
   "metadata": {},
   "outputs": [
    {
     "data": {
      "text/html": [
       "<table class=\"simpletable\">\n",
       "<caption>SARIMAX Results</caption>\n",
       "<tr>\n",
       "  <th>Dep. Variable:</th>           <td>y</td>        <th>  No. Observations:  </th>   <td>5019</td>   \n",
       "</tr>\n",
       "<tr>\n",
       "  <th>Model:</th>           <td>SARIMAX(3, 0, 5)</td> <th>  Log Likelihood     </th> <td>-7883.727</td>\n",
       "</tr>\n",
       "<tr>\n",
       "  <th>Date:</th>            <td>Sun, 22 Aug 2021</td> <th>  AIC                </th> <td>15785.453</td>\n",
       "</tr>\n",
       "<tr>\n",
       "  <th>Time:</th>                <td>17:04:22</td>     <th>  BIC                </th> <td>15844.142</td>\n",
       "</tr>\n",
       "<tr>\n",
       "  <th>Sample:</th>                  <td>0</td>        <th>  HQIC               </th> <td>15806.019</td>\n",
       "</tr>\n",
       "<tr>\n",
       "  <th></th>                      <td> - 5019</td>     <th>                     </th>     <td> </td>    \n",
       "</tr>\n",
       "<tr>\n",
       "  <th>Covariance Type:</th>        <td>opg</td>       <th>                     </th>     <td> </td>    \n",
       "</tr>\n",
       "</table>\n",
       "<table class=\"simpletable\">\n",
       "<tr>\n",
       "     <td></td>       <th>coef</th>     <th>std err</th>      <th>z</th>      <th>P>|z|</th>  <th>[0.025</th>    <th>0.975]</th>  \n",
       "</tr>\n",
       "<tr>\n",
       "  <th>ar.L1</th>  <td>   -0.1274</td> <td>    0.078</td> <td>   -1.626</td> <td> 0.104</td> <td>   -0.281</td> <td>    0.026</td>\n",
       "</tr>\n",
       "<tr>\n",
       "  <th>ar.L2</th>  <td>   -0.8760</td> <td>    0.020</td> <td>  -44.835</td> <td> 0.000</td> <td>   -0.914</td> <td>   -0.838</td>\n",
       "</tr>\n",
       "<tr>\n",
       "  <th>ar.L3</th>  <td>   -0.2776</td> <td>    0.072</td> <td>   -3.879</td> <td> 0.000</td> <td>   -0.418</td> <td>   -0.137</td>\n",
       "</tr>\n",
       "<tr>\n",
       "  <th>ma.L1</th>  <td>    0.1026</td> <td>    0.078</td> <td>    1.311</td> <td> 0.190</td> <td>   -0.051</td> <td>    0.256</td>\n",
       "</tr>\n",
       "<tr>\n",
       "  <th>ma.L2</th>  <td>    0.8223</td> <td>    0.023</td> <td>   36.510</td> <td> 0.000</td> <td>    0.778</td> <td>    0.866</td>\n",
       "</tr>\n",
       "<tr>\n",
       "  <th>ma.L3</th>  <td>    0.1649</td> <td>    0.070</td> <td>    2.362</td> <td> 0.018</td> <td>    0.028</td> <td>    0.302</td>\n",
       "</tr>\n",
       "<tr>\n",
       "  <th>ma.L4</th>  <td>   -0.0085</td> <td>    0.009</td> <td>   -0.916</td> <td> 0.360</td> <td>   -0.027</td> <td>    0.010</td>\n",
       "</tr>\n",
       "<tr>\n",
       "  <th>ma.L5</th>  <td>   -0.1114</td> <td>    0.008</td> <td>  -13.436</td> <td> 0.000</td> <td>   -0.128</td> <td>   -0.095</td>\n",
       "</tr>\n",
       "<tr>\n",
       "  <th>sigma2</th> <td>    1.3546</td> <td>    0.015</td> <td>   91.104</td> <td> 0.000</td> <td>    1.326</td> <td>    1.384</td>\n",
       "</tr>\n",
       "</table>\n",
       "<table class=\"simpletable\">\n",
       "<tr>\n",
       "  <th>Ljung-Box (L1) (Q):</th>     <td>0.00</td> <th>  Jarque-Bera (JB):  </th> <td>6244.58</td>\n",
       "</tr>\n",
       "<tr>\n",
       "  <th>Prob(Q):</th>                <td>1.00</td> <th>  Prob(JB):          </th>  <td>0.00</td>  \n",
       "</tr>\n",
       "<tr>\n",
       "  <th>Heteroskedasticity (H):</th> <td>1.99</td> <th>  Skew:              </th>  <td>-0.17</td> \n",
       "</tr>\n",
       "<tr>\n",
       "  <th>Prob(H) (two-sided):</th>    <td>0.00</td> <th>  Kurtosis:          </th>  <td>8.45</td>  \n",
       "</tr>\n",
       "</table><br/><br/>Warnings:<br/>[1] Covariance matrix calculated using the outer product of gradients (complex-step)."
      ],
      "text/plain": [
       "<class 'statsmodels.iolib.summary.Summary'>\n",
       "\"\"\"\n",
       "                               SARIMAX Results                                \n",
       "==============================================================================\n",
       "Dep. Variable:                      y   No. Observations:                 5019\n",
       "Model:               SARIMAX(3, 0, 5)   Log Likelihood               -7883.727\n",
       "Date:                Sun, 22 Aug 2021   AIC                          15785.453\n",
       "Time:                        17:04:22   BIC                          15844.142\n",
       "Sample:                             0   HQIC                         15806.019\n",
       "                               - 5019                                         \n",
       "Covariance Type:                  opg                                         \n",
       "==============================================================================\n",
       "                 coef    std err          z      P>|z|      [0.025      0.975]\n",
       "------------------------------------------------------------------------------\n",
       "ar.L1         -0.1274      0.078     -1.626      0.104      -0.281       0.026\n",
       "ar.L2         -0.8760      0.020    -44.835      0.000      -0.914      -0.838\n",
       "ar.L3         -0.2776      0.072     -3.879      0.000      -0.418      -0.137\n",
       "ma.L1          0.1026      0.078      1.311      0.190      -0.051       0.256\n",
       "ma.L2          0.8223      0.023     36.510      0.000       0.778       0.866\n",
       "ma.L3          0.1649      0.070      2.362      0.018       0.028       0.302\n",
       "ma.L4         -0.0085      0.009     -0.916      0.360      -0.027       0.010\n",
       "ma.L5         -0.1114      0.008    -13.436      0.000      -0.128      -0.095\n",
       "sigma2         1.3546      0.015     91.104      0.000       1.326       1.384\n",
       "===================================================================================\n",
       "Ljung-Box (L1) (Q):                   0.00   Jarque-Bera (JB):              6244.58\n",
       "Prob(Q):                              1.00   Prob(JB):                         0.00\n",
       "Heteroskedasticity (H):               1.99   Skew:                            -0.17\n",
       "Prob(H) (two-sided):                  0.00   Kurtosis:                         8.45\n",
       "===================================================================================\n",
       "\n",
       "Warnings:\n",
       "[1] Covariance matrix calculated using the outer product of gradients (complex-step).\n",
       "\"\"\""
      ]
     },
     "execution_count": 18,
     "metadata": {},
     "output_type": "execute_result"
    }
   ],
   "source": [
    "model_auto.summary()"
   ]
  },
  {
   "cell_type": "markdown",
   "id": "c708cfc9",
   "metadata": {},
   "source": [
    "### Important Arguments"
   ]
  },
  {
   "cell_type": "code",
   "execution_count": 19,
   "id": "07efa50a",
   "metadata": {},
   "outputs": [],
   "source": [
    "model_auto = auto_arima(df.ret_ftse[1:], exogenous = df[['ret_spx', 'ret_dax', 'ret_nikkei']][1:], m=5,\n",
    "                       max_order=None, max_p= 7, max_q = 7, max_d = 2, max_P = 4, max_Q = 4, max_D=2,\n",
    "                       maxiter=50, alpha=0.05, n_jobs=-1, trend='ct')\n"
   ]
  },
  {
   "cell_type": "code",
   "execution_count": 25,
   "id": "8c08c831",
   "metadata": {},
   "outputs": [
    {
     "data": {
      "text/plain": [
       "ARIMA(order=(3, 0, 0), scoring_args={}, seasonal_order=(0, 0, 3, 5),\n",
       "      suppress_warnings=True, trend='ct', with_intercept=False)"
      ]
     },
     "execution_count": 25,
     "metadata": {},
     "output_type": "execute_result"
    }
   ],
   "source": [
    "model_auto"
   ]
  },
  {
   "cell_type": "code",
   "execution_count": 26,
   "id": "684c6c81",
   "metadata": {},
   "outputs": [
    {
     "data": {
      "text/html": [
       "<table class=\"simpletable\">\n",
       "<caption>SARIMAX Results</caption>\n",
       "<tr>\n",
       "  <th>Dep. Variable:</th>                     <td>y</td>                   <th>  No. Observations:  </th>   <td>5019</td>   \n",
       "</tr>\n",
       "<tr>\n",
       "  <th>Model:</th>           <td>SARIMAX(3, 0, 0)x(0, 0, [1, 2, 3], 5)</td> <th>  Log Likelihood     </th> <td>-5305.714</td>\n",
       "</tr>\n",
       "<tr>\n",
       "  <th>Date:</th>                      <td>Sun, 22 Aug 2021</td>            <th>  AIC                </th> <td>10635.428</td>\n",
       "</tr>\n",
       "<tr>\n",
       "  <th>Time:</th>                          <td>17:19:37</td>                <th>  BIC                </th> <td>10713.680</td>\n",
       "</tr>\n",
       "<tr>\n",
       "  <th>Sample:</th>                       <td>01-10-1994</td>               <th>  HQIC               </th> <td>10662.849</td>\n",
       "</tr>\n",
       "<tr>\n",
       "  <th></th>                             <td>- 04-04-2013</td>              <th>                     </th>     <td> </td>    \n",
       "</tr>\n",
       "<tr>\n",
       "  <th>Covariance Type:</th>                  <td>opg</td>                  <th>                     </th>     <td> </td>    \n",
       "</tr>\n",
       "</table>\n",
       "<table class=\"simpletable\">\n",
       "<tr>\n",
       "       <td></td>         <th>coef</th>     <th>std err</th>      <th>z</th>      <th>P>|z|</th>  <th>[0.025</th>    <th>0.975]</th>  \n",
       "</tr>\n",
       "<tr>\n",
       "  <th>intercept</th>  <td>   -0.0063</td> <td>    0.019</td> <td>   -0.330</td> <td> 0.741</td> <td>   -0.044</td> <td>    0.031</td>\n",
       "</tr>\n",
       "<tr>\n",
       "  <th>drift</th>      <td> 5.526e-07</td> <td> 6.94e-06</td> <td>    0.080</td> <td> 0.936</td> <td> -1.3e-05</td> <td> 1.41e-05</td>\n",
       "</tr>\n",
       "<tr>\n",
       "  <th>ret_spx</th>    <td>    0.0854</td> <td>    0.006</td> <td>   13.366</td> <td> 0.000</td> <td>    0.073</td> <td>    0.098</td>\n",
       "</tr>\n",
       "<tr>\n",
       "  <th>ret_dax</th>    <td>    0.5633</td> <td>    0.006</td> <td>  100.515</td> <td> 0.000</td> <td>    0.552</td> <td>    0.574</td>\n",
       "</tr>\n",
       "<tr>\n",
       "  <th>ret_nikkei</th> <td>    0.0739</td> <td>    0.005</td> <td>   14.923</td> <td> 0.000</td> <td>    0.064</td> <td>    0.084</td>\n",
       "</tr>\n",
       "<tr>\n",
       "  <th>ar.L1</th>      <td>   -0.1199</td> <td>    0.008</td> <td>  -14.245</td> <td> 0.000</td> <td>   -0.136</td> <td>   -0.103</td>\n",
       "</tr>\n",
       "<tr>\n",
       "  <th>ar.L2</th>      <td>   -0.0243</td> <td>    0.011</td> <td>   -2.210</td> <td> 0.027</td> <td>   -0.046</td> <td>   -0.003</td>\n",
       "</tr>\n",
       "<tr>\n",
       "  <th>ar.L3</th>      <td>   -0.0697</td> <td>    0.010</td> <td>   -6.694</td> <td> 0.000</td> <td>   -0.090</td> <td>   -0.049</td>\n",
       "</tr>\n",
       "<tr>\n",
       "  <th>ma.S.L5</th>    <td>   -0.0318</td> <td>    0.010</td> <td>   -3.274</td> <td> 0.001</td> <td>   -0.051</td> <td>   -0.013</td>\n",
       "</tr>\n",
       "<tr>\n",
       "  <th>ma.S.L10</th>   <td>   -0.0559</td> <td>    0.010</td> <td>   -5.394</td> <td> 0.000</td> <td>   -0.076</td> <td>   -0.036</td>\n",
       "</tr>\n",
       "<tr>\n",
       "  <th>ma.S.L15</th>   <td>   -0.0268</td> <td>    0.010</td> <td>   -2.629</td> <td> 0.009</td> <td>   -0.047</td> <td>   -0.007</td>\n",
       "</tr>\n",
       "<tr>\n",
       "  <th>sigma2</th>     <td>    0.4872</td> <td>    0.006</td> <td>   86.427</td> <td> 0.000</td> <td>    0.476</td> <td>    0.498</td>\n",
       "</tr>\n",
       "</table>\n",
       "<table class=\"simpletable\">\n",
       "<tr>\n",
       "  <th>Ljung-Box (L1) (Q):</th>     <td>0.01</td> <th>  Jarque-Bera (JB):  </th> <td>10037.45</td>\n",
       "</tr>\n",
       "<tr>\n",
       "  <th>Prob(Q):</th>                <td>0.92</td> <th>  Prob(JB):          </th>   <td>0.00</td>  \n",
       "</tr>\n",
       "<tr>\n",
       "  <th>Heteroskedasticity (H):</th> <td>1.04</td> <th>  Skew:              </th>   <td>0.21</td>  \n",
       "</tr>\n",
       "<tr>\n",
       "  <th>Prob(H) (two-sided):</th>    <td>0.40</td> <th>  Kurtosis:          </th>   <td>9.91</td>  \n",
       "</tr>\n",
       "</table><br/><br/>Warnings:<br/>[1] Covariance matrix calculated using the outer product of gradients (complex-step)."
      ],
      "text/plain": [
       "<class 'statsmodels.iolib.summary.Summary'>\n",
       "\"\"\"\n",
       "                                         SARIMAX Results                                         \n",
       "=================================================================================================\n",
       "Dep. Variable:                                         y   No. Observations:                 5019\n",
       "Model:             SARIMAX(3, 0, 0)x(0, 0, [1, 2, 3], 5)   Log Likelihood               -5305.714\n",
       "Date:                                   Sun, 22 Aug 2021   AIC                          10635.428\n",
       "Time:                                           17:19:37   BIC                          10713.680\n",
       "Sample:                                       01-10-1994   HQIC                         10662.849\n",
       "                                            - 04-04-2013                                         \n",
       "Covariance Type:                                     opg                                         \n",
       "==============================================================================\n",
       "                 coef    std err          z      P>|z|      [0.025      0.975]\n",
       "------------------------------------------------------------------------------\n",
       "intercept     -0.0063      0.019     -0.330      0.741      -0.044       0.031\n",
       "drift       5.526e-07   6.94e-06      0.080      0.936    -1.3e-05    1.41e-05\n",
       "ret_spx        0.0854      0.006     13.366      0.000       0.073       0.098\n",
       "ret_dax        0.5633      0.006    100.515      0.000       0.552       0.574\n",
       "ret_nikkei     0.0739      0.005     14.923      0.000       0.064       0.084\n",
       "ar.L1         -0.1199      0.008    -14.245      0.000      -0.136      -0.103\n",
       "ar.L2         -0.0243      0.011     -2.210      0.027      -0.046      -0.003\n",
       "ar.L3         -0.0697      0.010     -6.694      0.000      -0.090      -0.049\n",
       "ma.S.L5       -0.0318      0.010     -3.274      0.001      -0.051      -0.013\n",
       "ma.S.L10      -0.0559      0.010     -5.394      0.000      -0.076      -0.036\n",
       "ma.S.L15      -0.0268      0.010     -2.629      0.009      -0.047      -0.007\n",
       "sigma2         0.4872      0.006     86.427      0.000       0.476       0.498\n",
       "===================================================================================\n",
       "Ljung-Box (L1) (Q):                   0.01   Jarque-Bera (JB):             10037.45\n",
       "Prob(Q):                              0.92   Prob(JB):                         0.00\n",
       "Heteroskedasticity (H):               1.04   Skew:                             0.21\n",
       "Prob(H) (two-sided):                  0.40   Kurtosis:                         9.91\n",
       "===================================================================================\n",
       "\n",
       "Warnings:\n",
       "[1] Covariance matrix calculated using the outer product of gradients (complex-step).\n",
       "\"\"\""
      ]
     },
     "execution_count": 26,
     "metadata": {},
     "output_type": "execute_result"
    }
   ],
   "source": [
    "model_auto.summary()"
   ]
  },
  {
   "cell_type": "code",
   "execution_count": 21,
   "id": "6389cbce",
   "metadata": {},
   "outputs": [],
   "source": [
    "model_auto1 = auto_arima(df_comp.ret_ftse[1:], exogenous = df_comp[['ret_spx', 'ret_dax', 'ret_nikkei']][1:], m=5,\n",
    "                       max_order=None, max_p= 7, max_q = 7, max_d = 2, max_P = 4, max_Q = 4, max_D=2,\n",
    "                       maxiter=50, alpha=0.05, n_jobs=-1, trend='ct', information_criterion='oob',\n",
    "                       out_of_sample_size= int(len(df_comp)*0.2))"
   ]
  },
  {
   "cell_type": "code",
   "execution_count": 24,
   "id": "d6ac9f2a",
   "metadata": {},
   "outputs": [
    {
     "data": {
      "text/plain": [
       "ARIMA(order=(2, 0, 2), out_of_sample_size=1255, scoring_args={},\n",
       "      seasonal_order=(1, 0, 2, 5), suppress_warnings=True, trend='ct',\n",
       "      with_intercept=False)"
      ]
     },
     "execution_count": 24,
     "metadata": {},
     "output_type": "execute_result"
    }
   ],
   "source": [
    "model_auto1"
   ]
  },
  {
   "cell_type": "code",
   "execution_count": 22,
   "id": "89ca9cee",
   "metadata": {},
   "outputs": [
    {
     "data": {
      "text/html": [
       "<table class=\"simpletable\">\n",
       "<caption>SARIMAX Results</caption>\n",
       "<tr>\n",
       "  <th>Dep. Variable:</th>                 <td>y</td>               <th>  No. Observations:  </th>   <td>6275</td>   \n",
       "</tr>\n",
       "<tr>\n",
       "  <th>Model:</th>           <td>SARIMAX(2, 0, 2)x(1, 0, 2, 5)</td> <th>  Log Likelihood     </th> <td>-6357.988</td>\n",
       "</tr>\n",
       "<tr>\n",
       "  <th>Date:</th>                  <td>Sun, 22 Aug 2021</td>        <th>  AIC                </th> <td>12741.976</td>\n",
       "</tr>\n",
       "<tr>\n",
       "  <th>Time:</th>                      <td>17:17:47</td>            <th>  BIC                </th> <td>12829.652</td>\n",
       "</tr>\n",
       "<tr>\n",
       "  <th>Sample:</th>                        <td>0</td>               <th>  HQIC               </th> <td>12772.355</td>\n",
       "</tr>\n",
       "<tr>\n",
       "  <th></th>                            <td> - 6275</td>            <th>                     </th>     <td> </td>    \n",
       "</tr>\n",
       "<tr>\n",
       "  <th>Covariance Type:</th>              <td>opg</td>              <th>                     </th>     <td> </td>    \n",
       "</tr>\n",
       "</table>\n",
       "<table class=\"simpletable\">\n",
       "<tr>\n",
       "      <td></td>         <th>coef</th>     <th>std err</th>      <th>z</th>      <th>P>|z|</th>  <th>[0.025</th>    <th>0.975]</th>  \n",
       "</tr>\n",
       "<tr>\n",
       "  <th>intercept</th> <td>   -0.0088</td> <td>    0.008</td> <td>   -1.082</td> <td> 0.279</td> <td>   -0.025</td> <td>    0.007</td>\n",
       "</tr>\n",
       "<tr>\n",
       "  <th>drift</th>     <td> 6.202e-07</td> <td> 2.39e-06</td> <td>    0.259</td> <td> 0.795</td> <td>-4.07e-06</td> <td> 5.31e-06</td>\n",
       "</tr>\n",
       "<tr>\n",
       "  <th>x1</th>        <td>    0.0853</td> <td>    0.006</td> <td>   13.582</td> <td> 0.000</td> <td>    0.073</td> <td>    0.098</td>\n",
       "</tr>\n",
       "<tr>\n",
       "  <th>x2</th>        <td>    0.5634</td> <td>    0.005</td> <td>  102.833</td> <td> 0.000</td> <td>    0.553</td> <td>    0.574</td>\n",
       "</tr>\n",
       "<tr>\n",
       "  <th>x3</th>        <td>    0.0738</td> <td>    0.005</td> <td>   15.656</td> <td> 0.000</td> <td>    0.065</td> <td>    0.083</td>\n",
       "</tr>\n",
       "<tr>\n",
       "  <th>ar.L1</th>     <td>   -0.1405</td> <td>    0.092</td> <td>   -1.522</td> <td> 0.128</td> <td>   -0.321</td> <td>    0.040</td>\n",
       "</tr>\n",
       "<tr>\n",
       "  <th>ar.L2</th>     <td>    0.5456</td> <td>    0.054</td> <td>   10.041</td> <td> 0.000</td> <td>    0.439</td> <td>    0.652</td>\n",
       "</tr>\n",
       "<tr>\n",
       "  <th>ma.L1</th>     <td>    0.0193</td> <td>    0.093</td> <td>    0.208</td> <td> 0.835</td> <td>   -0.163</td> <td>    0.201</td>\n",
       "</tr>\n",
       "<tr>\n",
       "  <th>ma.L2</th>     <td>   -0.5749</td> <td>    0.056</td> <td>  -10.322</td> <td> 0.000</td> <td>   -0.684</td> <td>   -0.466</td>\n",
       "</tr>\n",
       "<tr>\n",
       "  <th>ar.S.L5</th>   <td>   -0.0128</td> <td>    0.187</td> <td>   -0.068</td> <td> 0.946</td> <td>   -0.379</td> <td>    0.353</td>\n",
       "</tr>\n",
       "<tr>\n",
       "  <th>ma.S.L5</th>   <td>   -0.0202</td> <td>    0.187</td> <td>   -0.108</td> <td> 0.914</td> <td>   -0.387</td> <td>    0.347</td>\n",
       "</tr>\n",
       "<tr>\n",
       "  <th>ma.S.L10</th>  <td>   -0.0550</td> <td>    0.013</td> <td>   -4.161</td> <td> 0.000</td> <td>   -0.081</td> <td>   -0.029</td>\n",
       "</tr>\n",
       "<tr>\n",
       "  <th>sigma2</th>    <td>    0.4861</td> <td>    0.005</td> <td>   90.545</td> <td> 0.000</td> <td>    0.476</td> <td>    0.497</td>\n",
       "</tr>\n",
       "</table>\n",
       "<table class=\"simpletable\">\n",
       "<tr>\n",
       "  <th>Ljung-Box (L1) (Q):</th>     <td>2.85</td> <th>  Jarque-Bera (JB):  </th> <td>12788.07</td>\n",
       "</tr>\n",
       "<tr>\n",
       "  <th>Prob(Q):</th>                <td>0.09</td> <th>  Prob(JB):          </th>   <td>0.00</td>  \n",
       "</tr>\n",
       "<tr>\n",
       "  <th>Heteroskedasticity (H):</th> <td>0.55</td> <th>  Skew:              </th>   <td>0.22</td>  \n",
       "</tr>\n",
       "<tr>\n",
       "  <th>Prob(H) (two-sided):</th>    <td>0.00</td> <th>  Kurtosis:          </th>   <td>9.98</td>  \n",
       "</tr>\n",
       "</table><br/><br/>Warnings:<br/>[1] Covariance matrix calculated using the outer product of gradients (complex-step)."
      ],
      "text/plain": [
       "<class 'statsmodels.iolib.summary.Summary'>\n",
       "\"\"\"\n",
       "                                     SARIMAX Results                                     \n",
       "=========================================================================================\n",
       "Dep. Variable:                                 y   No. Observations:                 6275\n",
       "Model:             SARIMAX(2, 0, 2)x(1, 0, 2, 5)   Log Likelihood               -6357.988\n",
       "Date:                           Sun, 22 Aug 2021   AIC                          12741.976\n",
       "Time:                                   17:17:47   BIC                          12829.652\n",
       "Sample:                                        0   HQIC                         12772.355\n",
       "                                          - 6275                                         \n",
       "Covariance Type:                             opg                                         \n",
       "==============================================================================\n",
       "                 coef    std err          z      P>|z|      [0.025      0.975]\n",
       "------------------------------------------------------------------------------\n",
       "intercept     -0.0088      0.008     -1.082      0.279      -0.025       0.007\n",
       "drift       6.202e-07   2.39e-06      0.259      0.795   -4.07e-06    5.31e-06\n",
       "x1             0.0853      0.006     13.582      0.000       0.073       0.098\n",
       "x2             0.5634      0.005    102.833      0.000       0.553       0.574\n",
       "x3             0.0738      0.005     15.656      0.000       0.065       0.083\n",
       "ar.L1         -0.1405      0.092     -1.522      0.128      -0.321       0.040\n",
       "ar.L2          0.5456      0.054     10.041      0.000       0.439       0.652\n",
       "ma.L1          0.0193      0.093      0.208      0.835      -0.163       0.201\n",
       "ma.L2         -0.5749      0.056    -10.322      0.000      -0.684      -0.466\n",
       "ar.S.L5       -0.0128      0.187     -0.068      0.946      -0.379       0.353\n",
       "ma.S.L5       -0.0202      0.187     -0.108      0.914      -0.387       0.347\n",
       "ma.S.L10      -0.0550      0.013     -4.161      0.000      -0.081      -0.029\n",
       "sigma2         0.4861      0.005     90.545      0.000       0.476       0.497\n",
       "===================================================================================\n",
       "Ljung-Box (L1) (Q):                   2.85   Jarque-Bera (JB):             12788.07\n",
       "Prob(Q):                              0.09   Prob(JB):                         0.00\n",
       "Heteroskedasticity (H):               0.55   Skew:                             0.22\n",
       "Prob(H) (two-sided):                  0.00   Kurtosis:                         9.98\n",
       "===================================================================================\n",
       "\n",
       "Warnings:\n",
       "[1] Covariance matrix calculated using the outer product of gradients (complex-step).\n",
       "\"\"\""
      ]
     },
     "execution_count": 22,
     "metadata": {},
     "output_type": "execute_result"
    }
   ],
   "source": [
    "model_auto1.summary()"
   ]
  },
  {
   "cell_type": "code",
   "execution_count": null,
   "id": "52df38a7",
   "metadata": {},
   "outputs": [],
   "source": []
  }
 ],
 "metadata": {
  "hide_input": false,
  "kernelspec": {
   "display_name": "Python 3",
   "language": "python",
   "name": "python3"
  },
  "language_info": {
   "codemirror_mode": {
    "name": "ipython",
    "version": 3
   },
   "file_extension": ".py",
   "mimetype": "text/x-python",
   "name": "python",
   "nbconvert_exporter": "python",
   "pygments_lexer": "ipython3",
   "version": "3.7.6"
  },
  "varInspector": {
   "cols": {
    "lenName": 16,
    "lenType": 16,
    "lenVar": 40
   },
   "kernels_config": {
    "python": {
     "delete_cmd_postfix": "",
     "delete_cmd_prefix": "del ",
     "library": "var_list.py",
     "varRefreshCmd": "print(var_dic_list())"
    },
    "r": {
     "delete_cmd_postfix": ") ",
     "delete_cmd_prefix": "rm(",
     "library": "var_list.r",
     "varRefreshCmd": "cat(var_dic_list()) "
    }
   },
   "types_to_exclude": [
    "module",
    "function",
    "builtin_function_or_method",
    "instance",
    "_Feature"
   ],
   "window_display": false
  }
 },
 "nbformat": 4,
 "nbformat_minor": 5
}
