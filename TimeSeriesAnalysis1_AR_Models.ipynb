{
 "cells": [
  {
   "cell_type": "code",
   "execution_count": 1,
   "id": "d7cc711e",
   "metadata": {},
   "outputs": [
    {
     "data": {
      "text/html": [
       "<style>.container {width: 100% !important; }</style>"
      ],
      "text/plain": [
       "<IPython.core.display.HTML object>"
      ]
     },
     "metadata": {},
     "output_type": "display_data"
    }
   ],
   "source": [
    "from IPython.core.display import display, HTML\n",
    "display(HTML(\"<style>.container {width: 100% !important; }</style>\"))"
   ]
  },
  {
   "cell_type": "markdown",
   "id": "d212af4e",
   "metadata": {},
   "source": [
    "The previous part of this notebook is available at: <br>\n",
    "https://github.com/Hassi34/TimeSeriesAnalysis/blob/main/TimeSeriesAnalysis0.ipynb"
   ]
  },
  {
   "cell_type": "code",
   "execution_count": 2,
   "id": "94577893",
   "metadata": {},
   "outputs": [],
   "source": [
    "import warnings\n",
    "warnings.filterwarnings('ignore')\n",
    "import pandas as pd \n",
    "import numpy as np\n",
    "import matplotlib.pyplot as plt\n",
    "import seaborn as sns\n",
    "import scipy\n",
    "import pylab\n",
    "from statsmodels.tsa.stattools import adfuller\n",
    "from statsmodels.tsa.seasonal import seasonal_decompose\n",
    "import statsmodels.graphics.tsaplots as sgt\n",
    "from statsmodels.tsa.arima_model import ARMA \n",
    "from scipy.stats.distributions import chi2\n",
    "sns.set()"
   ]
  },
  {
   "cell_type": "markdown",
   "id": "04a10332",
   "metadata": {},
   "source": [
    "## Preprocessing"
   ]
  },
  {
   "cell_type": "code",
   "execution_count": 3,
   "id": "7016199f",
   "metadata": {},
   "outputs": [],
   "source": [
    "def LLR_Test(mod_1, mod_2, DF=1):\n",
    "    L1 = mod_1.fit().llf\n",
    "    L2 = mod_2.fit().llf\n",
    "    LR = (2*(L2-L1))\n",
    "    p = chi2.sf(LR, DF).round(3)\n",
    "    return p"
   ]
  },
  {
   "cell_type": "code",
   "execution_count": 38,
   "id": "9016ce95",
   "metadata": {},
   "outputs": [
    {
     "data": {
      "text/plain": [
       "((5021, 1), (1256, 1))"
      ]
     },
     "execution_count": 38,
     "metadata": {},
     "output_type": "execute_result"
    }
   ],
   "source": [
    "raw_csv_data = pd.read_csv(\"Index2018.csv\")\n",
    "\n",
    "df_comp = raw_csv_data.copy()\n",
    "df_comp.date = pd.to_datetime(df_comp.date, dayfirst= True )\n",
    "df_comp.set_index('date', inplace=True)\n",
    "df_comp = df_comp.asfreq('b')\n",
    "df_comp = df_comp.fillna(method='ffill')\n",
    "df_comp['market_value'] = df_comp.ftse\n",
    "del df_comp['spx'], df_comp['dax'], df_comp['nikkei'], df_comp['ftse']\n",
    "\n",
    "size = int(len(df_comp)*0.8)\n",
    "df, df_test = df_comp.iloc[:size], df_comp.iloc[size:]\n",
    "df.shape, df_test.shape"
   ]
  },
  {
   "cell_type": "code",
   "execution_count": 39,
   "id": "25c7c0a5",
   "metadata": {},
   "outputs": [
    {
     "data": {
      "text/html": [
       "<div>\n",
       "<style scoped>\n",
       "    .dataframe tbody tr th:only-of-type {\n",
       "        vertical-align: middle;\n",
       "    }\n",
       "\n",
       "    .dataframe tbody tr th {\n",
       "        vertical-align: top;\n",
       "    }\n",
       "\n",
       "    .dataframe thead th {\n",
       "        text-align: right;\n",
       "    }\n",
       "</style>\n",
       "<table border=\"1\" class=\"dataframe\">\n",
       "  <thead>\n",
       "    <tr style=\"text-align: right;\">\n",
       "      <th></th>\n",
       "      <th>market_value</th>\n",
       "      <th>returns</th>\n",
       "    </tr>\n",
       "    <tr>\n",
       "      <th>date</th>\n",
       "      <th></th>\n",
       "      <th></th>\n",
       "    </tr>\n",
       "  </thead>\n",
       "  <tbody>\n",
       "    <tr>\n",
       "      <th>1994-01-10</th>\n",
       "      <td>3440.58</td>\n",
       "      <td>-0.156704</td>\n",
       "    </tr>\n",
       "    <tr>\n",
       "      <th>1994-01-11</th>\n",
       "      <td>3413.77</td>\n",
       "      <td>-0.779229</td>\n",
       "    </tr>\n",
       "    <tr>\n",
       "      <th>1994-01-12</th>\n",
       "      <td>3372.02</td>\n",
       "      <td>-1.222988</td>\n",
       "    </tr>\n",
       "    <tr>\n",
       "      <th>1994-01-13</th>\n",
       "      <td>3360.01</td>\n",
       "      <td>-0.356166</td>\n",
       "    </tr>\n",
       "    <tr>\n",
       "      <th>1994-01-14</th>\n",
       "      <td>3400.56</td>\n",
       "      <td>1.206842</td>\n",
       "    </tr>\n",
       "    <tr>\n",
       "      <th>...</th>\n",
       "      <td>...</td>\n",
       "      <td>...</td>\n",
       "    </tr>\n",
       "    <tr>\n",
       "      <th>2013-04-01</th>\n",
       "      <td>6411.74</td>\n",
       "      <td>0.000000</td>\n",
       "    </tr>\n",
       "    <tr>\n",
       "      <th>2013-04-02</th>\n",
       "      <td>6490.66</td>\n",
       "      <td>1.230867</td>\n",
       "    </tr>\n",
       "    <tr>\n",
       "      <th>2013-04-03</th>\n",
       "      <td>6420.28</td>\n",
       "      <td>-1.084327</td>\n",
       "    </tr>\n",
       "    <tr>\n",
       "      <th>2013-04-04</th>\n",
       "      <td>6344.11</td>\n",
       "      <td>-1.186397</td>\n",
       "    </tr>\n",
       "    <tr>\n",
       "      <th>2013-04-05</th>\n",
       "      <td>6249.77</td>\n",
       "      <td>-1.487049</td>\n",
       "    </tr>\n",
       "  </tbody>\n",
       "</table>\n",
       "<p>5020 rows × 2 columns</p>\n",
       "</div>"
      ],
      "text/plain": [
       "            market_value   returns\n",
       "date                              \n",
       "1994-01-10       3440.58 -0.156704\n",
       "1994-01-11       3413.77 -0.779229\n",
       "1994-01-12       3372.02 -1.222988\n",
       "1994-01-13       3360.01 -0.356166\n",
       "1994-01-14       3400.56  1.206842\n",
       "...                  ...       ...\n",
       "2013-04-01       6411.74  0.000000\n",
       "2013-04-02       6490.66  1.230867\n",
       "2013-04-03       6420.28 -1.084327\n",
       "2013-04-04       6344.11 -1.186397\n",
       "2013-04-05       6249.77 -1.487049\n",
       "\n",
       "[5020 rows x 2 columns]"
      ]
     },
     "execution_count": 39,
     "metadata": {},
     "output_type": "execute_result"
    }
   ],
   "source": [
    "df['returns'] = df.market_value.pct_change(1).mul(100)\n",
    "df = df.iloc[1:] # have to start from the first index to calculate the change as there will be no previous value for the 0th index\n",
    "df"
   ]
  },
  {
   "cell_type": "markdown",
   "id": "e6200e7b",
   "metadata": {},
   "source": [
    "## Simple AR for Returns"
   ]
  },
  {
   "cell_type": "code",
   "execution_count": 40,
   "id": "c15e5c4c",
   "metadata": {},
   "outputs": [
    {
     "data": {
      "text/html": [
       "<table class=\"simpletable\">\n",
       "<caption>ARMA Model Results</caption>\n",
       "<tr>\n",
       "  <th>Dep. Variable:</th>      <td>returns</td>     <th>  No. Observations:  </th>   <td>5020</td>   \n",
       "</tr>\n",
       "<tr>\n",
       "  <th>Model:</th>            <td>ARMA(1, 0)</td>    <th>  Log Likelihood     </th> <td>-7929.749</td>\n",
       "</tr>\n",
       "<tr>\n",
       "  <th>Method:</th>             <td>css-mle</td>     <th>  S.D. of innovations</th>   <td>1.174</td>  \n",
       "</tr>\n",
       "<tr>\n",
       "  <th>Date:</th>          <td>Sat, 21 Aug 2021</td> <th>  AIC                </th> <td>15865.497</td>\n",
       "</tr>\n",
       "<tr>\n",
       "  <th>Time:</th>              <td>09:24:53</td>     <th>  BIC                </th> <td>15885.061</td>\n",
       "</tr>\n",
       "<tr>\n",
       "  <th>Sample:</th>           <td>01-10-1994</td>    <th>  HQIC               </th> <td>15872.353</td>\n",
       "</tr>\n",
       "<tr>\n",
       "  <th></th>                 <td>- 04-05-2013</td>   <th>                     </th>     <td> </td>    \n",
       "</tr>\n",
       "</table>\n",
       "<table class=\"simpletable\">\n",
       "<tr>\n",
       "        <td></td>           <th>coef</th>     <th>std err</th>      <th>z</th>      <th>P>|z|</th>  <th>[0.025</th>    <th>0.975]</th>  \n",
       "</tr>\n",
       "<tr>\n",
       "  <th>const</th>         <td>    0.0188</td> <td>    0.016</td> <td>    1.159</td> <td> 0.247</td> <td>   -0.013</td> <td>    0.051</td>\n",
       "</tr>\n",
       "<tr>\n",
       "  <th>ar.L1.returns</th> <td>   -0.0230</td> <td>    0.014</td> <td>   -1.631</td> <td> 0.103</td> <td>   -0.051</td> <td>    0.005</td>\n",
       "</tr>\n",
       "</table>\n",
       "<table class=\"simpletable\">\n",
       "<caption>Roots</caption>\n",
       "<tr>\n",
       "    <td></td>   <th>            Real</th>  <th>         Imaginary</th> <th>         Modulus</th>  <th>        Frequency</th>\n",
       "</tr>\n",
       "<tr>\n",
       "  <th>AR.1</th> <td>         -43.4387</td> <td>          +0.0000j</td> <td>          43.4387</td> <td>           0.5000</td>\n",
       "</tr>\n",
       "</table>"
      ],
      "text/plain": [
       "<class 'statsmodels.iolib.summary.Summary'>\n",
       "\"\"\"\n",
       "                              ARMA Model Results                              \n",
       "==============================================================================\n",
       "Dep. Variable:                returns   No. Observations:                 5020\n",
       "Model:                     ARMA(1, 0)   Log Likelihood               -7929.749\n",
       "Method:                       css-mle   S.D. of innovations              1.174\n",
       "Date:                Sat, 21 Aug 2021   AIC                          15865.497\n",
       "Time:                        09:24:53   BIC                          15885.061\n",
       "Sample:                    01-10-1994   HQIC                         15872.353\n",
       "                         - 04-05-2013                                         \n",
       "=================================================================================\n",
       "                    coef    std err          z      P>|z|      [0.025      0.975]\n",
       "---------------------------------------------------------------------------------\n",
       "const             0.0188      0.016      1.159      0.247      -0.013       0.051\n",
       "ar.L1.returns    -0.0230      0.014     -1.631      0.103      -0.051       0.005\n",
       "                                    Roots                                    \n",
       "=============================================================================\n",
       "                  Real          Imaginary           Modulus         Frequency\n",
       "-----------------------------------------------------------------------------\n",
       "AR.1          -43.4387           +0.0000j           43.4387            0.5000\n",
       "-----------------------------------------------------------------------------\n",
       "\"\"\""
      ]
     },
     "execution_count": 40,
     "metadata": {},
     "output_type": "execute_result"
    }
   ],
   "source": [
    "model_ar1 = ARMA(df.returns, order=(1,0))\n",
    "results_ar1 = model_ar1.fit()\n",
    "results_ar1.summary()"
   ]
  },
  {
   "cell_type": "markdown",
   "id": "7aeafcfb",
   "metadata": {},
   "source": [
    "As both the p-values show the insignificance, we would try using the higher Lags for AR Model\n",
    "\n",
    "## Higher Lags AR Models for Returns"
   ]
  },
  {
   "cell_type": "code",
   "execution_count": 41,
   "id": "4706b6e0",
   "metadata": {},
   "outputs": [
    {
     "data": {
      "text/html": [
       "<table class=\"simpletable\">\n",
       "<caption>ARMA Model Results</caption>\n",
       "<tr>\n",
       "  <th>Dep. Variable:</th>      <td>returns</td>     <th>  No. Observations:  </th>   <td>5020</td>   \n",
       "</tr>\n",
       "<tr>\n",
       "  <th>Model:</th>            <td>ARMA(2, 0)</td>    <th>  Log Likelihood     </th> <td>-7923.456</td>\n",
       "</tr>\n",
       "<tr>\n",
       "  <th>Method:</th>             <td>css-mle</td>     <th>  S.D. of innovations</th>   <td>1.173</td>  \n",
       "</tr>\n",
       "<tr>\n",
       "  <th>Date:</th>          <td>Sat, 21 Aug 2021</td> <th>  AIC                </th> <td>15854.911</td>\n",
       "</tr>\n",
       "<tr>\n",
       "  <th>Time:</th>              <td>09:24:54</td>     <th>  BIC                </th> <td>15880.996</td>\n",
       "</tr>\n",
       "<tr>\n",
       "  <th>Sample:</th>           <td>01-10-1994</td>    <th>  HQIC               </th> <td>15864.052</td>\n",
       "</tr>\n",
       "<tr>\n",
       "  <th></th>                 <td>- 04-05-2013</td>   <th>                     </th>     <td> </td>    \n",
       "</tr>\n",
       "</table>\n",
       "<table class=\"simpletable\">\n",
       "<tr>\n",
       "        <td></td>           <th>coef</th>     <th>std err</th>      <th>z</th>      <th>P>|z|</th>  <th>[0.025</th>    <th>0.975]</th>  \n",
       "</tr>\n",
       "<tr>\n",
       "  <th>const</th>         <td>    0.0188</td> <td>    0.015</td> <td>    1.220</td> <td> 0.222</td> <td>   -0.011</td> <td>    0.049</td>\n",
       "</tr>\n",
       "<tr>\n",
       "  <th>ar.L1.returns</th> <td>   -0.0242</td> <td>    0.014</td> <td>   -1.716</td> <td> 0.086</td> <td>   -0.052</td> <td>    0.003</td>\n",
       "</tr>\n",
       "<tr>\n",
       "  <th>ar.L2.returns</th> <td>   -0.0500</td> <td>    0.014</td> <td>   -3.550</td> <td> 0.000</td> <td>   -0.078</td> <td>   -0.022</td>\n",
       "</tr>\n",
       "</table>\n",
       "<table class=\"simpletable\">\n",
       "<caption>Roots</caption>\n",
       "<tr>\n",
       "    <td></td>   <th>            Real</th>  <th>         Imaginary</th> <th>         Modulus</th>  <th>        Frequency</th>\n",
       "</tr>\n",
       "<tr>\n",
       "  <th>AR.1</th> <td>          -0.2417</td> <td>          -4.4635j</td> <td>           4.4701</td> <td>          -0.2586</td>\n",
       "</tr>\n",
       "<tr>\n",
       "  <th>AR.2</th> <td>          -0.2417</td> <td>          +4.4635j</td> <td>           4.4701</td> <td>           0.2586</td>\n",
       "</tr>\n",
       "</table>"
      ],
      "text/plain": [
       "<class 'statsmodels.iolib.summary.Summary'>\n",
       "\"\"\"\n",
       "                              ARMA Model Results                              \n",
       "==============================================================================\n",
       "Dep. Variable:                returns   No. Observations:                 5020\n",
       "Model:                     ARMA(2, 0)   Log Likelihood               -7923.456\n",
       "Method:                       css-mle   S.D. of innovations              1.173\n",
       "Date:                Sat, 21 Aug 2021   AIC                          15854.911\n",
       "Time:                        09:24:54   BIC                          15880.996\n",
       "Sample:                    01-10-1994   HQIC                         15864.052\n",
       "                         - 04-05-2013                                         \n",
       "=================================================================================\n",
       "                    coef    std err          z      P>|z|      [0.025      0.975]\n",
       "---------------------------------------------------------------------------------\n",
       "const             0.0188      0.015      1.220      0.222      -0.011       0.049\n",
       "ar.L1.returns    -0.0242      0.014     -1.716      0.086      -0.052       0.003\n",
       "ar.L2.returns    -0.0500      0.014     -3.550      0.000      -0.078      -0.022\n",
       "                                    Roots                                    \n",
       "=============================================================================\n",
       "                  Real          Imaginary           Modulus         Frequency\n",
       "-----------------------------------------------------------------------------\n",
       "AR.1           -0.2417           -4.4635j            4.4701           -0.2586\n",
       "AR.2           -0.2417           +4.4635j            4.4701            0.2586\n",
       "-----------------------------------------------------------------------------\n",
       "\"\"\""
      ]
     },
     "execution_count": 41,
     "metadata": {},
     "output_type": "execute_result"
    }
   ],
   "source": [
    "model_ar2 = ARMA(df.returns, order=(2,0))\n",
    "results_ar2 = model_ar2.fit()\n",
    "results_ar2.summary()"
   ]
  },
  {
   "cell_type": "code",
   "execution_count": 42,
   "id": "8761e79e",
   "metadata": {},
   "outputs": [
    {
     "data": {
      "text/plain": [
       "0.0"
      ]
     },
     "execution_count": 42,
     "metadata": {},
     "output_type": "execute_result"
    }
   ],
   "source": [
    "LLR_Test(model_ar1, model_ar2) #So, this model is a better fit then the previous model"
   ]
  },
  {
   "cell_type": "code",
   "execution_count": 43,
   "id": "739045fd",
   "metadata": {},
   "outputs": [
    {
     "data": {
      "text/html": [
       "<table class=\"simpletable\">\n",
       "<caption>ARMA Model Results</caption>\n",
       "<tr>\n",
       "  <th>Dep. Variable:</th>      <td>returns</td>     <th>  No. Observations:  </th>   <td>5020</td>   \n",
       "</tr>\n",
       "<tr>\n",
       "  <th>Model:</th>            <td>ARMA(3, 0)</td>    <th>  Log Likelihood     </th> <td>-7906.738</td>\n",
       "</tr>\n",
       "<tr>\n",
       "  <th>Method:</th>             <td>css-mle</td>     <th>  S.D. of innovations</th>   <td>1.169</td>  \n",
       "</tr>\n",
       "<tr>\n",
       "  <th>Date:</th>          <td>Sat, 21 Aug 2021</td> <th>  AIC                </th> <td>15823.477</td>\n",
       "</tr>\n",
       "<tr>\n",
       "  <th>Time:</th>              <td>09:24:55</td>     <th>  BIC                </th> <td>15856.083</td>\n",
       "</tr>\n",
       "<tr>\n",
       "  <th>Sample:</th>           <td>01-10-1994</td>    <th>  HQIC               </th> <td>15834.902</td>\n",
       "</tr>\n",
       "<tr>\n",
       "  <th></th>                 <td>- 04-05-2013</td>   <th>                     </th>     <td> </td>    \n",
       "</tr>\n",
       "</table>\n",
       "<table class=\"simpletable\">\n",
       "<tr>\n",
       "        <td></td>           <th>coef</th>     <th>std err</th>      <th>z</th>      <th>P>|z|</th>  <th>[0.025</th>    <th>0.975]</th>  \n",
       "</tr>\n",
       "<tr>\n",
       "  <th>const</th>         <td>    0.0189</td> <td>    0.014</td> <td>    1.330</td> <td> 0.184</td> <td>   -0.009</td> <td>    0.047</td>\n",
       "</tr>\n",
       "<tr>\n",
       "  <th>ar.L1.returns</th> <td>   -0.0283</td> <td>    0.014</td> <td>   -2.011</td> <td> 0.044</td> <td>   -0.056</td> <td>   -0.001</td>\n",
       "</tr>\n",
       "<tr>\n",
       "  <th>ar.L2.returns</th> <td>   -0.0521</td> <td>    0.014</td> <td>   -3.705</td> <td> 0.000</td> <td>   -0.080</td> <td>   -0.025</td>\n",
       "</tr>\n",
       "<tr>\n",
       "  <th>ar.L3.returns</th> <td>   -0.0815</td> <td>    0.014</td> <td>   -5.792</td> <td> 0.000</td> <td>   -0.109</td> <td>   -0.054</td>\n",
       "</tr>\n",
       "</table>\n",
       "<table class=\"simpletable\">\n",
       "<caption>Roots</caption>\n",
       "<tr>\n",
       "    <td></td>   <th>            Real</th>  <th>         Imaginary</th> <th>         Modulus</th>  <th>        Frequency</th>\n",
       "</tr>\n",
       "<tr>\n",
       "  <th>AR.1</th> <td>           0.9233</td> <td>          -2.0210j</td> <td>           2.2219</td> <td>          -0.1818</td>\n",
       "</tr>\n",
       "<tr>\n",
       "  <th>AR.2</th> <td>           0.9233</td> <td>          +2.0210j</td> <td>           2.2219</td> <td>           0.1818</td>\n",
       "</tr>\n",
       "<tr>\n",
       "  <th>AR.3</th> <td>          -2.4855</td> <td>          -0.0000j</td> <td>           2.4855</td> <td>          -0.5000</td>\n",
       "</tr>\n",
       "</table>"
      ],
      "text/plain": [
       "<class 'statsmodels.iolib.summary.Summary'>\n",
       "\"\"\"\n",
       "                              ARMA Model Results                              \n",
       "==============================================================================\n",
       "Dep. Variable:                returns   No. Observations:                 5020\n",
       "Model:                     ARMA(3, 0)   Log Likelihood               -7906.738\n",
       "Method:                       css-mle   S.D. of innovations              1.169\n",
       "Date:                Sat, 21 Aug 2021   AIC                          15823.477\n",
       "Time:                        09:24:55   BIC                          15856.083\n",
       "Sample:                    01-10-1994   HQIC                         15834.902\n",
       "                         - 04-05-2013                                         \n",
       "=================================================================================\n",
       "                    coef    std err          z      P>|z|      [0.025      0.975]\n",
       "---------------------------------------------------------------------------------\n",
       "const             0.0189      0.014      1.330      0.184      -0.009       0.047\n",
       "ar.L1.returns    -0.0283      0.014     -2.011      0.044      -0.056      -0.001\n",
       "ar.L2.returns    -0.0521      0.014     -3.705      0.000      -0.080      -0.025\n",
       "ar.L3.returns    -0.0815      0.014     -5.792      0.000      -0.109      -0.054\n",
       "                                    Roots                                    \n",
       "=============================================================================\n",
       "                  Real          Imaginary           Modulus         Frequency\n",
       "-----------------------------------------------------------------------------\n",
       "AR.1            0.9233           -2.0210j            2.2219           -0.1818\n",
       "AR.2            0.9233           +2.0210j            2.2219            0.1818\n",
       "AR.3           -2.4855           -0.0000j            2.4855           -0.5000\n",
       "-----------------------------------------------------------------------------\n",
       "\"\"\""
      ]
     },
     "execution_count": 43,
     "metadata": {},
     "output_type": "execute_result"
    }
   ],
   "source": [
    "model_ar3 = ARMA(df.returns, order=(3,0))\n",
    "results_ar3 = model_ar3.fit()\n",
    "results_ar3.summary()"
   ]
  },
  {
   "cell_type": "code",
   "execution_count": 44,
   "id": "b2bc5824",
   "metadata": {},
   "outputs": [
    {
     "data": {
      "text/plain": [
       "0.0"
      ]
     },
     "execution_count": 44,
     "metadata": {},
     "output_type": "execute_result"
    }
   ],
   "source": [
    "LLR_Test(model_ar2, model_ar3) #Again, this model is also signifinicantly better \n",
    "# The information criteria(AIC, BIC, HQIC) for model 3 is lower than the model 2 which concludes that the model 3 outperforms model 2 "
   ]
  },
  {
   "cell_type": "code",
   "execution_count": 45,
   "id": "ebd202f3",
   "metadata": {},
   "outputs": [
    {
     "name": "stdout",
     "output_type": "stream",
     "text": [
      "                              ARMA Model Results                              \n",
      "==============================================================================\n",
      "Dep. Variable:                returns   No. Observations:                 5020\n",
      "Model:                     ARMA(4, 0)   Log Likelihood               -7901.330\n",
      "Method:                       css-mle   S.D. of innovations              1.168\n",
      "Date:                Sat, 21 Aug 2021   AIC                          15814.661\n",
      "Time:                        09:24:56   BIC                          15853.788\n",
      "Sample:                    01-10-1994   HQIC                         15828.371\n",
      "                         - 04-05-2013                                         \n",
      "=================================================================================\n",
      "                    coef    std err          z      P>|z|      [0.025      0.975]\n",
      "---------------------------------------------------------------------------------\n",
      "const             0.0188      0.015      1.267      0.205      -0.010       0.048\n",
      "ar.L1.returns    -0.0245      0.014     -1.739      0.082      -0.052       0.003\n",
      "ar.L2.returns    -0.0496      0.014     -3.531      0.000      -0.077      -0.022\n",
      "ar.L3.returns    -0.0802      0.014     -5.701      0.000      -0.108      -0.053\n",
      "ar.L4.returns     0.0464      0.014      3.291      0.001       0.019       0.074\n",
      "                                    Roots                                    \n",
      "=============================================================================\n",
      "                  Real          Imaginary           Modulus         Frequency\n",
      "-----------------------------------------------------------------------------\n",
      "AR.1           -1.8888           -0.0000j            1.8888           -0.5000\n",
      "AR.2            0.3231           -1.9331j            1.9599           -0.2236\n",
      "AR.3            0.3231           +1.9331j            1.9599            0.2236\n",
      "AR.4            2.9701           -0.0000j            2.9701           -0.0000\n",
      "-----------------------------------------------------------------------------\n",
      "LLR Test p-value : 0.001\n"
     ]
    }
   ],
   "source": [
    "model_ar4 = ARMA(df.returns, order = (4,0))\n",
    "result_ar4 = model_ar4.fit() \n",
    "print(result_ar4.summary())\n",
    "print(f\"LLR Test p-value : {LLR_Test(model_ar3, model_ar4)}\")"
   ]
  },
  {
   "cell_type": "code",
   "execution_count": 46,
   "id": "68286e04",
   "metadata": {},
   "outputs": [
    {
     "name": "stdout",
     "output_type": "stream",
     "text": [
      "                              ARMA Model Results                              \n",
      "==============================================================================\n",
      "Dep. Variable:                returns   No. Observations:                 5020\n",
      "Model:                     ARMA(5, 0)   Log Likelihood               -7892.390\n",
      "Method:                       css-mle   S.D. of innovations              1.166\n",
      "Date:                Sat, 21 Aug 2021   AIC                          15798.779\n",
      "Time:                        09:24:56   BIC                          15844.428\n",
      "Sample:                    01-10-1994   HQIC                         15814.775\n",
      "                         - 04-05-2013                                         \n",
      "=================================================================================\n",
      "                    coef    std err          z      P>|z|      [0.025      0.975]\n",
      "---------------------------------------------------------------------------------\n",
      "const             0.0189      0.014      1.348      0.178      -0.009       0.046\n",
      "ar.L1.returns    -0.0217      0.014     -1.544      0.123      -0.049       0.006\n",
      "ar.L2.returns    -0.0544      0.014     -3.865      0.000      -0.082      -0.027\n",
      "ar.L3.returns    -0.0831      0.014     -5.914      0.000      -0.111      -0.056\n",
      "ar.L4.returns     0.0449      0.014      3.190      0.001       0.017       0.073\n",
      "ar.L5.returns    -0.0596      0.014     -4.232      0.000      -0.087      -0.032\n",
      "                                    Roots                                    \n",
      "=============================================================================\n",
      "                  Real          Imaginary           Modulus         Frequency\n",
      "-----------------------------------------------------------------------------\n",
      "AR.1           -1.5481           -0.0000j            1.5481           -0.5000\n",
      "AR.2           -0.2860           -1.7252j            1.7487           -0.2761\n",
      "AR.3           -0.2860           +1.7252j            1.7487            0.2761\n",
      "AR.4            1.4366           -1.2157j            1.8819           -0.1118\n",
      "AR.5            1.4366           +1.2157j            1.8819            0.1118\n",
      "-----------------------------------------------------------------------------\n",
      "LLR Test p-value : 0.0\n"
     ]
    }
   ],
   "source": [
    "model_ar5 = ARMA(df.returns, order = (5,0))\n",
    "result_ar5 = model_ar5.fit() \n",
    "print(result_ar5.summary())\n",
    "print(f\"LLR Test p-value : {LLR_Test(model_ar4, model_ar5)}\")"
   ]
  },
  {
   "cell_type": "code",
   "execution_count": 47,
   "id": "a74e617e",
   "metadata": {},
   "outputs": [
    {
     "name": "stdout",
     "output_type": "stream",
     "text": [
      "                              ARMA Model Results                              \n",
      "==============================================================================\n",
      "Dep. Variable:                returns   No. Observations:                 5020\n",
      "Model:                     ARMA(6, 0)   Log Likelihood               -7886.945\n",
      "Method:                       css-mle   S.D. of innovations              1.164\n",
      "Date:                Sat, 21 Aug 2021   AIC                          15789.890\n",
      "Time:                        09:24:57   BIC                          15842.059\n",
      "Sample:                    01-10-1994   HQIC                         15808.170\n",
      "                         - 04-05-2013                                         \n",
      "=================================================================================\n",
      "                    coef    std err          z      P>|z|      [0.025      0.975]\n",
      "---------------------------------------------------------------------------------\n",
      "const             0.0189      0.013      1.414      0.157      -0.007       0.045\n",
      "ar.L1.returns    -0.0245      0.014     -1.740      0.082      -0.052       0.003\n",
      "ar.L2.returns    -0.0523      0.014     -3.716      0.000      -0.080      -0.025\n",
      "ar.L3.returns    -0.0870      0.014     -6.174      0.000      -0.115      -0.059\n",
      "ar.L4.returns     0.0424      0.014      3.009      0.003       0.015       0.070\n",
      "ar.L5.returns    -0.0607      0.014     -4.309      0.000      -0.088      -0.033\n",
      "ar.L6.returns    -0.0466      0.014     -3.302      0.001      -0.074      -0.019\n",
      "                                    Roots                                    \n",
      "=============================================================================\n",
      "                  Real          Imaginary           Modulus         Frequency\n",
      "-----------------------------------------------------------------------------\n",
      "AR.1            1.2869           -0.9022j            1.5716           -0.0973\n",
      "AR.2            1.2869           +0.9022j            1.5716            0.0973\n",
      "AR.3           -0.0727           -1.5282j            1.5299           -0.2576\n",
      "AR.4           -0.0727           +1.5282j            1.5299            0.2576\n",
      "AR.5           -1.8659           -0.4836j            1.9275           -0.4596\n",
      "AR.6           -1.8659           +0.4836j            1.9275            0.4596\n",
      "-----------------------------------------------------------------------------\n",
      "LLR Test p-value : 0.001\n"
     ]
    }
   ],
   "source": [
    "model_ar6 = ARMA(df.returns, order = (6,0))\n",
    "result_ar6 = model_ar6.fit() \n",
    "print(result_ar6.summary())\n",
    "print(f\"LLR Test p-value : {LLR_Test(model_ar5, model_ar6)}\")"
   ]
  },
  {
   "cell_type": "code",
   "execution_count": 48,
   "id": "ff55c58e",
   "metadata": {},
   "outputs": [
    {
     "name": "stdout",
     "output_type": "stream",
     "text": [
      "                              ARMA Model Results                              \n",
      "==============================================================================\n",
      "Dep. Variable:                returns   No. Observations:                 5020\n",
      "Model:                     ARMA(7, 0)   Log Likelihood               -7886.647\n",
      "Method:                       css-mle   S.D. of innovations              1.164\n",
      "Date:                Sat, 21 Aug 2021   AIC                          15791.294\n",
      "Time:                        09:24:58   BIC                          15849.985\n",
      "Sample:                    01-10-1994   HQIC                         15811.860\n",
      "                         - 04-05-2013                                         \n",
      "=================================================================================\n",
      "                    coef    std err          z      P>|z|      [0.025      0.975]\n",
      "---------------------------------------------------------------------------------\n",
      "const             0.0189      0.014      1.399      0.162      -0.008       0.045\n",
      "ar.L1.returns    -0.0240      0.014     -1.702      0.089      -0.052       0.004\n",
      "ar.L2.returns    -0.0517      0.014     -3.663      0.000      -0.079      -0.024\n",
      "ar.L3.returns    -0.0874      0.014     -6.202      0.000      -0.115      -0.060\n",
      "ar.L4.returns     0.0433      0.014      3.064      0.002       0.016       0.071\n",
      "ar.L5.returns    -0.0601      0.014     -4.263      0.000      -0.088      -0.032\n",
      "ar.L6.returns    -0.0463      0.014     -3.282      0.001      -0.074      -0.019\n",
      "ar.L7.returns     0.0109      0.014      0.772      0.440      -0.017       0.039\n",
      "                                    Roots                                    \n",
      "=============================================================================\n",
      "                  Real          Imaginary           Modulus         Frequency\n",
      "-----------------------------------------------------------------------------\n",
      "AR.1           -1.6490           -0.5384j            1.7347           -0.4498\n",
      "AR.2           -1.6490           +0.5384j            1.7347            0.4498\n",
      "AR.3           -0.1189           -1.4954j            1.5001           -0.2626\n",
      "AR.4           -0.1189           +1.4954j            1.5001            0.2626\n",
      "AR.5            1.2790           -0.9786j            1.6105           -0.1039\n",
      "AR.6            1.2790           +0.9786j            1.6105            0.1039\n",
      "AR.7            5.2270           -0.0000j            5.2270           -0.0000\n",
      "-----------------------------------------------------------------------------\n",
      "LLR Test p-value : 0.44\n"
     ]
    }
   ],
   "source": [
    "model_ar7 = ARMA(df.returns, order = (7,0))\n",
    "result_ar7 = model_ar7.fit() \n",
    "print(result_ar7.summary())\n",
    "print(f\"LLR Test p-value : {LLR_Test(model_ar6, model_ar7)}\")"
   ]
  },
  {
   "cell_type": "markdown",
   "id": "8e112748",
   "metadata": {},
   "source": [
    "Since both the tests has been failed we will opt for the simpler model which is `model_ar6`\n",
    "\n",
    "## Normalizing Values"
   ]
  },
  {
   "cell_type": "code",
   "execution_count": 49,
   "id": "43a6328f",
   "metadata": {},
   "outputs": [
    {
     "data": {
      "text/html": [
       "<div>\n",
       "<style scoped>\n",
       "    .dataframe tbody tr th:only-of-type {\n",
       "        vertical-align: middle;\n",
       "    }\n",
       "\n",
       "    .dataframe tbody tr th {\n",
       "        vertical-align: top;\n",
       "    }\n",
       "\n",
       "    .dataframe thead th {\n",
       "        text-align: right;\n",
       "    }\n",
       "</style>\n",
       "<table border=\"1\" class=\"dataframe\">\n",
       "  <thead>\n",
       "    <tr style=\"text-align: right;\">\n",
       "      <th></th>\n",
       "      <th>market_value</th>\n",
       "      <th>returns</th>\n",
       "      <th>norm</th>\n",
       "    </tr>\n",
       "    <tr>\n",
       "      <th>date</th>\n",
       "      <th></th>\n",
       "      <th></th>\n",
       "      <th></th>\n",
       "    </tr>\n",
       "  </thead>\n",
       "  <tbody>\n",
       "    <tr>\n",
       "      <th>1994-01-10</th>\n",
       "      <td>3440.58</td>\n",
       "      <td>-0.156704</td>\n",
       "      <td>100.000000</td>\n",
       "    </tr>\n",
       "    <tr>\n",
       "      <th>1994-01-11</th>\n",
       "      <td>3413.77</td>\n",
       "      <td>-0.779229</td>\n",
       "      <td>99.220771</td>\n",
       "    </tr>\n",
       "    <tr>\n",
       "      <th>1994-01-12</th>\n",
       "      <td>3372.02</td>\n",
       "      <td>-1.222988</td>\n",
       "      <td>98.007313</td>\n",
       "    </tr>\n",
       "    <tr>\n",
       "      <th>1994-01-13</th>\n",
       "      <td>3360.01</td>\n",
       "      <td>-0.356166</td>\n",
       "      <td>97.658244</td>\n",
       "    </tr>\n",
       "    <tr>\n",
       "      <th>1994-01-14</th>\n",
       "      <td>3400.56</td>\n",
       "      <td>1.206842</td>\n",
       "      <td>98.836824</td>\n",
       "    </tr>\n",
       "    <tr>\n",
       "      <th>...</th>\n",
       "      <td>...</td>\n",
       "      <td>...</td>\n",
       "      <td>...</td>\n",
       "    </tr>\n",
       "    <tr>\n",
       "      <th>2013-04-01</th>\n",
       "      <td>6411.74</td>\n",
       "      <td>0.000000</td>\n",
       "      <td>186.356370</td>\n",
       "    </tr>\n",
       "    <tr>\n",
       "      <th>2013-04-02</th>\n",
       "      <td>6490.66</td>\n",
       "      <td>1.230867</td>\n",
       "      <td>188.650169</td>\n",
       "    </tr>\n",
       "    <tr>\n",
       "      <th>2013-04-03</th>\n",
       "      <td>6420.28</td>\n",
       "      <td>-1.084327</td>\n",
       "      <td>186.604584</td>\n",
       "    </tr>\n",
       "    <tr>\n",
       "      <th>2013-04-04</th>\n",
       "      <td>6344.11</td>\n",
       "      <td>-1.186397</td>\n",
       "      <td>184.390713</td>\n",
       "    </tr>\n",
       "    <tr>\n",
       "      <th>2013-04-05</th>\n",
       "      <td>6249.77</td>\n",
       "      <td>-1.487049</td>\n",
       "      <td>181.648734</td>\n",
       "    </tr>\n",
       "  </tbody>\n",
       "</table>\n",
       "<p>5020 rows × 3 columns</p>\n",
       "</div>"
      ],
      "text/plain": [
       "            market_value   returns        norm\n",
       "date                                          \n",
       "1994-01-10       3440.58 -0.156704  100.000000\n",
       "1994-01-11       3413.77 -0.779229   99.220771\n",
       "1994-01-12       3372.02 -1.222988   98.007313\n",
       "1994-01-13       3360.01 -0.356166   97.658244\n",
       "1994-01-14       3400.56  1.206842   98.836824\n",
       "...                  ...       ...         ...\n",
       "2013-04-01       6411.74  0.000000  186.356370\n",
       "2013-04-02       6490.66  1.230867  188.650169\n",
       "2013-04-03       6420.28 -1.084327  186.604584\n",
       "2013-04-04       6344.11 -1.186397  184.390713\n",
       "2013-04-05       6249.77 -1.487049  181.648734\n",
       "\n",
       "[5020 rows x 3 columns]"
      ]
     },
     "execution_count": 49,
     "metadata": {},
     "output_type": "execute_result"
    }
   ],
   "source": [
    "benchmark = df.market_value.iloc[0]\n",
    "df['norm'] = df.market_value.div(benchmark).mul(100)\n",
    "df"
   ]
  },
  {
   "cell_type": "code",
   "execution_count": 50,
   "id": "98291dde",
   "metadata": {},
   "outputs": [
    {
     "data": {
      "text/plain": [
       "(-1.8928710132672346,\n",
       " 0.3354222074330073,\n",
       " 6,\n",
       " 5013,\n",
       " {'1%': -3.431655136974821,\n",
       "  '5%': -2.8621167297421373,\n",
       "  '10%': -2.567076993884522},\n",
       " 19553.90073102193)"
      ]
     },
     "execution_count": 50,
     "metadata": {},
     "output_type": "execute_result"
    }
   ],
   "source": [
    "adfuller(df.norm) #p= 0.33 explains the non stationarity"
   ]
  },
  {
   "cell_type": "code",
   "execution_count": 51,
   "id": "62fba888",
   "metadata": {},
   "outputs": [
    {
     "data": {
      "text/plain": [
       "(-12.770265719497209,\n",
       " 7.798058336039225e-24,\n",
       " 32,\n",
       " 4987,\n",
       " {'1%': -3.431661944885779,\n",
       "  '5%': -2.8621197374408225,\n",
       "  '10%': -2.5670785949998973},\n",
       " 80114.49116124898)"
      ]
     },
     "execution_count": 51,
     "metadata": {},
     "output_type": "execute_result"
    }
   ],
   "source": [
    "#Let's normalize the returns \n",
    "benchmark_ret = df.returns.iloc[0]\n",
    "df['norm_ret'] = df.returns.div(benchmark_ret).mul(100)\n",
    "adfuller(df.norm_ret) # This data is stationary with great certainty "
   ]
  },
  {
   "cell_type": "markdown",
   "id": "457f1a5b",
   "metadata": {},
   "source": [
    "So, Here we can conclude that the normalizing does not effect staionarity\n",
    "\n",
    "## Fitting and evaluating the AR Models for normalized return "
   ]
  },
  {
   "cell_type": "code",
   "execution_count": 52,
   "id": "ed8bda03",
   "metadata": {},
   "outputs": [
    {
     "name": "stdout",
     "output_type": "stream",
     "text": [
      "                              ARMA Model Results                              \n",
      "==============================================================================\n",
      "Dep. Variable:               norm_ret   No. Observations:                 5020\n",
      "Model:                     ARMA(1, 0)   Log Likelihood              -40351.743\n",
      "Method:                       css-mle   S.D. of innovations            749.388\n",
      "Date:                Sat, 21 Aug 2021   AIC                          80709.487\n",
      "Time:                        09:25:17   BIC                          80729.050\n",
      "Sample:                    01-10-1994   HQIC                         80716.342\n",
      "                         - 04-05-2013                                         \n",
      "==================================================================================\n",
      "                     coef    std err          z      P>|z|      [0.025      0.975]\n",
      "----------------------------------------------------------------------------------\n",
      "const            -11.9731     10.339     -1.158      0.247     -32.237       8.291\n",
      "ar.L1.norm_ret    -0.0230      0.014     -1.631      0.103      -0.051       0.005\n",
      "                                    Roots                                    \n",
      "=============================================================================\n",
      "                  Real          Imaginary           Modulus         Frequency\n",
      "-----------------------------------------------------------------------------\n",
      "AR.1          -43.4387           +0.0000j           43.4387            0.5000\n",
      "-----------------------------------------------------------------------------\n"
     ]
    }
   ],
   "source": [
    "model_ar1 = ARMA(df.norm_ret, order = (1,0))\n",
    "result_ar1 = model_ar1.fit() \n",
    "print(result_ar1.summary())"
   ]
  },
  {
   "cell_type": "code",
   "execution_count": 53,
   "id": "d080c51e",
   "metadata": {},
   "outputs": [
    {
     "name": "stdout",
     "output_type": "stream",
     "text": [
      "                              ARMA Model Results                              \n",
      "==============================================================================\n",
      "Dep. Variable:               norm_ret   No. Observations:                 5020\n",
      "Model:                     ARMA(2, 0)   Log Likelihood              -40345.450\n",
      "Method:                       css-mle   S.D. of innovations            748.449\n",
      "Date:                Sat, 21 Aug 2021   AIC                          80698.901\n",
      "Time:                        09:25:20   BIC                          80724.985\n",
      "Sample:                    01-10-1994   HQIC                         80708.041\n",
      "                         - 04-05-2013                                         \n",
      "==================================================================================\n",
      "                     coef    std err          z      P>|z|      [0.025      0.975]\n",
      "----------------------------------------------------------------------------------\n",
      "const            -11.9731      9.834     -1.218      0.223     -31.247       7.301\n",
      "ar.L1.norm_ret    -0.0242      0.014     -1.716      0.086      -0.052       0.003\n",
      "ar.L2.norm_ret    -0.0500      0.014     -3.550      0.000      -0.078      -0.022\n",
      "                                    Roots                                    \n",
      "=============================================================================\n",
      "                  Real          Imaginary           Modulus         Frequency\n",
      "-----------------------------------------------------------------------------\n",
      "AR.1           -0.2417           -4.4635j            4.4701           -0.2586\n",
      "AR.2           -0.2417           +4.4635j            4.4701            0.2586\n",
      "-----------------------------------------------------------------------------\n",
      "LLR Test p-value : 0.0\n"
     ]
    }
   ],
   "source": [
    "model_ar2 = ARMA(df.norm_ret, order = (2,0))\n",
    "result_ar2 = model_ar2.fit() \n",
    "print(result_ar2.summary())\n",
    "print(f\"LLR Test p-value : {LLR_Test(model_ar1, model_ar2)}\")"
   ]
  },
  {
   "cell_type": "markdown",
   "id": "828ca0be",
   "metadata": {},
   "source": [
    "The normalized values are giving the exact same p values as their non-normal version, Hence we conclude that the normalizing is not making a significant impact\n",
    "\n",
    "## Analyizng the Residuals\n",
    "\n",
    "#### Residuals of Returns"
   ]
  },
  {
   "cell_type": "code",
   "execution_count": 58,
   "id": "6be31416",
   "metadata": {},
   "outputs": [
    {
     "data": {
      "text/plain": [
       "(-5.3732424679065846e-05, 1.3559802110725088)"
      ]
     },
     "execution_count": 58,
     "metadata": {},
     "output_type": "execute_result"
    }
   ],
   "source": [
    "df['res_ret'] = model_ar6.fit().resid\n",
    "df.res_ret.mean(), df.res_ret.var() #Mean close to 0 and variance around 1 depicts that our choice of model is pretty good"
   ]
  },
  {
   "cell_type": "code",
   "execution_count": 59,
   "id": "83a9f392",
   "metadata": {},
   "outputs": [
    {
     "data": {
      "text/plain": [
       "(-70.78380044341453,\n",
       " 0.0,\n",
       " 0,\n",
       " 5019,\n",
       " {'1%': -3.4316535759402753,\n",
       "  '5%': -2.8621160400844468,\n",
       "  '10%': -2.567076626752987},\n",
       " 15692.570834419676)"
      ]
     },
     "execution_count": 59,
     "metadata": {},
     "output_type": "execute_result"
    }
   ],
   "source": [
    "adfuller(df.res_ret) #Data is stationary which means that the white noise is stationary"
   ]
  },
  {
   "cell_type": "code",
   "execution_count": 60,
   "id": "c1fed2cf",
   "metadata": {},
   "outputs": [
    {
     "data": {
      "image/png": "[encoded data removed]",
      "text/plain": [
       "<Figure size 432x288 with 1 Axes>"
      ]
     },
     "metadata": {},
     "output_type": "display_data"
    }
   ],
   "source": [
    "sgt.plot_acf(df.res_ret, zero=False, lags=40)\n",
    "plt.title(\"ACF of residuals for Returns\")\n",
    "plt.show()"
   ]
  },
  {
   "cell_type": "code",
   "execution_count": 61,
   "id": "938b65ad",
   "metadata": {},
   "outputs": [
    {
     "data": {
      "image/png": "[encoded data removed]",
      "text/plain": [
       "<Figure size 1440x360 with 1 Axes>"
      ]
     },
     "metadata": {},
     "output_type": "display_data"
    }
   ],
   "source": [
    "df.res_ret.plot(figsize=(20,5))\n",
    "plt.title(\"Residuals of Residuals\", size=24)\n",
    "plt.show()                                #It seems to be random, which favours our model"
   ]
  }
 ],
 "metadata": {
  "hide_input": false,
  "kernelspec": {
   "display_name": "Python 3",
   "language": "python",
   "name": "python3"
  },
  "language_info": {
   "codemirror_mode": {
    "name": "ipython",
    "version": 3
   },
   "file_extension": ".py",
   "mimetype": "text/x-python",
   "name": "python",
   "nbconvert_exporter": "python",
   "pygments_lexer": "ipython3",
   "version": "3.7.6"
  }
 },
 "nbformat": 4,
 "nbformat_minor": 5
}
