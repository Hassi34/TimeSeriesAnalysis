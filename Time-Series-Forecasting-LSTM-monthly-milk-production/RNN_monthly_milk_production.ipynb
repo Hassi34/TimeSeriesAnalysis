{
 "cells": [
  {
   "cell_type": "code",
   "execution_count": 3,
   "metadata": {
    "id": "nRSlxT4q5EHJ"
   },
   "outputs": [
    {
     "data": {
      "text/html": [
       "<style>.container {width: 100% !important; }</style>"
      ],
      "text/plain": [
       "<IPython.core.display.HTML object>"
      ]
     },
     "metadata": {},
     "output_type": "display_data"
    }
   ],
   "source": [
    "from IPython.core.display import display, HTML\n",
    "display(HTML(\"<style>.container {width: 100% !important; }</style>\"))\n",
    "from pylab import rcParams\n",
    "rcParams['figure.figsize'] = 22, 7\n",
    "import matplotlib.pyplot as plt\n",
    "import matplotx\n",
    "plt.style.use(matplotx.styles.dracula)"
   ]
  },
  {
   "cell_type": "code",
   "execution_count": 4,
   "metadata": {},
   "outputs": [],
   "source": [
    "import pandas as pd\n",
    "import numpy as np\n",
    "from sklearn.metrics import mean_squared_error\n",
    "from math import sqrt\n",
    "from statsmodels.tsa.seasonal import seasonal_decompose\n",
    "from sklearn.preprocessing import MinMaxScaler\n",
    "from keras.preprocessing.sequence import TimeseriesGenerator\n",
    "from keras.models import Sequential\n",
    "from keras.layers import Dense\n",
    "from keras.layers import LSTM\n",
    "from keras.layers import Dropout \n",
    "import pandas_datareader.data as web\n",
    "from datetime import date"
   ]
  },
  {
   "cell_type": "code",
   "execution_count": null,
   "metadata": {
    "id": "2fRF6mEW5QbK"
   },
   "outputs": [],
   "source": [
    "df = pd.read_csv('monthly_milk_production.csv',index_col='Date',parse_dates=True)\n",
    "df.index.freq='MS'"
   ]
  },
  {
   "cell_type": "code",
   "execution_count": null,
   "metadata": {
    "colab": {
     "base_uri": "https://localhost:8080/",
     "height": 228
    },
    "id": "agtLk7dO5SsM",
    "outputId": "c10fc828-0a87-49c6-a562-4811d8c01f20"
   },
   "outputs": [],
   "source": [
    "df.head()"
   ]
  },
  {
   "cell_type": "code",
   "execution_count": null,
   "metadata": {
    "colab": {
     "base_uri": "https://localhost:8080/",
     "height": 405
    },
    "id": "b1h7L_TG5tJK",
    "outputId": "908b0648-4938-4d40-d153-daf89de15aa4"
   },
   "outputs": [],
   "source": [
    "df.plot();"
   ]
  },
  {
   "cell_type": "code",
   "execution_count": null,
   "metadata": {
    "id": "jcew1g4f6L_X"
   },
   "outputs": [],
   "source": []
  },
  {
   "cell_type": "code",
   "execution_count": null,
   "metadata": {
    "colab": {
     "base_uri": "https://localhost:8080/",
     "height": 297
    },
    "id": "zfTZaeEH6Wpn",
    "outputId": "3f6120dd-ff89-4c21-bce1-32dc4d01b02c"
   },
   "outputs": [],
   "source": [
    "results = seasonal_decompose(df['Production'])\n",
    "results.plot();"
   ]
  },
  {
   "cell_type": "code",
   "execution_count": null,
   "metadata": {
    "colab": {
     "base_uri": "https://localhost:8080/"
    },
    "id": "IzkqCHh_6lfn",
    "outputId": "79c7a98c-acaf-4ad7-a807-70898e3b83e1"
   },
   "outputs": [],
   "source": [
    "len(df)"
   ]
  },
  {
   "cell_type": "code",
   "execution_count": null,
   "metadata": {
    "id": "1NoWcZEK6rPb"
   },
   "outputs": [],
   "source": [
    "train = df.iloc[:156]\n",
    "test = df.iloc[156:]"
   ]
  },
  {
   "cell_type": "code",
   "execution_count": null,
   "metadata": {
    "id": "dtAgIrE66u6x"
   },
   "outputs": [],
   "source": [
    "\n",
    "scaler = MinMaxScaler()"
   ]
  },
  {
   "cell_type": "code",
   "execution_count": null,
   "metadata": {
    "colab": {
     "base_uri": "https://localhost:8080/"
    },
    "id": "UDQODrt4D5NK",
    "outputId": "add8aaaf-9916-4484-af9c-3f5967dad1cd"
   },
   "outputs": [],
   "source": [
    "df.head(),df.tail()"
   ]
  },
  {
   "cell_type": "code",
   "execution_count": null,
   "metadata": {
    "id": "ijgmVYgC6zBz"
   },
   "outputs": [],
   "source": [
    "scaler.fit(train)\n",
    "scaled_train = scaler.transform(train)\n",
    "scaled_test = scaler.transform(test)"
   ]
  },
  {
   "cell_type": "code",
   "execution_count": null,
   "metadata": {
    "colab": {
     "base_uri": "https://localhost:8080/"
    },
    "id": "BrdKbJ3g6-Et",
    "outputId": "ec956dda-aab6-433c-d846-523769fa65e7"
   },
   "outputs": [],
   "source": [
    "scaled_train[:10]"
   ]
  },
  {
   "cell_type": "code",
   "execution_count": null,
   "metadata": {
    "id": "0xryZ7rR62y5"
   },
   "outputs": [],
   "source": []
  },
  {
   "cell_type": "code",
   "execution_count": null,
   "metadata": {
    "id": "CqyTKCVt69Z9"
   },
   "outputs": [],
   "source": [
    "# define generator\n",
    "n_input = 3\n",
    "n_features = 1\n",
    "generator = TimeseriesGenerator(scaled_train, scaled_train, length=n_input, batch_size=1)"
   ]
  },
  {
   "cell_type": "code",
   "execution_count": null,
   "metadata": {},
   "outputs": [],
   "source": [
    "X,y = generator[0]\n",
    "X"
   ]
  },
  {
   "cell_type": "code",
   "execution_count": null,
   "metadata": {
    "colab": {
     "base_uri": "https://localhost:8080/"
    },
    "id": "ip6y5Ene7OM7",
    "outputId": "f8405e12-f285-4394-b2a4-d84b6e6dfec4"
   },
   "outputs": [],
   "source": [
    "X,y = generator[0]\n",
    "print(f'Given the Array: \\n{X.flatten()}')\n",
    "print(f'Predict this y: \\n {y}')"
   ]
  },
  {
   "cell_type": "code",
   "execution_count": null,
   "metadata": {
    "colab": {
     "base_uri": "https://localhost:8080/"
    },
    "id": "bQyGmvsi8HyR",
    "outputId": "2124feb3-263f-46ce-cb56-7b564bc3298c"
   },
   "outputs": [],
   "source": [
    "X.shape"
   ]
  },
  {
   "cell_type": "code",
   "execution_count": null,
   "metadata": {
    "id": "jm-T4H4I7UaV"
   },
   "outputs": [],
   "source": [
    "# We do the same thing, but now instead for 12 months\n",
    "n_input = 12\n",
    "generator = TimeseriesGenerator(scaled_train, scaled_train, length=n_input, batch_size=1)"
   ]
  },
  {
   "cell_type": "code",
   "execution_count": null,
   "metadata": {
    "id": "eJa-wFQf7jw6"
   },
   "outputs": [],
   "source": [
    "# define model\n",
    "model = Sequential()\n",
    "model.add(LSTM(100, activation='relu', input_shape=(n_input, n_features)))\n",
    "model.add(Dense(1))\n",
    "model.compile(optimizer='adam', loss='mse')"
   ]
  },
  {
   "cell_type": "code",
   "execution_count": null,
   "metadata": {
    "colab": {
     "base_uri": "https://localhost:8080/"
    },
    "id": "7i4ucUNv7lbk",
    "outputId": "7f66fb4d-f3af-4d9c-ae3a-9eb97a722ea6"
   },
   "outputs": [],
   "source": [
    "model.summary()"
   ]
  },
  {
   "cell_type": "code",
   "execution_count": null,
   "metadata": {
    "colab": {
     "base_uri": "https://localhost:8080/"
    },
    "id": "p8yqUZaz7nwp",
    "outputId": "94c9f117-53be-438c-ba31-d7c7fa546f42"
   },
   "outputs": [],
   "source": [
    "%%time\n",
    "# fit model\n",
    "model.fit(generator,epochs=50)"
   ]
  },
  {
   "cell_type": "code",
   "execution_count": null,
   "metadata": {
    "colab": {
     "base_uri": "https://localhost:8080/",
     "height": 282
    },
    "id": "OjDsOKR67rs8",
    "outputId": "46a3d438-6cea-4a47-f4bf-b60f2246561d"
   },
   "outputs": [],
   "source": [
    "loss_per_epoch = model.history.history['loss']\n",
    "plt.plot(range(len(loss_per_epoch)),loss_per_epoch)"
   ]
  },
  {
   "cell_type": "code",
   "execution_count": null,
   "metadata": {
    "id": "h6h-fell70_S"
   },
   "outputs": [],
   "source": [
    "last_train_batch = scaled_train[-n_input:]"
   ]
  },
  {
   "cell_type": "code",
   "execution_count": null,
   "metadata": {},
   "outputs": [],
   "source": [
    "last_train_batch"
   ]
  },
  {
   "cell_type": "code",
   "execution_count": null,
   "metadata": {
    "id": "cwwv8O-p79bN"
   },
   "outputs": [],
   "source": [
    "last_train_batch = last_train_batch.reshape((1, n_input, n_features))"
   ]
  },
  {
   "cell_type": "code",
   "execution_count": null,
   "metadata": {
    "colab": {
     "base_uri": "https://localhost:8080/"
    },
    "id": "v-4WD4t78MpJ",
    "outputId": "6f5ab088-0933-41e7-cf6a-239dc4236d6d"
   },
   "outputs": [],
   "source": [
    "model.predict(last_train_batch)"
   ]
  },
  {
   "cell_type": "code",
   "execution_count": null,
   "metadata": {
    "colab": {
     "base_uri": "https://localhost:8080/"
    },
    "id": "ZbojFADE8StA",
    "outputId": "e708a2e2-ccf1-48e7-cace-a3b7a6202de1"
   },
   "outputs": [],
   "source": [
    "scaled_test[0]"
   ]
  },
  {
   "cell_type": "code",
   "execution_count": null,
   "metadata": {},
   "outputs": [],
   "source": [
    "first_eval_batch = scaled_train[-n_input:]\n",
    "first_eval_batch.shape"
   ]
  },
  {
   "cell_type": "code",
   "execution_count": null,
   "metadata": {
    "id": "_MP-5Wez8jbY"
   },
   "outputs": [],
   "source": [
    "test_predictions = []\n",
    "\n",
    "first_eval_batch = scaled_train[-n_input:]\n",
    "current_batch = first_eval_batch.reshape((1, n_input, n_features))\n",
    "for i in range(len(test)):\n",
    "    # get the prediction value for the first batch\n",
    "    current_pred = model.predict(current_batch)[0]\n",
    "    # append the prediction into the array\n",
    "    test_predictions.append(current_pred) \n",
    "    # use the prediction to update the batch and remove the first value\n",
    "    current_batch = np.append(current_batch[:,1:,:],[[current_pred]],axis=1)"
   ]
  },
  {
   "cell_type": "code",
   "execution_count": null,
   "metadata": {
    "colab": {
     "base_uri": "https://localhost:8080/"
    },
    "id": "_mhvFuEy8sB7",
    "outputId": "e65693ce-1c66-46b1-91e2-069e239ca984"
   },
   "outputs": [],
   "source": [
    "test_predictions"
   ]
  },
  {
   "cell_type": "code",
   "execution_count": null,
   "metadata": {
    "colab": {
     "base_uri": "https://localhost:8080/",
     "height": 228
    },
    "id": "YYSqV10E9hlO",
    "outputId": "fe8ed427-3d97-429e-9349-115ba1168bc0"
   },
   "outputs": [],
   "source": [
    "test.head()"
   ]
  },
  {
   "cell_type": "code",
   "execution_count": null,
   "metadata": {
    "id": "BHHzjNDK9EJZ"
   },
   "outputs": [],
   "source": [
    "true_predictions = scaler.inverse_transform(test_predictions)"
   ]
  },
  {
   "cell_type": "code",
   "execution_count": null,
   "metadata": {
    "id": "0dsN45zf9I9u"
   },
   "outputs": [],
   "source": [
    "test['Predictions'] = true_predictions"
   ]
  },
  {
   "cell_type": "code",
   "execution_count": null,
   "metadata": {
    "colab": {
     "base_uri": "https://localhost:8080/",
     "height": 366
    },
    "id": "xJ7sI5xh9Lb0",
    "outputId": "6aeaec0b-9c02-4d87-ca51-987048dae0ba"
   },
   "outputs": [],
   "source": [
    "test.plot();"
   ]
  },
  {
   "cell_type": "code",
   "execution_count": null,
   "metadata": {
    "colab": {
     "base_uri": "https://localhost:8080/"
    },
    "id": "OCsYjzge9OVe",
    "outputId": "4771bf0b-a885-4e3f-d16e-b5b9bd255cc2"
   },
   "outputs": [],
   "source": [
    "rmse=sqrt(mean_squared_error(test['Production'],test['Predictions']))\n",
    "print(rmse)"
   ]
  },
  {
   "cell_type": "markdown",
   "metadata": {},
   "source": [
    "### Creating Forecasting Class"
   ]
  },
  {
   "cell_type": "code",
   "execution_count": 10,
   "metadata": {
    "id": "Bld3MIqDNW6I"
   },
   "outputs": [],
   "source": [
    "#df = pd.read_csv('monthly_milk_production.csv',index_col='Date',parse_dates=True)\n",
    "#df.index.freq='MS'\n",
    "\n",
    "class Forecasting:\n",
    "    def __init__ (self, n_input=12, layers=1, nodes=100, dropout=False, epochs=40, n_features=1, test_size=0.2, dropout_ratio=0.2):\n",
    "        self.n_features = n_features\n",
    "        self.n_input = n_input\n",
    "        self.layers = layers\n",
    "        self.nodes = nodes\n",
    "        self.dropout = dropout\n",
    "        self.epochs = epochs\n",
    "        self.dropout_ratio = dropout_ratio\n",
    "        self.test_size = test_size\n",
    "        \n",
    "    def preprocessing(self, df):\n",
    "        cutt_off = int((len(df))*(1.0-self.test_size))\n",
    "        train = df.iloc[:cutt_off]\n",
    "        test = df.iloc[cutt_off:]\n",
    "        scaler = MinMaxScaler()\n",
    "        scaler.fit(train)\n",
    "        scaled_train = scaler.transform(train)\n",
    "        scaled_test = scaler.transform(test)\n",
    "        generator = TimeseriesGenerator(scaled_train, scaled_train, length = self.n_input, batch_size = 1)\n",
    "        return test, scaler, scaled_train, scaled_test, generator\n",
    "\n",
    "    def create_model (self):\n",
    "        model = Sequential()\n",
    "        model.add(LSTM(self.nodes, activation='relu', return_sequences=True, input_shape=(self.n_input, self.n_features)))\n",
    "        if self.layers > 1:\n",
    "            for i in range(self.layers):\n",
    "                model.add(LSTM(self.nodes, activation='relu', return_sequences=True))\n",
    "                self.nodes+=int((self.nodes)*0.3)\n",
    "                if self.dropout:\n",
    "                    model.add(Dropout(self.dropout_ratio))\n",
    "                    self.dropout_ratio += 0.1\n",
    "        model.add(Dense(1))\n",
    "        model.compile(optimizer='adam', loss='mse')\n",
    "        model.summary()\n",
    "        return model\n",
    "\n",
    "    def fit_model(self,model,generator):\n",
    "        model.fit(generator, epochs = self.epochs)\n",
    "        loss_per_epoch = model.history.history['loss']\n",
    "        plt.plot(range(len(loss_per_epoch)),loss_per_epoch)\n",
    "        return model\n",
    "    def model_evaluation(self,model, scaled_train, test, scaler):\n",
    "        test_predictions = []\n",
    "        first_eval_batch = scaled_train[-self.n_input:]\n",
    "        current_batch = first_eval_batch.reshape((1, self.n_input, self.n_features))\n",
    "        for i in range(len(test)):\n",
    "            # get the prediction value for the first batch\n",
    "            current_pred = model.predict(current_batch)[0][0]\n",
    "            # append the prediction into the array\n",
    "            test_predictions.append(current_pred) \n",
    "            # use the prediction to update the batch and remove the first value\n",
    "            current_batch = np.append(current_batch[:,1:,:],[[current_pred]],axis=1)\n",
    "            \n",
    "        true_predictions = scaler.inverse_transform(test_predictions)\n",
    "        test['Predictions'] = true_predictions\n",
    "        rmse=sqrt(mean_squared_error(test[test.columns[0]],test['Predictions']))\n",
    "        return test,rmse\n",
    "    def forecast_future(self, model, scaler , scaled_train, days_to_be_forcasted=100):\n",
    "        test_predictions = []\n",
    "        first_eval_batch = scaled_train[-self.n_input:]\n",
    "        current_batch = first_eval_batch.reshape((1, self.n_input, self.n_features))\n",
    "        for i in range(days_to_be_forcasted):\n",
    "            # get the prediction value for the first batch\n",
    "            current_pred = model.predict(current_batch)[0][0]\n",
    "            # append the prediction into the array\n",
    "            test_predictions.append(current_pred) \n",
    "            # use the prediction to update the batch and remove the first value\n",
    "            current_batch = np.append(current_batch[:,1:,:],[[current_pred]],axis=1)\n",
    "        predictions = scaler.inverse_transform(test_predictions)\n",
    "        return predictions    "
   ]
  },
  {
   "cell_type": "code",
   "execution_count": null,
   "metadata": {
    "scrolled": true
   },
   "outputs": [],
   "source": [
    "forecast = Forecasting(n_input=12,layers=1, nodes=100, epochs=50, dropout=False)\n",
    "test, scaler, scaled_train, scaled_test, generator = forecast.preprocessing(df)\n",
    "model = forecast.create_model()\n",
    "model = forecast.fit_model(model, generator)\n",
    "test, rmse = forecast.model_evaluation(model, scaled_train, test, scaler)"
   ]
  },
  {
   "cell_type": "code",
   "execution_count": null,
   "metadata": {},
   "outputs": [],
   "source": [
    "rmse "
   ]
  },
  {
   "cell_type": "code",
   "execution_count": null,
   "metadata": {},
   "outputs": [],
   "source": [
    "test"
   ]
  },
  {
   "cell_type": "code",
   "execution_count": null,
   "metadata": {},
   "outputs": [],
   "source": [
    "plt.plot(test.Production, label = 'Actual Production')\n",
    "plt.plot(test.Predictions,label= 'Predicted Production')\n",
    "plt.legend();"
   ]
  },
  {
   "cell_type": "code",
   "execution_count": 16,
   "metadata": {},
   "outputs": [
    {
     "data": {
      "text/html": [
       "<div>\n",
       "<style scoped>\n",
       "    .dataframe tbody tr th:only-of-type {\n",
       "        vertical-align: middle;\n",
       "    }\n",
       "\n",
       "    .dataframe tbody tr th {\n",
       "        vertical-align: top;\n",
       "    }\n",
       "\n",
       "    .dataframe thead th {\n",
       "        text-align: right;\n",
       "    }\n",
       "</style>\n",
       "<table border=\"1\" class=\"dataframe\">\n",
       "  <thead>\n",
       "    <tr style=\"text-align: right;\">\n",
       "      <th></th>\n",
       "      <th>Close</th>\n",
       "    </tr>\n",
       "    <tr>\n",
       "      <th>Date</th>\n",
       "      <th></th>\n",
       "    </tr>\n",
       "  </thead>\n",
       "  <tbody>\n",
       "    <tr>\n",
       "      <th>2015-01-02</th>\n",
       "      <td>43.862000</td>\n",
       "    </tr>\n",
       "    <tr>\n",
       "      <th>2015-01-05</th>\n",
       "      <td>42.018002</td>\n",
       "    </tr>\n",
       "    <tr>\n",
       "      <th>2015-01-06</th>\n",
       "      <td>42.256001</td>\n",
       "    </tr>\n",
       "    <tr>\n",
       "      <th>2015-01-07</th>\n",
       "      <td>42.189999</td>\n",
       "    </tr>\n",
       "    <tr>\n",
       "      <th>2015-01-08</th>\n",
       "      <td>42.124001</td>\n",
       "    </tr>\n",
       "    <tr>\n",
       "      <th>...</th>\n",
       "      <td>...</td>\n",
       "    </tr>\n",
       "    <tr>\n",
       "      <th>2019-12-24</th>\n",
       "      <td>85.050003</td>\n",
       "    </tr>\n",
       "    <tr>\n",
       "      <th>2019-12-26</th>\n",
       "      <td>86.188004</td>\n",
       "    </tr>\n",
       "    <tr>\n",
       "      <th>2019-12-27</th>\n",
       "      <td>86.075996</td>\n",
       "    </tr>\n",
       "    <tr>\n",
       "      <th>2019-12-30</th>\n",
       "      <td>82.940002</td>\n",
       "    </tr>\n",
       "    <tr>\n",
       "      <th>2019-12-31</th>\n",
       "      <td>83.666000</td>\n",
       "    </tr>\n",
       "  </tbody>\n",
       "</table>\n",
       "<p>1258 rows × 1 columns</p>\n",
       "</div>"
      ],
      "text/plain": [
       "                Close\n",
       "Date                 \n",
       "2015-01-02  43.862000\n",
       "2015-01-05  42.018002\n",
       "2015-01-06  42.256001\n",
       "2015-01-07  42.189999\n",
       "2015-01-08  42.124001\n",
       "...               ...\n",
       "2019-12-24  85.050003\n",
       "2019-12-26  86.188004\n",
       "2019-12-27  86.075996\n",
       "2019-12-30  82.940002\n",
       "2019-12-31  83.666000\n",
       "\n",
       "[1258 rows x 1 columns]"
      ]
     },
     "execution_count": 16,
     "metadata": {},
     "output_type": "execute_result"
    }
   ],
   "source": [
    "today = date.today().strftime(\"%Y-%m-%d\")\n",
    "df = web.DataReader(name=\"TSLA\", data_source='yahoo', start='2015-01-01', end='2020-01-01')\n",
    "df = df[['Close']]\n",
    "df"
   ]
  },
  {
   "cell_type": "code",
   "execution_count": 17,
   "metadata": {},
   "outputs": [
    {
     "name": "stdout",
     "output_type": "stream",
     "text": [
      "Model: \"sequential_2\"\n",
      "_________________________________________________________________\n",
      "Layer (type)                 Output Shape              Param #   \n",
      "=================================================================\n",
      "lstm_8 (LSTM)                (None, 100, 100)          40800     \n",
      "_________________________________________________________________\n",
      "lstm_9 (LSTM)                (None, 100, 100)          80400     \n",
      "_________________________________________________________________\n",
      "dropout_6 (Dropout)          (None, 100, 100)          0         \n",
      "_________________________________________________________________\n",
      "lstm_10 (LSTM)               (None, 100, 130)          120120    \n",
      "_________________________________________________________________\n",
      "dropout_7 (Dropout)          (None, 100, 130)          0         \n",
      "_________________________________________________________________\n",
      "lstm_11 (LSTM)               (None, 100, 169)          202800    \n",
      "_________________________________________________________________\n",
      "dropout_8 (Dropout)          (None, 100, 169)          0         \n",
      "_________________________________________________________________\n",
      "dense_2 (Dense)              (None, 100, 1)            170       \n",
      "=================================================================\n",
      "Total params: 444,290\n",
      "Trainable params: 444,290\n",
      "Non-trainable params: 0\n",
      "_________________________________________________________________\n",
      "Epoch 1/20\n",
      "906/906 [==============================] - 74s 79ms/step - loss: 0.0398\n",
      "Epoch 2/20\n",
      "906/906 [==============================] - 77s 85ms/step - loss: 0.0264\n",
      "Epoch 3/20\n",
      "906/906 [==============================] - 86s 95ms/step - loss: 0.0242\n",
      "Epoch 4/20\n",
      "906/906 [==============================] - 89s 98ms/step - loss: 0.0232\n",
      "Epoch 5/20\n",
      "906/906 [==============================] - 93s 102ms/step - loss: 0.0222\n",
      "Epoch 6/20\n",
      "906/906 [==============================] - 86s 95ms/step - loss: 0.0218\n",
      "Epoch 7/20\n",
      "906/906 [==============================] - 83s 92ms/step - loss: 0.0220\n",
      "Epoch 8/20\n",
      "906/906 [==============================] - 85s 94ms/step - loss: 0.0226\n",
      "Epoch 9/20\n",
      "906/906 [==============================] - 77s 85ms/step - loss: 0.0211\n",
      "Epoch 10/20\n",
      "906/906 [==============================] - 93s 103ms/step - loss: 0.0200\n",
      "Epoch 11/20\n",
      "906/906 [==============================] - 99s 109ms/step - loss: 71.9511\n",
      "Epoch 12/20\n",
      "906/906 [==============================] - 99s 109ms/step - loss: 0.0204\n",
      "Epoch 13/20\n",
      "906/906 [==============================] - 100s 111ms/step - loss: 0.0193\n",
      "Epoch 14/20\n",
      "906/906 [==============================] - 103s 113ms/step - loss: 0.0186\n",
      "Epoch 15/20\n",
      "906/906 [==============================] - 103s 114ms/step - loss: 0.0185\n",
      "Epoch 16/20\n",
      "906/906 [==============================] - 105s 116ms/step - loss: 0.0182\n",
      "Epoch 17/20\n",
      "906/906 [==============================] - 100s 110ms/step - loss: 0.0180\n",
      "Epoch 18/20\n",
      "906/906 [==============================] - 101s 111ms/step - loss: 0.0179\n",
      "Epoch 19/20\n",
      "906/906 [==============================] - 91s 101ms/step - loss: 0.0188\n",
      "Epoch 20/20\n",
      "906/906 [==============================] - 84s 93ms/step - loss: 0.0177\n"
     ]
    },
    {
     "name": "stderr",
     "output_type": "stream",
     "text": [
      "<ipython-input-10-c7f2ab9ba9b8>:59: SettingWithCopyWarning: \n",
      "A value is trying to be set on a copy of a slice from a DataFrame.\n",
      "Try using .loc[row_indexer,col_indexer] = value instead\n",
      "\n",
      "See the caveats in the documentation: https://pandas.pydata.org/pandas-docs/stable/user_guide/indexing.html#returning-a-view-versus-a-copy\n",
      "  test['Predictions'] = true_predictions\n"
     ]
    },
    {
     "data": {
      "image/png": "[encoded data removed]",
      "text/plain": [
       "<Figure size 1584x504 with 1 Axes>"
      ]
     },
     "metadata": {},
     "output_type": "display_data"
    }
   ],
   "source": [
    "forecast = Forecasting(n_input=100, layers=3, nodes=100, epochs=20, dropout=True)\n",
    "test, scaler, scaled_train, scaled_test, generator = forecast.preprocessing(df)\n",
    "model = forecast.create_model()\n",
    "model = forecast.fit_model(model, generator)\n",
    "test, rmse = forecast.model_evaluation(model, scaled_train, test, scaler)"
   ]
  },
  {
   "cell_type": "code",
   "execution_count": 18,
   "metadata": {},
   "outputs": [
    {
     "data": {
      "text/plain": [
       "13.12666884877837"
      ]
     },
     "execution_count": 18,
     "metadata": {},
     "output_type": "execute_result"
    }
   ],
   "source": [
    "rmse"
   ]
  },
  {
   "cell_type": "code",
   "execution_count": 19,
   "metadata": {},
   "outputs": [
    {
     "data": {
      "text/html": [
       "<div>\n",
       "<style scoped>\n",
       "    .dataframe tbody tr th:only-of-type {\n",
       "        vertical-align: middle;\n",
       "    }\n",
       "\n",
       "    .dataframe tbody tr th {\n",
       "        vertical-align: top;\n",
       "    }\n",
       "\n",
       "    .dataframe thead th {\n",
       "        text-align: right;\n",
       "    }\n",
       "</style>\n",
       "<table border=\"1\" class=\"dataframe\">\n",
       "  <thead>\n",
       "    <tr style=\"text-align: right;\">\n",
       "      <th></th>\n",
       "      <th>Close</th>\n",
       "      <th>Predictions</th>\n",
       "    </tr>\n",
       "    <tr>\n",
       "      <th>Date</th>\n",
       "      <th></th>\n",
       "      <th></th>\n",
       "    </tr>\n",
       "  </thead>\n",
       "  <tbody>\n",
       "    <tr>\n",
       "      <th>2019-01-02</th>\n",
       "      <td>62.023998</td>\n",
       "      <td>68.411573</td>\n",
       "    </tr>\n",
       "    <tr>\n",
       "      <th>2019-01-03</th>\n",
       "      <td>60.071999</td>\n",
       "      <td>65.368524</td>\n",
       "    </tr>\n",
       "    <tr>\n",
       "      <th>2019-01-04</th>\n",
       "      <td>63.537998</td>\n",
       "      <td>65.899797</td>\n",
       "    </tr>\n",
       "    <tr>\n",
       "      <th>2019-01-07</th>\n",
       "      <td>66.991997</td>\n",
       "      <td>66.061754</td>\n",
       "    </tr>\n",
       "    <tr>\n",
       "      <th>2019-01-08</th>\n",
       "      <td>67.070000</td>\n",
       "      <td>64.531364</td>\n",
       "    </tr>\n",
       "    <tr>\n",
       "      <th>...</th>\n",
       "      <td>...</td>\n",
       "      <td>...</td>\n",
       "    </tr>\n",
       "    <tr>\n",
       "      <th>2019-12-24</th>\n",
       "      <td>85.050003</td>\n",
       "      <td>52.058358</td>\n",
       "    </tr>\n",
       "    <tr>\n",
       "      <th>2019-12-26</th>\n",
       "      <td>86.188004</td>\n",
       "      <td>52.282320</td>\n",
       "    </tr>\n",
       "    <tr>\n",
       "      <th>2019-12-27</th>\n",
       "      <td>86.075996</td>\n",
       "      <td>52.218715</td>\n",
       "    </tr>\n",
       "    <tr>\n",
       "      <th>2019-12-30</th>\n",
       "      <td>82.940002</td>\n",
       "      <td>52.115422</td>\n",
       "    </tr>\n",
       "    <tr>\n",
       "      <th>2019-12-31</th>\n",
       "      <td>83.666000</td>\n",
       "      <td>52.063643</td>\n",
       "    </tr>\n",
       "  </tbody>\n",
       "</table>\n",
       "<p>252 rows × 2 columns</p>\n",
       "</div>"
      ],
      "text/plain": [
       "                Close  Predictions\n",
       "Date                              \n",
       "2019-01-02  62.023998    68.411573\n",
       "2019-01-03  60.071999    65.368524\n",
       "2019-01-04  63.537998    65.899797\n",
       "2019-01-07  66.991997    66.061754\n",
       "2019-01-08  67.070000    64.531364\n",
       "...               ...          ...\n",
       "2019-12-24  85.050003    52.058358\n",
       "2019-12-26  86.188004    52.282320\n",
       "2019-12-27  86.075996    52.218715\n",
       "2019-12-30  82.940002    52.115422\n",
       "2019-12-31  83.666000    52.063643\n",
       "\n",
       "[252 rows x 2 columns]"
      ]
     },
     "execution_count": 19,
     "metadata": {},
     "output_type": "execute_result"
    }
   ],
   "source": [
    "test"
   ]
  },
  {
   "cell_type": "code",
   "execution_count": 20,
   "metadata": {},
   "outputs": [
    {
     "data": {
      "image/png": "[encoded data removed]",
      "text/plain": [
       "<Figure size 1584x504 with 1 Axes>"
      ]
     },
     "metadata": {},
     "output_type": "display_data"
    }
   ],
   "source": [
    "plt.plot(test.Close, label = 'Actual Price')\n",
    "plt.plot(test.Predictions,label= 'Predicted Price')\n",
    "plt.legend();"
   ]
  },
  {
   "cell_type": "code",
   "execution_count": 41,
   "metadata": {},
   "outputs": [
    {
     "data": {
      "text/html": [
       "<div>\n",
       "<style scoped>\n",
       "    .dataframe tbody tr th:only-of-type {\n",
       "        vertical-align: middle;\n",
       "    }\n",
       "\n",
       "    .dataframe tbody tr th {\n",
       "        vertical-align: top;\n",
       "    }\n",
       "\n",
       "    .dataframe thead th {\n",
       "        text-align: right;\n",
       "    }\n",
       "</style>\n",
       "<table border=\"1\" class=\"dataframe\">\n",
       "  <thead>\n",
       "    <tr style=\"text-align: right;\">\n",
       "      <th></th>\n",
       "      <th>Close</th>\n",
       "    </tr>\n",
       "    <tr>\n",
       "      <th>Date</th>\n",
       "      <th></th>\n",
       "    </tr>\n",
       "  </thead>\n",
       "  <tbody>\n",
       "    <tr>\n",
       "      <th>2020-01-02</th>\n",
       "      <td>86.052002</td>\n",
       "    </tr>\n",
       "    <tr>\n",
       "      <th>2020-01-03</th>\n",
       "      <td>88.601997</td>\n",
       "    </tr>\n",
       "    <tr>\n",
       "      <th>2020-01-06</th>\n",
       "      <td>90.307999</td>\n",
       "    </tr>\n",
       "    <tr>\n",
       "      <th>2020-01-07</th>\n",
       "      <td>93.811996</td>\n",
       "    </tr>\n",
       "    <tr>\n",
       "      <th>2020-01-08</th>\n",
       "      <td>98.428001</td>\n",
       "    </tr>\n",
       "    <tr>\n",
       "      <th>...</th>\n",
       "      <td>...</td>\n",
       "    </tr>\n",
       "    <tr>\n",
       "      <th>2021-04-26</th>\n",
       "      <td>738.200012</td>\n",
       "    </tr>\n",
       "    <tr>\n",
       "      <th>2021-04-27</th>\n",
       "      <td>704.739990</td>\n",
       "    </tr>\n",
       "    <tr>\n",
       "      <th>2021-04-28</th>\n",
       "      <td>694.400024</td>\n",
       "    </tr>\n",
       "    <tr>\n",
       "      <th>2021-04-29</th>\n",
       "      <td>677.000000</td>\n",
       "    </tr>\n",
       "    <tr>\n",
       "      <th>2021-04-30</th>\n",
       "      <td>709.440002</td>\n",
       "    </tr>\n",
       "  </tbody>\n",
       "</table>\n",
       "<p>335 rows × 1 columns</p>\n",
       "</div>"
      ],
      "text/plain": [
       "                 Close\n",
       "Date                  \n",
       "2020-01-02   86.052002\n",
       "2020-01-03   88.601997\n",
       "2020-01-06   90.307999\n",
       "2020-01-07   93.811996\n",
       "2020-01-08   98.428001\n",
       "...                ...\n",
       "2021-04-26  738.200012\n",
       "2021-04-27  704.739990\n",
       "2021-04-28  694.400024\n",
       "2021-04-29  677.000000\n",
       "2021-04-30  709.440002\n",
       "\n",
       "[335 rows x 1 columns]"
      ]
     },
     "execution_count": 41,
     "metadata": {},
     "output_type": "execute_result"
    }
   ],
   "source": [
    "##Making Predictions for future\n",
    "df1 = web.DataReader(name=\"TSLA\", data_source='yahoo', start=\"2020-01-02\", end = \"2021-05-01\")\n",
    "df1 = df1[['Close']]\n",
    "df1"
   ]
  },
  {
   "cell_type": "code",
   "execution_count": 42,
   "metadata": {},
   "outputs": [],
   "source": [
    "predictions = forecast.forecast_future(model, scaler , scaled_train, days_to_be_forcasted=335)"
   ]
  },
  {
   "cell_type": "code",
   "execution_count": 43,
   "metadata": {},
   "outputs": [
    {
     "data": {
      "text/html": [
       "<div>\n",
       "<style scoped>\n",
       "    .dataframe tbody tr th:only-of-type {\n",
       "        vertical-align: middle;\n",
       "    }\n",
       "\n",
       "    .dataframe tbody tr th {\n",
       "        vertical-align: top;\n",
       "    }\n",
       "\n",
       "    .dataframe thead th {\n",
       "        text-align: right;\n",
       "    }\n",
       "</style>\n",
       "<table border=\"1\" class=\"dataframe\">\n",
       "  <thead>\n",
       "    <tr style=\"text-align: right;\">\n",
       "      <th></th>\n",
       "      <th>Close</th>\n",
       "      <th>Predictions</th>\n",
       "    </tr>\n",
       "    <tr>\n",
       "      <th>Date</th>\n",
       "      <th></th>\n",
       "      <th></th>\n",
       "    </tr>\n",
       "  </thead>\n",
       "  <tbody>\n",
       "    <tr>\n",
       "      <th>2020-01-02</th>\n",
       "      <td>86.052002</td>\n",
       "      <td>68.411573</td>\n",
       "    </tr>\n",
       "    <tr>\n",
       "      <th>2020-01-03</th>\n",
       "      <td>88.601997</td>\n",
       "      <td>65.368524</td>\n",
       "    </tr>\n",
       "    <tr>\n",
       "      <th>2020-01-06</th>\n",
       "      <td>90.307999</td>\n",
       "      <td>65.899797</td>\n",
       "    </tr>\n",
       "    <tr>\n",
       "      <th>2020-01-07</th>\n",
       "      <td>93.811996</td>\n",
       "      <td>66.061754</td>\n",
       "    </tr>\n",
       "    <tr>\n",
       "      <th>2020-01-08</th>\n",
       "      <td>98.428001</td>\n",
       "      <td>64.531364</td>\n",
       "    </tr>\n",
       "    <tr>\n",
       "      <th>...</th>\n",
       "      <td>...</td>\n",
       "      <td>...</td>\n",
       "    </tr>\n",
       "    <tr>\n",
       "      <th>2021-04-26</th>\n",
       "      <td>738.200012</td>\n",
       "      <td>52.351262</td>\n",
       "    </tr>\n",
       "    <tr>\n",
       "      <th>2021-04-27</th>\n",
       "      <td>704.739990</td>\n",
       "      <td>52.361226</td>\n",
       "    </tr>\n",
       "    <tr>\n",
       "      <th>2021-04-28</th>\n",
       "      <td>694.400024</td>\n",
       "      <td>52.368793</td>\n",
       "    </tr>\n",
       "    <tr>\n",
       "      <th>2021-04-29</th>\n",
       "      <td>677.000000</td>\n",
       "      <td>52.385918</td>\n",
       "    </tr>\n",
       "    <tr>\n",
       "      <th>2021-04-30</th>\n",
       "      <td>709.440002</td>\n",
       "      <td>52.533139</td>\n",
       "    </tr>\n",
       "  </tbody>\n",
       "</table>\n",
       "<p>335 rows × 2 columns</p>\n",
       "</div>"
      ],
      "text/plain": [
       "                 Close  Predictions\n",
       "Date                               \n",
       "2020-01-02   86.052002    68.411573\n",
       "2020-01-03   88.601997    65.368524\n",
       "2020-01-06   90.307999    65.899797\n",
       "2020-01-07   93.811996    66.061754\n",
       "2020-01-08   98.428001    64.531364\n",
       "...                ...          ...\n",
       "2021-04-26  738.200012    52.351262\n",
       "2021-04-27  704.739990    52.361226\n",
       "2021-04-28  694.400024    52.368793\n",
       "2021-04-29  677.000000    52.385918\n",
       "2021-04-30  709.440002    52.533139\n",
       "\n",
       "[335 rows x 2 columns]"
      ]
     },
     "execution_count": 43,
     "metadata": {},
     "output_type": "execute_result"
    }
   ],
   "source": [
    "df1['Predictions'] = predictions\n",
    "df1"
   ]
  },
  {
   "cell_type": "code",
   "execution_count": 44,
   "metadata": {},
   "outputs": [
    {
     "data": {
      "image/png": "[encoded data removed]",
      "text/plain": [
       "<Figure size 1584x504 with 1 Axes>"
      ]
     },
     "metadata": {},
     "output_type": "display_data"
    }
   ],
   "source": [
    "plt.plot(df1.Close, label = 'Actual Price')\n",
    "plt.plot(df1.Predictions,label= 'Predicted Price')\n",
    "plt.legend();"
   ]
  }
 ],
 "metadata": {
  "colab": {
   "collapsed_sections": [],
   "name": "RNN_Youtube.ipynb",
   "provenance": []
  },
  "hide_input": false,
  "kernelspec": {
   "display_name": "Python 3",
   "language": "python",
   "name": "python3"
  },
  "language_info": {
   "codemirror_mode": {
    "name": "ipython",
    "version": 3
   },
   "file_extension": ".py",
   "mimetype": "text/x-python",
   "name": "python",
   "nbconvert_exporter": "python",
   "pygments_lexer": "ipython3",
   "version": "3.8.8"
  }
 },
 "nbformat": 4,
 "nbformat_minor": 1
}
