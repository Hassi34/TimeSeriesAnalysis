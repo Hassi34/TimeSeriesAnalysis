{
 "cells": [
  {
   "cell_type": "code",
   "execution_count": 4,
   "id": "a6eb34ec",
   "metadata": {},
   "outputs": [
    {
     "data": {
      "text/html": [
       "<style>.container {width: 100% !important; }</style>"
      ],
      "text/plain": [
       "<IPython.core.display.HTML object>"
      ]
     },
     "metadata": {},
     "output_type": "display_data"
    }
   ],
   "source": [
    "from IPython.core.display import display, HTML\n",
    "display(HTML(\"<style>.container {width: 100% !important; }</style>\"))"
   ]
  },
  {
   "cell_type": "markdown",
   "id": "0c8de26b",
   "metadata": {},
   "source": [
    "## Forecasting Stock Prices of Volkswagen\n",
    "**Note :** Fourier Series will only work if you have features other than the output feature | only a single target value in the dataset cannot help with fourier transformation"
   ]
  },
  {
   "cell_type": "code",
   "execution_count": 63,
   "id": "c3b72485",
   "metadata": {},
   "outputs": [],
   "source": [
    "import warnings\n",
    "warnings.filterwarnings('ignore')\n",
    "import pandas as pd \n",
    "import yfinance\n",
    "\n",
    "import matplotlib.pyplot as plt\n",
    "from pylab import rcParams\n",
    "rcParams['figure.figsize'] = 22, 7\n",
    "import seaborn as sns\n",
    "sns.set()"
   ]
  },
  {
   "cell_type": "code",
   "execution_count": 64,
   "id": "4594967c",
   "metadata": {},
   "outputs": [
    {
     "name": "stdout",
     "output_type": "stream",
     "text": [
      "[*********************100%***********************]  1 of 1 completed\n"
     ]
    },
    {
     "data": {
      "text/html": [
       "<div>\n",
       "<style scoped>\n",
       "    .dataframe tbody tr th:only-of-type {\n",
       "        vertical-align: middle;\n",
       "    }\n",
       "\n",
       "    .dataframe tbody tr th {\n",
       "        vertical-align: top;\n",
       "    }\n",
       "\n",
       "    .dataframe thead th {\n",
       "        text-align: right;\n",
       "    }\n",
       "</style>\n",
       "<table border=\"1\" class=\"dataframe\">\n",
       "  <thead>\n",
       "    <tr style=\"text-align: right;\">\n",
       "      <th></th>\n",
       "      <th>Open</th>\n",
       "      <th>High</th>\n",
       "      <th>Low</th>\n",
       "      <th>Close</th>\n",
       "      <th>Volume</th>\n",
       "    </tr>\n",
       "    <tr>\n",
       "      <th>Date</th>\n",
       "      <th></th>\n",
       "      <th></th>\n",
       "      <th></th>\n",
       "      <th></th>\n",
       "      <th></th>\n",
       "    </tr>\n",
       "  </thead>\n",
       "  <tbody>\n",
       "    <tr>\n",
       "      <th>1998-07-22</th>\n",
       "      <td>33.009003</td>\n",
       "      <td>34.005072</td>\n",
       "      <td>33.009003</td>\n",
       "      <td>33.766056</td>\n",
       "      <td>56336</td>\n",
       "    </tr>\n",
       "    <tr>\n",
       "      <th>1998-07-23</th>\n",
       "      <td>34.138089</td>\n",
       "      <td>34.403602</td>\n",
       "      <td>32.278446</td>\n",
       "      <td>32.278446</td>\n",
       "      <td>95571</td>\n",
       "    </tr>\n",
       "    <tr>\n",
       "      <th>1998-07-24</th>\n",
       "      <td>31.879916</td>\n",
       "      <td>32.543962</td>\n",
       "      <td>31.295368</td>\n",
       "      <td>32.145432</td>\n",
       "      <td>154423</td>\n",
       "    </tr>\n",
       "    <tr>\n",
       "      <th>1998-07-27</th>\n",
       "      <td>32.145429</td>\n",
       "      <td>32.411463</td>\n",
       "      <td>31.082852</td>\n",
       "      <td>31.215868</td>\n",
       "      <td>62875</td>\n",
       "    </tr>\n",
       "    <tr>\n",
       "      <th>1998-07-28</th>\n",
       "      <td>30.950353</td>\n",
       "      <td>32.118928</td>\n",
       "      <td>30.232789</td>\n",
       "      <td>30.471804</td>\n",
       "      <td>116194</td>\n",
       "    </tr>\n",
       "    <tr>\n",
       "      <th>...</th>\n",
       "      <td>...</td>\n",
       "      <td>...</td>\n",
       "      <td>...</td>\n",
       "      <td>...</td>\n",
       "      <td>...</td>\n",
       "    </tr>\n",
       "    <tr>\n",
       "      <th>2021-08-25</th>\n",
       "      <td>199.380005</td>\n",
       "      <td>202.250000</td>\n",
       "      <td>198.000000</td>\n",
       "      <td>199.699997</td>\n",
       "      <td>559333</td>\n",
       "    </tr>\n",
       "    <tr>\n",
       "      <th>2021-08-26</th>\n",
       "      <td>198.600006</td>\n",
       "      <td>201.449997</td>\n",
       "      <td>197.520004</td>\n",
       "      <td>200.000000</td>\n",
       "      <td>621505</td>\n",
       "    </tr>\n",
       "    <tr>\n",
       "      <th>2021-08-27</th>\n",
       "      <td>200.050003</td>\n",
       "      <td>200.800003</td>\n",
       "      <td>198.699997</td>\n",
       "      <td>200.750000</td>\n",
       "      <td>458406</td>\n",
       "    </tr>\n",
       "    <tr>\n",
       "      <th>2021-08-30</th>\n",
       "      <td>201.350006</td>\n",
       "      <td>202.250000</td>\n",
       "      <td>200.800003</td>\n",
       "      <td>201.000000</td>\n",
       "      <td>305524</td>\n",
       "    </tr>\n",
       "    <tr>\n",
       "      <th>2021-08-31</th>\n",
       "      <td>202.350006</td>\n",
       "      <td>203.850006</td>\n",
       "      <td>201.600006</td>\n",
       "      <td>203.250000</td>\n",
       "      <td>169266</td>\n",
       "    </tr>\n",
       "  </tbody>\n",
       "</table>\n",
       "<p>5898 rows × 5 columns</p>\n",
       "</div>"
      ],
      "text/plain": [
       "                  Open        High         Low       Close  Volume\n",
       "Date                                                              \n",
       "1998-07-22   33.009003   34.005072   33.009003   33.766056   56336\n",
       "1998-07-23   34.138089   34.403602   32.278446   32.278446   95571\n",
       "1998-07-24   31.879916   32.543962   31.295368   32.145432  154423\n",
       "1998-07-27   32.145429   32.411463   31.082852   31.215868   62875\n",
       "1998-07-28   30.950353   32.118928   30.232789   30.471804  116194\n",
       "...                ...         ...         ...         ...     ...\n",
       "2021-08-25  199.380005  202.250000  198.000000  199.699997  559333\n",
       "2021-08-26  198.600006  201.449997  197.520004  200.000000  621505\n",
       "2021-08-27  200.050003  200.800003  198.699997  200.750000  458406\n",
       "2021-08-30  201.350006  202.250000  200.800003  201.000000  305524\n",
       "2021-08-31  202.350006  203.850006  201.600006  203.250000  169266\n",
       "\n",
       "[5898 rows x 5 columns]"
      ]
     },
     "execution_count": 64,
     "metadata": {},
     "output_type": "execute_result"
    }
   ],
   "source": [
    "raw_data = yfinance.download(tickers= \"VOW3.DE\", interval= \"1d\",\n",
    "                             group_by='ticker', auto_adjust=True, treads=True)\n",
    "df= raw_data.copy()\n",
    "df"
   ]
  },
  {
   "cell_type": "markdown",
   "id": "daa6f885",
   "metadata": {},
   "source": [
    "## Defining Key Dates"
   ]
  },
  {
   "cell_type": "code",
   "execution_count": 65,
   "id": "3317a6f1",
   "metadata": {},
   "outputs": [],
   "source": [
    "## Starting Dates\n",
    "start_date = \"2009-04-05\"\n",
    "\n",
    "# First official Announcement - 49.9 %\n",
    "ann_1 = \"2009-12-09\"\n",
    "\n",
    "# Second Official Announcement - 50.1 %\n",
    "ann_2 = '2012-07-05'\n",
    "\n",
    "#Ending Date\n",
    "end_date = \"2014-01-01\"\n",
    "\n",
    "#Dieselgate Scandle\n",
    "d_gate = \"2015-09-20\""
   ]
  },
  {
   "cell_type": "markdown",
   "id": "fc683743",
   "metadata": {},
   "source": [
    "## Data Preporcessing"
   ]
  },
  {
   "cell_type": "code",
   "execution_count": 66,
   "id": "e99149ca",
   "metadata": {},
   "outputs": [],
   "source": [
    "# Creating returns\n",
    "#f['Return'] = df.Close.pct_change(1).mul(100)\n",
    "\n",
    "# Creating Squared Returns \n",
    "#f['Return_sq'] = df.Return.mul(df.Return)\n",
    "\n",
    "#Assigning the frequencies and filling na values \n",
    "df = df.asfreq('b')\n",
    "df = df.fillna(method='ffill')\n",
    "\n",
    "#Getting Day, Month and year\n",
    "df['Day'] = df.index.day\n",
    "df['Month'] = df.index.month\n",
    "df['Year'] = df.index.year"
   ]
  },
  {
   "cell_type": "code",
   "execution_count": 67,
   "id": "24d679a7",
   "metadata": {},
   "outputs": [
    {
     "data": {
      "text/html": [
       "<div>\n",
       "<style scoped>\n",
       "    .dataframe tbody tr th:only-of-type {\n",
       "        vertical-align: middle;\n",
       "    }\n",
       "\n",
       "    .dataframe tbody tr th {\n",
       "        vertical-align: top;\n",
       "    }\n",
       "\n",
       "    .dataframe thead th {\n",
       "        text-align: right;\n",
       "    }\n",
       "</style>\n",
       "<table border=\"1\" class=\"dataframe\">\n",
       "  <thead>\n",
       "    <tr style=\"text-align: right;\">\n",
       "      <th></th>\n",
       "      <th>Close</th>\n",
       "      <th>Day</th>\n",
       "      <th>Month</th>\n",
       "      <th>Year</th>\n",
       "    </tr>\n",
       "    <tr>\n",
       "      <th>Date</th>\n",
       "      <th></th>\n",
       "      <th></th>\n",
       "      <th></th>\n",
       "      <th></th>\n",
       "    </tr>\n",
       "  </thead>\n",
       "  <tbody>\n",
       "    <tr>\n",
       "      <th>1998-07-22</th>\n",
       "      <td>33.766056</td>\n",
       "      <td>22</td>\n",
       "      <td>7</td>\n",
       "      <td>1998</td>\n",
       "    </tr>\n",
       "    <tr>\n",
       "      <th>1998-07-23</th>\n",
       "      <td>32.278446</td>\n",
       "      <td>23</td>\n",
       "      <td>7</td>\n",
       "      <td>1998</td>\n",
       "    </tr>\n",
       "    <tr>\n",
       "      <th>1998-07-24</th>\n",
       "      <td>32.145432</td>\n",
       "      <td>24</td>\n",
       "      <td>7</td>\n",
       "      <td>1998</td>\n",
       "    </tr>\n",
       "    <tr>\n",
       "      <th>1998-07-27</th>\n",
       "      <td>31.215868</td>\n",
       "      <td>27</td>\n",
       "      <td>7</td>\n",
       "      <td>1998</td>\n",
       "    </tr>\n",
       "    <tr>\n",
       "      <th>1998-07-28</th>\n",
       "      <td>30.471804</td>\n",
       "      <td>28</td>\n",
       "      <td>7</td>\n",
       "      <td>1998</td>\n",
       "    </tr>\n",
       "    <tr>\n",
       "      <th>...</th>\n",
       "      <td>...</td>\n",
       "      <td>...</td>\n",
       "      <td>...</td>\n",
       "      <td>...</td>\n",
       "    </tr>\n",
       "    <tr>\n",
       "      <th>2021-08-25</th>\n",
       "      <td>199.699997</td>\n",
       "      <td>25</td>\n",
       "      <td>8</td>\n",
       "      <td>2021</td>\n",
       "    </tr>\n",
       "    <tr>\n",
       "      <th>2021-08-26</th>\n",
       "      <td>200.000000</td>\n",
       "      <td>26</td>\n",
       "      <td>8</td>\n",
       "      <td>2021</td>\n",
       "    </tr>\n",
       "    <tr>\n",
       "      <th>2021-08-27</th>\n",
       "      <td>200.750000</td>\n",
       "      <td>27</td>\n",
       "      <td>8</td>\n",
       "      <td>2021</td>\n",
       "    </tr>\n",
       "    <tr>\n",
       "      <th>2021-08-30</th>\n",
       "      <td>201.000000</td>\n",
       "      <td>30</td>\n",
       "      <td>8</td>\n",
       "      <td>2021</td>\n",
       "    </tr>\n",
       "    <tr>\n",
       "      <th>2021-08-31</th>\n",
       "      <td>203.250000</td>\n",
       "      <td>31</td>\n",
       "      <td>8</td>\n",
       "      <td>2021</td>\n",
       "    </tr>\n",
       "  </tbody>\n",
       "</table>\n",
       "<p>6030 rows × 4 columns</p>\n",
       "</div>"
      ],
      "text/plain": [
       "                 Close  Day  Month  Year\n",
       "Date                                    \n",
       "1998-07-22   33.766056   22      7  1998\n",
       "1998-07-23   32.278446   23      7  1998\n",
       "1998-07-24   32.145432   24      7  1998\n",
       "1998-07-27   31.215868   27      7  1998\n",
       "1998-07-28   30.471804   28      7  1998\n",
       "...                ...  ...    ...   ...\n",
       "2021-08-25  199.699997   25      8  2021\n",
       "2021-08-26  200.000000   26      8  2021\n",
       "2021-08-27  200.750000   27      8  2021\n",
       "2021-08-30  201.000000   30      8  2021\n",
       "2021-08-31  203.250000   31      8  2021\n",
       "\n",
       "[6030 rows x 4 columns]"
      ]
     },
     "execution_count": 67,
     "metadata": {},
     "output_type": "execute_result"
    }
   ],
   "source": [
    "df = df[['Close', 'Day', 'Month', 'Year']]\n",
    "df"
   ]
  },
  {
   "cell_type": "code",
   "execution_count": 68,
   "id": "125bd231",
   "metadata": {},
   "outputs": [
    {
     "data": {
      "image/png": "[encoded data removed]",
      "text/plain": [
       "<Figure size 1584x504 with 1 Axes>"
      ]
     },
     "metadata": {},
     "output_type": "display_data"
    }
   ],
   "source": [
    "df.Close.plot(color='green');"
   ]
  },
  {
   "cell_type": "code",
   "execution_count": 69,
   "id": "c3576685",
   "metadata": {},
   "outputs": [
    {
     "data": {
      "text/plain": [
       "'\\nfrom sklearn.base import BaseEstimator, TransformerMixin\\n\\nclass IndexSelector(BaseEstimator, TransformerMixin):\\n    def __init__(self):\\n        \"\"\"Return indices of a data frame for use in other estimators.\"\"\"\\n        pass\\n    \\n    def fit(self, df, y=None):\\n        return self\\n    \\n    def transform(self, df):\\n        indices = df.index\\n        return indices.values.reshape(-1, 1)\\n'"
      ]
     },
     "execution_count": 69,
     "metadata": {},
     "output_type": "execute_result"
    }
   ],
   "source": [
    "'''\n",
    "from sklearn.base import BaseEstimator, TransformerMixin\n",
    "\n",
    "class IndexSelector(BaseEstimator, TransformerMixin):\n",
    "    def __init__(self):\n",
    "        \"\"\"Return indices of a data frame for use in other estimators.\"\"\"\n",
    "        pass\n",
    "    \n",
    "    def fit(self, df, y=None):\n",
    "        return self\n",
    "    \n",
    "    def transform(self, df):\n",
    "        indices = df.index\n",
    "        return indices.values.reshape(-1, 1)\n",
    "'''"
   ]
  },
  {
   "cell_type": "code",
   "execution_count": 70,
   "id": "6bc10dca",
   "metadata": {},
   "outputs": [
    {
     "data": {
      "text/plain": [
       "'\\ndef ts_train_test_split(df, cutoff, target):\\n    \"\"\"Perform a train/test split on a data frame based on a cutoff date.\"\"\"\\n    \\n    ind = df.index < cutoff\\n    \\n    df_train = df.loc[ind]\\n    df_test = df.loc[~ind]\\n    y_train = df.loc[ind, target]\\n    y_test = df.loc[~ind, target]\\n    \\n    return df_train, df_test, y_train, y_test\\n\\ndef plot_results(df, y_pred):\\n    \"\"\"Plot predicted results and residuals.\"\"\"\\n    \\n    df.Close.plot();\\n    plt.plot(list(df.index), y_pred, \\'-r\\');\\n    plt.xlabel(\\'year\\')\\n    plt.ylabel(\\'CO2 ppm\\')\\n    plt.legend([\\'true\\', \\'predicted\\']);\\n    plt.show();\\n\\n    plt.plot(resd)\\n    plt.xlabel(\\'year\\')\\n    plt.ylabel(\\'residual\\')\\n'"
      ]
     },
     "execution_count": 70,
     "metadata": {},
     "output_type": "execute_result"
    }
   ],
   "source": [
    "'''\n",
    "def ts_train_test_split(df, cutoff, target):\n",
    "    \"\"\"Perform a train/test split on a data frame based on a cutoff date.\"\"\"\n",
    "    \n",
    "    ind = df.index < cutoff\n",
    "    \n",
    "    df_train = df.loc[ind]\n",
    "    df_test = df.loc[~ind]\n",
    "    y_train = df.loc[ind, target]\n",
    "    y_test = df.loc[~ind, target]\n",
    "    \n",
    "    return df_train, df_test, y_train, y_test\n",
    "\n",
    "def plot_results(df, y_pred):\n",
    "    \"\"\"Plot predicted results and residuals.\"\"\"\n",
    "    \n",
    "    df.Close.plot();\n",
    "    plt.plot(list(df.index), y_pred, '-r');\n",
    "    plt.xlabel('year')\n",
    "    plt.ylabel('CO2 ppm')\n",
    "    plt.legend(['true', 'predicted']);\n",
    "    plt.show();\n",
    "\n",
    "    plt.plot(resd)\n",
    "    plt.xlabel('year')\n",
    "    plt.ylabel('residual')\n",
    "'''"
   ]
  },
  {
   "cell_type": "code",
   "execution_count": 71,
   "id": "26ae2f63",
   "metadata": {},
   "outputs": [
    {
     "data": {
      "text/plain": [
       "'from sklearn.linear_model import LinearRegression\\nfrom sklearn.pipeline import Pipeline\\nfrom sklearn.preprocessing import PolynomialFeatures\\n\\n# perform train/test split\\ncutoff = \\'2019-01-01\\'\\ndf_train, df_test, y_train, y_test = ts_train_test_split(df, cutoff, \\'Close\\')\\n\\n# construct and train pipeline\\n#time = IndexSelector()\\npoly = PolynomialFeatures(degree=2)\\nlr = LinearRegression()\\npipe = Pipeline([(\\'drift\\', poly),\\n                 (\\'regressor\\', lr)])\\npipe.fit(df_train, y_train)\\n\\n# make predictions\\ny_pred = pipe.predict(df)\\nresd = df.Close - y_pred\\nprint(\"Test set R^2: {:g}\".format(pipe.score(df_test, y_test)))\\nplot_results(df, y_pred)'"
      ]
     },
     "execution_count": 71,
     "metadata": {},
     "output_type": "execute_result"
    }
   ],
   "source": [
    "'''from sklearn.linear_model import LinearRegression\n",
    "from sklearn.pipeline import Pipeline\n",
    "from sklearn.preprocessing import PolynomialFeatures\n",
    "\n",
    "# perform train/test split\n",
    "cutoff = '2019-01-01'\n",
    "df_train, df_test, y_train, y_test = ts_train_test_split(df, cutoff, 'Close')\n",
    "\n",
    "# construct and train pipeline\n",
    "#time = IndexSelector()\n",
    "poly = PolynomialFeatures(degree=2)\n",
    "lr = LinearRegression()\n",
    "pipe = Pipeline([('drift', poly),\n",
    "                 ('regressor', lr)])\n",
    "pipe.fit(df_train, y_train)\n",
    "\n",
    "# make predictions\n",
    "y_pred = pipe.predict(df)\n",
    "resd = df.Close - y_pred\n",
    "print(\"Test set R^2: {:g}\".format(pipe.score(df_test, y_test)))\n",
    "plot_results(df, y_pred)'''"
   ]
  },
  {
   "cell_type": "code",
   "execution_count": 72,
   "id": "53cf8b58",
   "metadata": {},
   "outputs": [],
   "source": [
    "from sklearn.model_selection import GridSearchCV, TimeSeriesSplit\n",
    "from sklearn.linear_model import Ridge\n",
    "import numpy as np\n",
    "from sklearn.base import BaseEstimator, TransformerMixin\n",
    "\n",
    "class FourierComponents(BaseEstimator, TransformerMixin):\n",
    "    def __init__(self, freqs):\n",
    "        \"\"\"Create features based on sin(2*pi*f*t) and cos(2*pi*f*t).\"\"\"\n",
    "        self.freqs = freqs\n",
    "    \n",
    "    def fit(self, X, y=None):\n",
    "        return self\n",
    "    \n",
    "    def transform(self, X):\n",
    "        Xt = np.zeros((X.shape[0], 2*len(self.freqs)))\n",
    "        \n",
    "        for i, f in enumerate(self.freqs):\n",
    "\n",
    "            Xt[:, 2*i]= np.cos(2*np.pi*f*X).reshape(-1)\n",
    "            Xt[:, 2*i + 1] = np.sin(2*np.pi*f*X).reshape(-1)\n",
    "    \n",
    "        return Xt"
   ]
  },
  {
   "cell_type": "code",
   "execution_count": 73,
   "id": "0277e34e",
   "metadata": {},
   "outputs": [],
   "source": [
    "fourier= FourierComponents([1/(365), 1/(2*365), 1/(260)])\n",
    "pipe = Pipeline([\n",
    "    ('fourier', fourier),\n",
    "    ('lr', GridSearchCV(Ridge(), param_grid={'alpha': np.logspace(-2,2,10)}, cv=TimeSeriesSplit(5)))\n",
    "])"
   ]
  },
  {
   "cell_type": "code",
   "execution_count": 87,
   "id": "be585cdb",
   "metadata": {},
   "outputs": [
    {
     "data": {
      "text/plain": [
       "array([[ 0.83577375,  0.54907398,  0.95806413,  0.28655388,  0.68514484,\n",
       "         0.72840685],\n",
       "       [ 0.84955889,  0.52749378,  0.96165454,  0.27426366,  0.71088254,\n",
       "         0.70331075],\n",
       "       [ 0.85076449,  0.52554713,  0.9619679 ,  0.27316251,  0.71313962,\n",
       "         0.70102203],\n",
       "       ...,\n",
       "       [-0.95105652, -0.30901699, -0.15643447,  0.98768834,  0.13850832,\n",
       "        -0.99036127],\n",
       "       [-0.94971784, -0.31310704, -0.15855939,  0.98734944,  0.14448905,\n",
       "        -0.9895064 ],\n",
       "       [-0.93688135, -0.34964746, -0.17764945,  0.98409383,  0.19805215,\n",
       "        -0.98019149]])"
      ]
     },
     "execution_count": 87,
     "metadata": {},
     "output_type": "execute_result"
    }
   ],
   "source": [
    "fourier.fit_transform(df['Close'].values)"
   ]
  },
  {
   "cell_type": "code",
   "execution_count": 79,
   "id": "d439e8d6",
   "metadata": {},
   "outputs": [
    {
     "data": {
      "text/plain": [
       "Pipeline(steps=[('fourier',\n",
       "                 FourierComponents(freqs=[0.0027397260273972603,\n",
       "                                          0.0013698630136986301,\n",
       "                                          0.0038461538461538464])),\n",
       "                ('lr',\n",
       "                 GridSearchCV(cv=TimeSeriesSplit(gap=0, max_train_size=None, n_splits=5, test_size=None),\n",
       "                              estimator=Ridge(),\n",
       "                              param_grid={'alpha': array([1.00000000e-02, 2.78255940e-02, 7.74263683e-02, 2.15443469e-01,\n",
       "       5.99484250e-01, 1.66810054e+00, 4.64158883e+00, 1.29154967e+01,\n",
       "       3.59381366e+01, 1.00000000e+02])}))])"
      ]
     },
     "execution_count": 79,
     "metadata": {},
     "output_type": "execute_result"
    }
   ],
   "source": [
    "pipe.fit(df['Close'].values, df['Close'])"
   ]
  },
  {
   "cell_type": "code",
   "execution_count": 81,
   "id": "0abeb43b",
   "metadata": {},
   "outputs": [
    {
     "data": {
      "text/html": [
       "<div>\n",
       "<style scoped>\n",
       "    .dataframe tbody tr th:only-of-type {\n",
       "        vertical-align: middle;\n",
       "    }\n",
       "\n",
       "    .dataframe tbody tr th {\n",
       "        vertical-align: top;\n",
       "    }\n",
       "\n",
       "    .dataframe thead th {\n",
       "        text-align: right;\n",
       "    }\n",
       "</style>\n",
       "<table border=\"1\" class=\"dataframe\">\n",
       "  <thead>\n",
       "    <tr style=\"text-align: right;\">\n",
       "      <th></th>\n",
       "      <th>predictions</th>\n",
       "    </tr>\n",
       "    <tr>\n",
       "      <th>Date</th>\n",
       "      <th></th>\n",
       "    </tr>\n",
       "  </thead>\n",
       "  <tbody>\n",
       "    <tr>\n",
       "      <th>1998-07-22</th>\n",
       "      <td>33.665019</td>\n",
       "    </tr>\n",
       "    <tr>\n",
       "      <th>1998-07-23</th>\n",
       "      <td>32.177680</td>\n",
       "    </tr>\n",
       "    <tr>\n",
       "      <th>1998-07-24</th>\n",
       "      <td>32.044761</td>\n",
       "    </tr>\n",
       "    <tr>\n",
       "      <th>1998-07-27</th>\n",
       "      <td>31.116208</td>\n",
       "    </tr>\n",
       "    <tr>\n",
       "      <th>1998-07-28</th>\n",
       "      <td>30.373404</td>\n",
       "    </tr>\n",
       "  </tbody>\n",
       "</table>\n",
       "</div>"
      ],
      "text/plain": [
       "            predictions\n",
       "Date                   \n",
       "1998-07-22    33.665019\n",
       "1998-07-23    32.177680\n",
       "1998-07-24    32.044761\n",
       "1998-07-27    31.116208\n",
       "1998-07-28    30.373404"
      ]
     },
     "execution_count": 81,
     "metadata": {},
     "output_type": "execute_result"
    }
   ],
   "source": [
    "pred = pd.DataFrame(pipe.predict(df['Close'].values), index = df.index, columns=['predictions'])\n",
    "pred.head()"
   ]
  },
  {
   "cell_type": "code",
   "execution_count": 82,
   "id": "e65c2fc0",
   "metadata": {},
   "outputs": [
    {
     "data": {
      "image/png": "[encoded data removed]",
      "text/plain": [
       "<Figure size 1584x504 with 1 Axes>"
      ]
     },
     "metadata": {},
     "output_type": "display_data"
    }
   ],
   "source": [
    "plt.plot(df['Close'][-20:])\n",
    "pred.predictions[-20:].plot();"
   ]
  },
  {
   "cell_type": "code",
   "execution_count": 83,
   "id": "85e3e2fe",
   "metadata": {},
   "outputs": [
    {
     "data": {
      "text/plain": [
       "0.999998594033919"
      ]
     },
     "execution_count": 83,
     "metadata": {},
     "output_type": "execute_result"
    }
   ],
   "source": [
    "pipe.score(df['Close'].values, df['Close'])"
   ]
  },
  {
   "cell_type": "code",
   "execution_count": 84,
   "id": "93c3bd64",
   "metadata": {},
   "outputs": [
    {
     "data": {
      "text/html": [
       "<div>\n",
       "<style scoped>\n",
       "    .dataframe tbody tr th:only-of-type {\n",
       "        vertical-align: middle;\n",
       "    }\n",
       "\n",
       "    .dataframe tbody tr th {\n",
       "        vertical-align: top;\n",
       "    }\n",
       "\n",
       "    .dataframe thead th {\n",
       "        text-align: right;\n",
       "    }\n",
       "</style>\n",
       "<table border=\"1\" class=\"dataframe\">\n",
       "  <thead>\n",
       "    <tr style=\"text-align: right;\">\n",
       "      <th></th>\n",
       "      <th>Close</th>\n",
       "      <th>Day</th>\n",
       "      <th>Month</th>\n",
       "      <th>Year</th>\n",
       "    </tr>\n",
       "    <tr>\n",
       "      <th>Date</th>\n",
       "      <th></th>\n",
       "      <th></th>\n",
       "      <th></th>\n",
       "      <th></th>\n",
       "    </tr>\n",
       "  </thead>\n",
       "  <tbody>\n",
       "    <tr>\n",
       "      <th>2019-01-01</th>\n",
       "      <td>126.618492</td>\n",
       "      <td>1</td>\n",
       "      <td>1</td>\n",
       "      <td>2019</td>\n",
       "    </tr>\n",
       "    <tr>\n",
       "      <th>2019-01-02</th>\n",
       "      <td>124.194031</td>\n",
       "      <td>2</td>\n",
       "      <td>1</td>\n",
       "      <td>2019</td>\n",
       "    </tr>\n",
       "    <tr>\n",
       "      <th>2019-01-03</th>\n",
       "      <td>122.826851</td>\n",
       "      <td>3</td>\n",
       "      <td>1</td>\n",
       "      <td>2019</td>\n",
       "    </tr>\n",
       "    <tr>\n",
       "      <th>2019-01-04</th>\n",
       "      <td>128.040359</td>\n",
       "      <td>4</td>\n",
       "      <td>1</td>\n",
       "      <td>2019</td>\n",
       "    </tr>\n",
       "    <tr>\n",
       "      <th>2019-01-07</th>\n",
       "      <td>128.186188</td>\n",
       "      <td>7</td>\n",
       "      <td>1</td>\n",
       "      <td>2019</td>\n",
       "    </tr>\n",
       "    <tr>\n",
       "      <th>...</th>\n",
       "      <td>...</td>\n",
       "      <td>...</td>\n",
       "      <td>...</td>\n",
       "      <td>...</td>\n",
       "    </tr>\n",
       "    <tr>\n",
       "      <th>2021-08-25</th>\n",
       "      <td>199.699997</td>\n",
       "      <td>25</td>\n",
       "      <td>8</td>\n",
       "      <td>2021</td>\n",
       "    </tr>\n",
       "    <tr>\n",
       "      <th>2021-08-26</th>\n",
       "      <td>200.000000</td>\n",
       "      <td>26</td>\n",
       "      <td>8</td>\n",
       "      <td>2021</td>\n",
       "    </tr>\n",
       "    <tr>\n",
       "      <th>2021-08-27</th>\n",
       "      <td>200.750000</td>\n",
       "      <td>27</td>\n",
       "      <td>8</td>\n",
       "      <td>2021</td>\n",
       "    </tr>\n",
       "    <tr>\n",
       "      <th>2021-08-30</th>\n",
       "      <td>201.000000</td>\n",
       "      <td>30</td>\n",
       "      <td>8</td>\n",
       "      <td>2021</td>\n",
       "    </tr>\n",
       "    <tr>\n",
       "      <th>2021-08-31</th>\n",
       "      <td>202.699997</td>\n",
       "      <td>31</td>\n",
       "      <td>8</td>\n",
       "      <td>2021</td>\n",
       "    </tr>\n",
       "  </tbody>\n",
       "</table>\n",
       "<p>696 rows × 4 columns</p>\n",
       "</div>"
      ],
      "text/plain": [
       "                 Close  Day  Month  Year\n",
       "Date                                    \n",
       "2019-01-01  126.618492    1      1  2019\n",
       "2019-01-02  124.194031    2      1  2019\n",
       "2019-01-03  122.826851    3      1  2019\n",
       "2019-01-04  128.040359    4      1  2019\n",
       "2019-01-07  128.186188    7      1  2019\n",
       "...                ...  ...    ...   ...\n",
       "2021-08-25  199.699997   25      8  2021\n",
       "2021-08-26  200.000000   26      8  2021\n",
       "2021-08-27  200.750000   27      8  2021\n",
       "2021-08-30  201.000000   30      8  2021\n",
       "2021-08-31  202.699997   31      8  2021\n",
       "\n",
       "[696 rows x 4 columns]"
      ]
     },
     "execution_count": 84,
     "metadata": {},
     "output_type": "execute_result"
    }
   ],
   "source": [
    "df_test"
   ]
  },
  {
   "cell_type": "code",
   "execution_count": null,
   "id": "e33137f5",
   "metadata": {},
   "outputs": [],
   "source": []
  }
 ],
 "metadata": {
  "hide_input": false,
  "kernelspec": {
   "display_name": "Python 3",
   "language": "python",
   "name": "python3"
  },
  "language_info": {
   "codemirror_mode": {
    "name": "ipython",
    "version": 3
   },
   "file_extension": ".py",
   "mimetype": "text/x-python",
   "name": "python",
   "nbconvert_exporter": "python",
   "pygments_lexer": "ipython3",
   "version": "3.7.6"
  }
 },
 "nbformat": 4,
 "nbformat_minor": 5
}
