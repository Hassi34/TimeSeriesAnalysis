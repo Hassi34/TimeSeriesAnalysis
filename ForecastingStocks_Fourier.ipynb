{
 "cells": [
  {
   "cell_type": "code",
   "execution_count": 4,
   "id": "edab7439",
   "metadata": {},
   "outputs": [
    {
     "data": {
      "text/html": [
       "<style>.container {width: 100% !important; }</style>"
      ],
      "text/plain": [
       "<IPython.core.display.HTML object>"
      ]
     },
     "metadata": {},
     "output_type": "display_data"
    }
   ],
   "source": [
    "from IPython.core.display import display, HTML\n",
    "display(HTML(\"<style>.container {width: 100% !important; }</style>\"))"
   ]
  },
  {
   "cell_type": "markdown",
   "id": "5a66b04d",
   "metadata": {},
   "source": [
    "## Forecasting Stock Prices of Volkswagen"
   ]
  },
  {
   "cell_type": "code",
   "execution_count": 2,
   "id": "12407963",
   "metadata": {},
   "outputs": [],
   "source": [
    "import warnings\n",
    "warnings.filterwarnings('ignore')\n",
    "import pandas as pd \n",
    "import yfinance"
   ]
  },
  {
   "cell_type": "code",
   "execution_count": 3,
   "id": "c0619b04",
   "metadata": {},
   "outputs": [
    {
     "name": "stdout",
     "output_type": "stream",
     "text": [
      "[*********************100%***********************]  1 of 1 completed\n"
     ]
    },
    {
     "data": {
      "text/html": [
       "<div>\n",
       "<style scoped>\n",
       "    .dataframe tbody tr th:only-of-type {\n",
       "        vertical-align: middle;\n",
       "    }\n",
       "\n",
       "    .dataframe tbody tr th {\n",
       "        vertical-align: top;\n",
       "    }\n",
       "\n",
       "    .dataframe thead th {\n",
       "        text-align: right;\n",
       "    }\n",
       "</style>\n",
       "<table border=\"1\" class=\"dataframe\">\n",
       "  <thead>\n",
       "    <tr style=\"text-align: right;\">\n",
       "      <th></th>\n",
       "      <th>Open</th>\n",
       "      <th>High</th>\n",
       "      <th>Low</th>\n",
       "      <th>Close</th>\n",
       "      <th>Volume</th>\n",
       "    </tr>\n",
       "    <tr>\n",
       "      <th>Date</th>\n",
       "      <th></th>\n",
       "      <th></th>\n",
       "      <th></th>\n",
       "      <th></th>\n",
       "      <th></th>\n",
       "    </tr>\n",
       "  </thead>\n",
       "  <tbody>\n",
       "    <tr>\n",
       "      <th>1998-07-22</th>\n",
       "      <td>33.009003</td>\n",
       "      <td>34.005072</td>\n",
       "      <td>33.009003</td>\n",
       "      <td>33.766056</td>\n",
       "      <td>56336</td>\n",
       "    </tr>\n",
       "    <tr>\n",
       "      <th>1998-07-23</th>\n",
       "      <td>34.138089</td>\n",
       "      <td>34.403602</td>\n",
       "      <td>32.278446</td>\n",
       "      <td>32.278446</td>\n",
       "      <td>95571</td>\n",
       "    </tr>\n",
       "    <tr>\n",
       "      <th>1998-07-24</th>\n",
       "      <td>31.879916</td>\n",
       "      <td>32.543962</td>\n",
       "      <td>31.295368</td>\n",
       "      <td>32.145432</td>\n",
       "      <td>154423</td>\n",
       "    </tr>\n",
       "    <tr>\n",
       "      <th>1998-07-27</th>\n",
       "      <td>32.145429</td>\n",
       "      <td>32.411463</td>\n",
       "      <td>31.082852</td>\n",
       "      <td>31.215868</td>\n",
       "      <td>62875</td>\n",
       "    </tr>\n",
       "    <tr>\n",
       "      <th>1998-07-28</th>\n",
       "      <td>30.950353</td>\n",
       "      <td>32.118928</td>\n",
       "      <td>30.232789</td>\n",
       "      <td>30.471804</td>\n",
       "      <td>116194</td>\n",
       "    </tr>\n",
       "    <tr>\n",
       "      <th>...</th>\n",
       "      <td>...</td>\n",
       "      <td>...</td>\n",
       "      <td>...</td>\n",
       "      <td>...</td>\n",
       "      <td>...</td>\n",
       "    </tr>\n",
       "    <tr>\n",
       "      <th>2021-08-25</th>\n",
       "      <td>199.380005</td>\n",
       "      <td>202.250000</td>\n",
       "      <td>198.000000</td>\n",
       "      <td>199.699997</td>\n",
       "      <td>559333</td>\n",
       "    </tr>\n",
       "    <tr>\n",
       "      <th>2021-08-26</th>\n",
       "      <td>198.600006</td>\n",
       "      <td>201.449997</td>\n",
       "      <td>197.520004</td>\n",
       "      <td>200.000000</td>\n",
       "      <td>621505</td>\n",
       "    </tr>\n",
       "    <tr>\n",
       "      <th>2021-08-27</th>\n",
       "      <td>200.050003</td>\n",
       "      <td>200.800003</td>\n",
       "      <td>198.699997</td>\n",
       "      <td>200.750000</td>\n",
       "      <td>458406</td>\n",
       "    </tr>\n",
       "    <tr>\n",
       "      <th>2021-08-30</th>\n",
       "      <td>201.350006</td>\n",
       "      <td>202.250000</td>\n",
       "      <td>200.800003</td>\n",
       "      <td>201.000000</td>\n",
       "      <td>305524</td>\n",
       "    </tr>\n",
       "    <tr>\n",
       "      <th>2021-08-31</th>\n",
       "      <td>202.350006</td>\n",
       "      <td>203.850006</td>\n",
       "      <td>201.600006</td>\n",
       "      <td>202.149994</td>\n",
       "      <td>109119</td>\n",
       "    </tr>\n",
       "  </tbody>\n",
       "</table>\n",
       "<p>5898 rows × 5 columns</p>\n",
       "</div>"
      ],
      "text/plain": [
       "                  Open        High         Low       Close  Volume\n",
       "Date                                                              \n",
       "1998-07-22   33.009003   34.005072   33.009003   33.766056   56336\n",
       "1998-07-23   34.138089   34.403602   32.278446   32.278446   95571\n",
       "1998-07-24   31.879916   32.543962   31.295368   32.145432  154423\n",
       "1998-07-27   32.145429   32.411463   31.082852   31.215868   62875\n",
       "1998-07-28   30.950353   32.118928   30.232789   30.471804  116194\n",
       "...                ...         ...         ...         ...     ...\n",
       "2021-08-25  199.380005  202.250000  198.000000  199.699997  559333\n",
       "2021-08-26  198.600006  201.449997  197.520004  200.000000  621505\n",
       "2021-08-27  200.050003  200.800003  198.699997  200.750000  458406\n",
       "2021-08-30  201.350006  202.250000  200.800003  201.000000  305524\n",
       "2021-08-31  202.350006  203.850006  201.600006  202.149994  109119\n",
       "\n",
       "[5898 rows x 5 columns]"
      ]
     },
     "execution_count": 3,
     "metadata": {},
     "output_type": "execute_result"
    }
   ],
   "source": [
    "raw_data = yfinance.download(tickers= \"VOW3.DE\", interval= \"1d\",\n",
    "                             group_by='ticker', auto_adjust=True, treads=True)\n",
    "df= raw_data.copy()\n",
    "df"
   ]
  },
  {
   "cell_type": "markdown",
   "id": "d2f6debd",
   "metadata": {},
   "source": [
    "## Defining Key Dates"
   ]
  },
  {
   "cell_type": "code",
   "execution_count": 5,
   "id": "bd0034cf",
   "metadata": {},
   "outputs": [],
   "source": [
    "## Starting Dates\n",
    "start_date = \"2009-04-05\"\n",
    "\n",
    "# First official Announcement - 49.9 %\n",
    "ann_1 = \"2009-12-09\"\n",
    "\n",
    "# Second Official Announcement - 50.1 %\n",
    "ann_2 = '2012-07-05'\n",
    "\n",
    "#Ending Date\n",
    "end_date = \"2014-01-01\"\n",
    "\n",
    "#Dieselgate Scandle\n",
    "d_gate = \"2015-09-20\""
   ]
  },
  {
   "cell_type": "markdown",
   "id": "42f21ab9",
   "metadata": {},
   "source": [
    "## Data Preporcessing"
   ]
  },
  {
   "cell_type": "code",
   "execution_count": 6,
   "id": "2fcd1ccb",
   "metadata": {},
   "outputs": [
    {
     "data": {
      "text/plain": [
       "Index(['Open', 'High', 'Low', 'Close', 'Volume'], dtype='object')"
      ]
     },
     "execution_count": 6,
     "metadata": {},
     "output_type": "execute_result"
    }
   ],
   "source": [
    "df.columns"
   ]
  },
  {
   "cell_type": "code",
   "execution_count": 7,
   "id": "2823b42a",
   "metadata": {},
   "outputs": [],
   "source": [
    "# Creating returns\n",
    "df['Return'] = df.Close.pct_change(1).mul(100)\n",
    "\n",
    "# Creating Squared Returns \n",
    "df['Return_sq'] = df.Return.mul(df.Return)\n",
    "\n",
    "#Assigning the frequencies and filling na values \n",
    "df = df.asfreq('b')\n",
    "df = df.fillna(method='ffill')\n",
    "\n",
    "#Removing Surplus Data\n",
    "#l df['VOW3.DE'], df['PAH3.DE'], df['BMW.DE']"
   ]
  },
  {
   "cell_type": "code",
   "execution_count": 10,
   "id": "6f69afac",
   "metadata": {},
   "outputs": [
    {
     "data": {
      "text/html": [
       "<div>\n",
       "<style scoped>\n",
       "    .dataframe tbody tr th:only-of-type {\n",
       "        vertical-align: middle;\n",
       "    }\n",
       "\n",
       "    .dataframe tbody tr th {\n",
       "        vertical-align: top;\n",
       "    }\n",
       "\n",
       "    .dataframe thead th {\n",
       "        text-align: right;\n",
       "    }\n",
       "</style>\n",
       "<table border=\"1\" class=\"dataframe\">\n",
       "  <thead>\n",
       "    <tr style=\"text-align: right;\">\n",
       "      <th></th>\n",
       "      <th>Close</th>\n",
       "      <th>Volume</th>\n",
       "      <th>Return</th>\n",
       "      <th>Return_sq</th>\n",
       "    </tr>\n",
       "    <tr>\n",
       "      <th>Date</th>\n",
       "      <th></th>\n",
       "      <th></th>\n",
       "      <th></th>\n",
       "      <th></th>\n",
       "    </tr>\n",
       "  </thead>\n",
       "  <tbody>\n",
       "    <tr>\n",
       "      <th>1998-07-22</th>\n",
       "      <td>33.766056</td>\n",
       "      <td>56336.0</td>\n",
       "      <td>NaN</td>\n",
       "      <td>NaN</td>\n",
       "    </tr>\n",
       "    <tr>\n",
       "      <th>1998-07-23</th>\n",
       "      <td>32.278446</td>\n",
       "      <td>95571.0</td>\n",
       "      <td>-4.405637</td>\n",
       "      <td>19.409637</td>\n",
       "    </tr>\n",
       "    <tr>\n",
       "      <th>1998-07-24</th>\n",
       "      <td>32.145432</td>\n",
       "      <td>154423.0</td>\n",
       "      <td>-0.412085</td>\n",
       "      <td>0.169814</td>\n",
       "    </tr>\n",
       "    <tr>\n",
       "      <th>1998-07-27</th>\n",
       "      <td>31.215868</td>\n",
       "      <td>62875.0</td>\n",
       "      <td>-2.891744</td>\n",
       "      <td>8.362182</td>\n",
       "    </tr>\n",
       "    <tr>\n",
       "      <th>1998-07-28</th>\n",
       "      <td>30.471804</td>\n",
       "      <td>116194.0</td>\n",
       "      <td>-2.383609</td>\n",
       "      <td>5.681593</td>\n",
       "    </tr>\n",
       "    <tr>\n",
       "      <th>...</th>\n",
       "      <td>...</td>\n",
       "      <td>...</td>\n",
       "      <td>...</td>\n",
       "      <td>...</td>\n",
       "    </tr>\n",
       "    <tr>\n",
       "      <th>2021-08-25</th>\n",
       "      <td>199.699997</td>\n",
       "      <td>559333.0</td>\n",
       "      <td>0.472933</td>\n",
       "      <td>0.223666</td>\n",
       "    </tr>\n",
       "    <tr>\n",
       "      <th>2021-08-26</th>\n",
       "      <td>200.000000</td>\n",
       "      <td>621505.0</td>\n",
       "      <td>0.150227</td>\n",
       "      <td>0.022568</td>\n",
       "    </tr>\n",
       "    <tr>\n",
       "      <th>2021-08-27</th>\n",
       "      <td>200.750000</td>\n",
       "      <td>458406.0</td>\n",
       "      <td>0.375000</td>\n",
       "      <td>0.140625</td>\n",
       "    </tr>\n",
       "    <tr>\n",
       "      <th>2021-08-30</th>\n",
       "      <td>201.000000</td>\n",
       "      <td>305524.0</td>\n",
       "      <td>0.124533</td>\n",
       "      <td>0.015508</td>\n",
       "    </tr>\n",
       "    <tr>\n",
       "      <th>2021-08-31</th>\n",
       "      <td>202.149994</td>\n",
       "      <td>109119.0</td>\n",
       "      <td>0.572136</td>\n",
       "      <td>0.327340</td>\n",
       "    </tr>\n",
       "  </tbody>\n",
       "</table>\n",
       "<p>6030 rows × 4 columns</p>\n",
       "</div>"
      ],
      "text/plain": [
       "                 Close    Volume    Return  Return_sq\n",
       "Date                                                 \n",
       "1998-07-22   33.766056   56336.0       NaN        NaN\n",
       "1998-07-23   32.278446   95571.0 -4.405637  19.409637\n",
       "1998-07-24   32.145432  154423.0 -0.412085   0.169814\n",
       "1998-07-27   31.215868   62875.0 -2.891744   8.362182\n",
       "1998-07-28   30.471804  116194.0 -2.383609   5.681593\n",
       "...                ...       ...       ...        ...\n",
       "2021-08-25  199.699997  559333.0  0.472933   0.223666\n",
       "2021-08-26  200.000000  621505.0  0.150227   0.022568\n",
       "2021-08-27  200.750000  458406.0  0.375000   0.140625\n",
       "2021-08-30  201.000000  305524.0  0.124533   0.015508\n",
       "2021-08-31  202.149994  109119.0  0.572136   0.327340\n",
       "\n",
       "[6030 rows x 4 columns]"
      ]
     },
     "execution_count": 10,
     "metadata": {},
     "output_type": "execute_result"
    }
   ],
   "source": [
    "df = df[['Close', 'Volume', 'Return', 'Return_sq']]\n",
    "df"
   ]
  },
  {
   "cell_type": "code",
   "execution_count": null,
   "id": "c162fc02",
   "metadata": {},
   "outputs": [],
   "source": [
    "df.Close.plot(figsize=)"
   ]
  }
 ],
 "metadata": {
  "hide_input": false,
  "kernelspec": {
   "display_name": "Python 3",
   "language": "python",
   "name": "python3"
  },
  "language_info": {
   "codemirror_mode": {
    "name": "ipython",
    "version": 3
   },
   "file_extension": ".py",
   "mimetype": "text/x-python",
   "name": "python",
   "nbconvert_exporter": "python",
   "pygments_lexer": "ipython3",
   "version": "3.7.6"
  }
 },
 "nbformat": 4,
 "nbformat_minor": 5
}
